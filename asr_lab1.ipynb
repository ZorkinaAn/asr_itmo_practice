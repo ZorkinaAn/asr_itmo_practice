{
 "cells": [
  {
   "cell_type": "markdown",
   "id": "7e5b3f1c-f656-4b44-9385-7bfcd1558469",
   "metadata": {},
   "source": [
    "# Лабораторная работа 1. Подсчет ошибки распознавания"
   ]
  },
  {
   "cell_type": "markdown",
   "id": "8e5c72b7-e242-412c-851c-02479bff8773",
   "metadata": {},
   "source": [
    "WER (Word Error Rate) является метрикой для оценки качества систем распознавания речи. Она показывает процент ошибочных слов в гипотезе распознавания по сравнению с эталонным текстом. WER учитывает три типа ошибок: вставки, удаления и замены. \n",
    "$$ WER = {I + D + S \\over D + S + C} $$\n",
    "где I, D, S - количество втавок, удалений и замен, соответственно. C - количество правильно распознанных слов"
   ]
  },
  {
   "cell_type": "markdown",
   "id": "aa45f820-960d-47bd-bd7d-9bd284a239d7",
   "metadata": {},
   "source": [
    "Лабораторная работа состоит из трех частей. Первая часть (функция подсчета WER) обязательная, остальные дополнительные. Всего за работу можно получить максимум 20 баллов. 4 за сдачу в срок и 16 за задания: \n",
    "* функция подсчета WER (тест 1.a, 1.b) - 8 баллов\n",
    "* функция подсчета WER и ошибки пунктуации (тест 2.a) - 4 балла\n",
    "* функция подсчета SA-WER (тест 3.а) - 4 балла"
   ]
  },
  {
   "cell_type": "markdown",
   "id": "e7765f57-93d1-4310-b2c6-b88189c16099",
   "metadata": {},
   "source": [
    "# 1. Word Error Rate (8 баллов)"
   ]
  },
  {
   "cell_type": "markdown",
   "id": "1af47bb7-3c52-4d0f-aa72-426bad9089fc",
   "metadata": {},
   "source": [
    "## 1.a. подсчет WER \n",
    "\n",
    "\n",
    "Функция должна принимать две строки в качестве входных данных: эталонный текст и распознанный текст. Эталонный текст - это то, что произносится в аудиозаписи, а гипотеза распознавания - это текст, полученный от системы распознавания речи. Для корректного вычисления ошибки распознавания необходимо удалить все символы пунктуации и привести все слова к нижнему регистру.\n",
    "\n"
   ]
  },
  {
   "cell_type": "code",
   "execution_count": 4,
   "id": "eb344163",
   "metadata": {},
   "outputs": [],
   "source": [
    "import string\n",
    "import pymorphy2"
   ]
  },
  {
   "cell_type": "code",
   "execution_count": 16,
   "id": "06e89202-5b26-4a55-b3a0-2e1996d07552",
   "metadata": {},
   "outputs": [
    {
     "name": "stdout",
     "output_type": "stream",
     "text": [
      "['я', 'ел', 'солонину']\n",
      "['я', 'ел', 'слона']\n",
      "[[0, 1, 2, 3], [1, 0, 1, 2], [2, 1, 0, 1], [3, 2, 1, 1]]\n",
      "Word Error Rate: 33.33%\n"
     ]
    }
   ],
   "source": [
    "def calculate_wer(reference_text: str, recognized_text: str) -> float:\n",
    "    # Приведение текста к нижнему регистру, удаление символов пунктуации и разбивка на слова\n",
    "    translator = str.maketrans(\"\", \"\", string.punctuation)\n",
    "    reference_words = reference_text.translate(translator).lower().split()\n",
    "    recognized_words = recognized_text.translate(translator).lower().split()\n",
    "    \n",
    "    #recognized_words = [i[:-2] for i in recognized_words]\n",
    "    #reference_words = [i[:-2] for i in reference_words]\n",
    "    \n",
    "    #morph = pymorphy2.MorphAnalyzer()\n",
    "    #reference_words = [morph.parse(word)[0].normal_form for word in reference_words]\n",
    "    #recognized_words = [morph.parse(word)[0].normal_form for word in recognized_words]\n",
    "    \n",
    "    print(reference_words)\n",
    "    print(recognized_words)\n",
    "    \n",
    "    # расстояние Левенштейна \n",
    "    \n",
    "    # Инициализация матрицы для подсчета расстояния между словами\n",
    "    distance_matrix = [[0] * (len(recognized_words) + 1) for _ in range(len(reference_words) + 1)]\n",
    "    # Наполнение первой строки матрицы\n",
    "    for i in range(len(reference_words) + 1):\n",
    "        distance_matrix[i][0] = i\n",
    "\n",
    "    # Наполнение первого столбца матрицы\n",
    "    for j in range(len(recognized_words) + 1):\n",
    "        distance_matrix[0][j] = j\n",
    "\n",
    "    #Заполнение матрицы расстояний методом динамического программирования\n",
    "    for i in range(1, len(reference_words) + 1):\n",
    "        for j in range(1, len(recognized_words) + 1):\n",
    "            diff = 1 if reference_words[i-1] != recognized_words[j-1] else 0\n",
    "            distance_matrix[i][j] = min(\n",
    "                    distance_matrix[i - 1][j] + 1,      # Deletion\n",
    "                    distance_matrix[i][j - 1] + 1,      # Insertion\n",
    "                    distance_matrix[i - 1][j - 1] + diff   # Substitution\n",
    "                )\n",
    "\n",
    "\n",
    "    # Расчет WER  (в процентах)\n",
    "    print(distance_matrix)\n",
    "    wer = (distance_matrix[-1][-1] / len(reference_words)) * 100\n",
    "    return wer\n",
    "\n",
    "wer = calculate_wer('Я ел солонину', 'Я ел слона')\n",
    "print(f\"Word Error Rate: {wer:.2f}%\")"
   ]
  },
  {
   "cell_type": "code",
   "execution_count": 6,
   "id": "bdd3e955",
   "metadata": {},
   "outputs": [
    {
     "name": "stdout",
     "output_type": "stream",
     "text": [
      "['здесь']\n",
      "['сдесь']\n",
      "Word Error Rate: 100.00%\n"
     ]
    }
   ],
   "source": [
    "wer = calculate_wer('Здесь', 'Сдесь')\n",
    "print(f\"Word Error Rate: {wer:.2f}%\")"
   ]
  },
  {
   "cell_type": "code",
   "execution_count": 7,
   "id": "f2cce3e7",
   "metadata": {},
   "outputs": [
    {
     "name": "stdout",
     "output_type": "stream",
     "text": [
      "['здесь', 'красивый', 'котик']\n",
      "['сдесь', 'красивая', 'собачка']\n",
      "Word Error Rate: 100.00%\n"
     ]
    }
   ],
   "source": [
    "wer = calculate_wer('Здесь красивый котик', 'Сдесь красивая собачка')\n",
    "print(f\"Word Error Rate: {wer:.2f}%\")"
   ]
  },
  {
   "cell_type": "code",
   "execution_count": 8,
   "id": "11a6cc17",
   "metadata": {},
   "outputs": [
    {
     "name": "stdout",
     "output_type": "stream",
     "text": [
      "['я', 'сегодня', 'учусь', 'в', 'универе']\n",
      "['я', 'с', 'завтра', 'учусь', 'универе']\n",
      "Word Error Rate: 60.00%\n"
     ]
    }
   ],
   "source": [
    "wer = calculate_wer('я сегодня учусь в универе', 'я с завтра учусь универе')\n",
    "print(f\"Word Error Rate: {wer:.2f}%\")"
   ]
  },
  {
   "cell_type": "code",
   "execution_count": 9,
   "id": "f604bfbe-3af2-4550-9119-9031b65a06d8",
   "metadata": {},
   "outputs": [
    {
     "name": "stdout",
     "output_type": "stream",
     "text": [
      "['привет', 'студент']\n",
      "['привет', 'студент']\n",
      "['привет', 'студент']\n",
      "['привет', 'студент']\n",
      "['привет', 'студент']\n",
      "['студент']\n",
      "['привет', 'студент']\n",
      "[]\n",
      "['привет', 'студент']\n",
      "['студент', 'привет']\n",
      "['привет']\n",
      "['привет', 'студент']\n",
      "['привет', 'студент', 'привет', 'как', 'дела']\n",
      "['студент', 'привет']\n",
      "['привет', 'студент', 'привет', 'как', 'дела']\n",
      "['привет', 'как', 'дела']\n",
      "['привет', 'студент', 'привет', 'как', 'дела']\n",
      "['привет', 'студент', 'дела']\n",
      "['привет', 'студент', 'привет', 'как', 'дела', 'привет', 'студент', 'привет', 'как', 'дела', 'привет', 'студент', 'привет', 'как', 'дела', 'привет', 'студент', 'привет', 'как', 'дела', 'привет', 'студент', 'привет', 'как', 'дела', 'привет', 'студент', 'привет', 'как', 'дела', 'привет', 'студент', 'привет', 'как', 'дела', 'привет', 'студент', 'привет', 'как', 'дела', 'привет', 'студент', 'привет', 'как', 'дела', 'привет', 'студент', 'привет', 'как', 'дела', 'привет', 'студент', 'привет', 'как', 'дела', 'привет', 'студент', 'привет', 'как', 'дела', 'привет', 'студент', 'привет', 'как', 'дела', 'привет', 'студент', 'привет', 'как', 'дела', 'привет', 'студент', 'привет', 'как', 'дела', 'привет', 'студент', 'привет', 'как', 'дела', 'привет', 'студент', 'привет', 'как', 'дела', 'привет', 'студент', 'привет', 'как', 'дела', 'привет', 'студент', 'привет', 'как', 'дела', 'привет', 'студент', 'привет', 'как', 'дела', 'привет', 'студент', 'привет', 'как', 'дела', 'привет', 'студент', 'привет', 'как', 'дела', 'привет', 'студент', 'привет', 'как', 'дела', 'привет', 'студент', 'привет', 'как', 'дела', 'привет', 'студент', 'привет', 'как', 'дела', 'привет', 'студент', 'привет', 'как', 'дела', 'привет', 'студент', 'привет', 'как', 'дела', 'привет', 'студент', 'привет', 'как', 'дела', 'привет', 'студент', 'привет', 'как', 'дела', 'привет', 'студент', 'привет', 'как', 'дела', 'привет', 'студент', 'привет', 'как', 'дела', 'привет', 'студент', 'привет', 'как', 'дела', 'привет', 'студент', 'привет', 'как', 'дела', 'привет', 'студент', 'привет', 'как', 'дела', 'привет', 'студент', 'привет', 'как', 'дела', 'привет', 'студент', 'привет', 'как', 'дела', 'привет', 'студент', 'привет', 'как', 'дела', 'привет', 'студент', 'привет', 'как', 'дела', 'привет', 'студент', 'привет', 'как', 'дела', 'привет', 'студент', 'привет', 'как', 'дела', 'привет', 'студент', 'привет', 'как', 'дела', 'привет', 'студент', 'привет', 'как', 'дела', 'привет', 'студент', 'привет', 'как', 'дела', 'привет', 'студент', 'привет', 'как', 'дела', 'привет', 'студент', 'привет', 'как', 'дела', 'привет', 'студент', 'привет', 'как', 'дела', 'привет', 'студент', 'привет', 'как', 'дела', 'привет', 'студент', 'привет', 'как', 'дела', 'привет', 'студент', 'привет', 'как', 'дела', 'привет', 'студент', 'привет', 'как', 'дела', 'привет', 'студент', 'привет', 'как', 'дела', 'привет', 'студент', 'привет', 'как', 'дела', 'привет', 'студент', 'привет', 'как', 'дела', 'привет', 'студент', 'привет', 'как', 'дела', 'привет', 'студент', 'привет', 'как', 'дела', 'привет', 'студент', 'привет', 'как', 'дела', 'привет', 'студент', 'привет', 'как', 'дела', 'привет', 'студент', 'привет', 'как', 'дела', 'привет', 'студент', 'привет', 'как', 'дела', 'привет', 'студент', 'привет', 'как', 'дела', 'привет', 'студент', 'привет', 'как', 'дела', 'привет', 'студент', 'привет', 'как', 'дела', 'привет', 'студент', 'привет', 'как', 'дела', 'привет', 'студент', 'привет', 'как', 'дела', 'привет', 'студент', 'привет', 'как', 'дела', 'привет', 'студент', 'привет', 'как', 'дела', 'привет', 'студент', 'привет', 'как', 'дела', 'привет', 'студент', 'привет', 'как', 'дела', 'привет', 'студент', 'привет', 'как', 'дела', 'привет', 'студент', 'привет', 'как', 'дела', 'привет', 'студент', 'привет', 'как', 'дела', 'привет', 'студент', 'привет', 'как', 'дела', 'привет', 'студент', 'привет', 'как', 'дела', 'привет', 'студент', 'привет', 'как', 'дела', 'привет', 'студент', 'привет', 'как', 'дела', 'привет', 'студент', 'привет', 'как', 'дела', 'привет', 'студент', 'привет', 'как', 'дела', 'привет', 'студент', 'привет', 'как', 'дела', 'привет', 'студент', 'привет', 'как', 'дела', 'привет', 'студент', 'привет', 'как', 'дела', 'привет', 'студент', 'привет', 'как', 'дела', 'привет', 'студент', 'привет', 'как', 'дела', 'привет', 'студент', 'привет', 'как', 'дела', 'привет', 'студент', 'привет', 'как', 'дела', 'привет', 'студент', 'привет', 'как', 'дела', 'привет', 'студент', 'привет', 'как', 'дела', 'привет', 'студент', 'привет', 'как', 'дела', 'привет', 'студент', 'привет', 'как', 'дела', 'привет', 'студент', 'привет', 'как', 'дела', 'привет', 'студент', 'привет', 'как', 'дела', 'привет', 'студент', 'привет', 'как', 'дела', 'привет', 'студент', 'привет', 'как', 'дела', 'привет', 'студент', 'привет', 'как', 'дела', 'привет', 'студент', 'привет', 'как', 'дела', 'привет', 'студент', 'привет', 'как', 'дела', 'привет', 'студент', 'привет', 'как', 'дела', 'привет', 'студент', 'привет', 'как', 'дела', 'привет', 'студент', 'привет', 'как', 'дела', 'привет', 'студент', 'привет', 'как', 'дела', 'привет', 'студент', 'привет', 'как', 'дела']\n",
      "['привет', 'студент', 'дела', 'привет', 'студент', 'дела', 'привет', 'студент', 'дела', 'привет', 'студент', 'дела', 'привет', 'студент', 'дела', 'привет', 'студент', 'дела', 'привет', 'студент', 'дела', 'привет', 'студент', 'дела', 'привет', 'студент', 'дела', 'привет', 'студент', 'дела', 'привет', 'студент', 'дела', 'привет', 'студент', 'дела', 'привет', 'студент', 'дела', 'привет', 'студент', 'дела', 'привет', 'студент', 'дела', 'привет', 'студент', 'дела', 'привет', 'студент', 'дела', 'привет', 'студент', 'дела', 'привет', 'студент', 'дела', 'привет', 'студент', 'дела', 'привет', 'студент', 'дела', 'привет', 'студент', 'дела', 'привет', 'студент', 'дела', 'привет', 'студент', 'дела', 'привет', 'студент', 'дела', 'привет', 'студент', 'дела', 'привет', 'студент', 'дела', 'привет', 'студент', 'дела', 'привет', 'студент', 'дела', 'привет', 'студент', 'дела', 'привет', 'студент', 'дела', 'привет', 'студент', 'дела', 'привет', 'студент', 'дела', 'привет', 'студент', 'дела', 'привет', 'студент', 'дела', 'привет', 'студент', 'дела', 'привет', 'студент', 'дела', 'привет', 'студент', 'дела', 'привет', 'студент', 'дела', 'привет', 'студент', 'дела', 'привет', 'студент', 'дела', 'привет', 'студент', 'дела', 'привет', 'студент', 'дела', 'привет', 'студент', 'дела', 'привет', 'студент', 'дела', 'привет', 'студент', 'дела', 'привет', 'студент', 'дела', 'привет', 'студент', 'дела', 'привет', 'студент', 'дела', 'привет', 'студент', 'дела', 'привет', 'студент', 'дела', 'привет', 'студент', 'дела', 'привет', 'студент', 'дела', 'привет', 'студент', 'дела', 'привет', 'студент', 'дела', 'привет', 'студент', 'дела', 'привет', 'студент', 'дела', 'привет', 'студент', 'дела', 'привет', 'студент', 'дела', 'привет', 'студент', 'дела', 'привет', 'студент', 'дела', 'привет', 'студент', 'дела', 'привет', 'студент', 'дела', 'привет', 'студент', 'дела', 'привет', 'студент', 'дела', 'привет', 'студент', 'дела', 'привет', 'студент', 'дела', 'привет', 'студент', 'дела', 'привет', 'студент', 'дела', 'привет', 'студент', 'дела', 'привет', 'студент', 'дела', 'привет', 'студент', 'дела', 'привет', 'студент', 'дела', 'привет', 'студент', 'дела', 'привет', 'студент', 'дела', 'привет', 'студент', 'дела', 'привет', 'студент', 'дела', 'привет', 'студент', 'дела', 'привет', 'студент', 'дела', 'привет', 'студент', 'дела', 'привет', 'студент', 'дела', 'привет', 'студент', 'дела', 'привет', 'студент', 'дела', 'привет', 'студент', 'дела', 'привет', 'студент', 'дела', 'привет', 'студент', 'дела', 'привет', 'студент', 'дела', 'привет', 'студент', 'дела', 'привет', 'студент', 'дела', 'привет', 'студент', 'дела', 'привет', 'студент', 'дела', 'привет', 'студент', 'дела', 'привет', 'студент', 'дела', 'привет', 'студент', 'дела', 'привет', 'студент', 'дела', 'привет', 'студент', 'дела', 'привет', 'студент', 'дела', 'привет', 'студент', 'дела', 'привет', 'студент', 'дела', 'привет', 'студент', 'дела']\n",
      "Test 1.a passed\n"
     ]
    }
   ],
   "source": [
    "def assert_wer(ref, hyp, ideal_wer):\n",
    "    wer = calculate_wer(ref, hyp)\n",
    "    assert round(wer, 2) == round(ideal_wer, 2), f\"for '{hyp=}' and '{ref=}' {ideal_wer=}, calculate_wer {wer=}\"\n",
    "    \n",
    "def test_wer():\n",
    "    assert_wer('привет студент', 'привет студент', 0)\n",
    "    assert_wer('привет! Студент.', 'Привет, студент?', 0)\n",
    "    assert_wer('привет студент', 'студент', 50)\n",
    "    assert_wer('привет студент', '', 100)\n",
    "    assert_wer('привет студент', 'студент привет', 100)\n",
    "    assert_wer('привет', 'привет студент', 100)\n",
    "    assert_wer('привет студент привет как дела', 'студент привет', 60)\n",
    "    assert_wer('привет студент привет как дела', 'привет как дела', 40)\n",
    "    assert_wer('привет студент привет как дела ', 'привет студент дела ', 40)\n",
    "    assert_wer('привет студент привет как дела '*100, 'привет студент дела '*100, 40)\n",
    "\n",
    "    print(f\"Test 1.a passed\")\n",
    "    \n",
    "test_wer() \n",
    "    "
   ]
  },
  {
   "cell_type": "markdown",
   "id": "50b32777-0fae-4999-9843-88313c1e3607",
   "metadata": {},
   "source": [
    "## 1.b. Построение выравнивания\n",
    "Реализованная в части 1.a. функция выдает только суммарное значение ошибки распознавания, не давая понимания, в чем состоят основные проблемы распознавания. \n",
    "\n",
    "Значение WER получается из трех видов ошибок: \n",
    "* вставка (insertion)\n",
    "* удаление (deletion)\n",
    "* замена (substitution)\n",
    "\n",
    "Каждый тип ошибок имеет свое значение и указывает на определенные недостатки системы. Например, большое количество вставок означает, что ASR слышит речь там где ее нет. А большое количество удалений показывает, что целевая речь пропускается и не транскрибируется. \n",
    "\n",
    "Кроме числовых значений каждой ошибки, для анализа результатов работы системы может пригодиться выравнивание эталонной текстовки и гипотезы распознавания относительно друг друга. \n",
    "\n",
    "пример выравнивания: \n",
    "\n",
    "```\n",
    ">>> tabulate(ali)\n",
    "\n",
    "Я сегодня  ***   учуcь  в  универе\n",
    "Я    с    завтра учусь *** универе  \n",
    "C    S      I      C    D    C    \n",
    "```\n",
    "\n",
    "Реализуйте функцию, которая кроме числового значения WER возвращает выравнивание, а также значения каждого типа ошибок распознавания (вставки, удаления, замены)."
   ]
  },
  {
   "cell_type": "code",
   "execution_count": 10,
   "id": "414a0cdb-7230-493a-93ba-2d15547a537a",
   "metadata": {},
   "outputs": [
    {
     "name": "stdout",
     "output_type": "stream",
     "text": [
      "Collecting tabulate\n",
      "  Downloading tabulate-0.9.0-py3-none-any.whl (35 kB)\n",
      "Installing collected packages: tabulate\n",
      "Successfully installed tabulate-0.9.0\n",
      "\n",
      "\u001b[1m[\u001b[0m\u001b[34;49mnotice\u001b[0m\u001b[1;39;49m]\u001b[0m\u001b[39;49m A new release of pip is available: \u001b[0m\u001b[31;49m23.3.1\u001b[0m\u001b[39;49m -> \u001b[0m\u001b[32;49m23.3.2\u001b[0m\n",
      "\u001b[1m[\u001b[0m\u001b[34;49mnotice\u001b[0m\u001b[1;39;49m]\u001b[0m\u001b[39;49m To update, run: \u001b[0m\u001b[32;49mpython3.10 -m pip install --upgrade pip\u001b[0m\n"
     ]
    }
   ],
   "source": [
    "!pip install tabulate\n",
    "from tabulate import tabulate\n",
    "# используйте tabulate для отладки"
   ]
  },
  {
   "cell_type": "code",
   "execution_count": 12,
   "id": "8d6d7687-ff3a-4a46-80ec-12efcab49027",
   "metadata": {},
   "outputs": [],
   "source": [
    "def calculate_wer_with_alignment(reference_text: str, recognized_text: str):\n",
    "    \n",
    "    # Перенесите сюда код из задания 1.a.\n",
    "    # Приведение текста к нижнему регистру, удаление символов пунктуации и разбивка на слова\n",
    "    translator = str.maketrans(\"\", \"\", string.punctuation)\n",
    "    reference_words = reference_text.translate(translator).lower().split()\n",
    "    recognized_words = recognized_text.translate(translator).lower().split()\n",
    "\n",
    "    # расстояние Левенштейна \n",
    "    \n",
    "    # Инициализация матрицы для подсчета расстояния между словами\n",
    "    distance_matrix = [[0] * (len(recognized_words) + 1) for _ in range(len(reference_words) + 1)]\n",
    "    # Наполнение первой строки матрицы\n",
    "    for i in range(len(reference_words) + 1):\n",
    "        distance_matrix[i][0] = i\n",
    "\n",
    "    # Наполнение первого столбца матрицы\n",
    "    for j in range(len(recognized_words) + 1):\n",
    "        distance_matrix[0][j] = j\n",
    "\n",
    "    #Заполнение матрицы расстояний методом динамического программирования\n",
    "    for i in range(1, len(reference_words) + 1):\n",
    "        for j in range(1, len(recognized_words) + 1):\n",
    "            diff = 1 if reference_words[i-1] != recognized_words[j-1] else 0\n",
    "            distance_matrix[i][j] = min(\n",
    "                    distance_matrix[i - 1][j] + 1,      # Deletion\n",
    "                    distance_matrix[i][j - 1] + 1,      # Insertion\n",
    "                    distance_matrix[i - 1][j - 1] + diff   # Substitution or Correct\n",
    "                )\n",
    "    \n",
    "\n",
    "    # Расчет WER  (в процентах)\n",
    "    wer = (distance_matrix[-1][-1] / len(reference_words)) * 100\n",
    "\n",
    "    # используя distance_matrix восстановите путь (набор операций), который соответстует найденому WER\n",
    "    # ali[0] =  разбитый по словам референс. Втавки отабражаются в эталонном выравнивании с помощью \"***\"\n",
    "    # ali[1] = разбитая по словам гипотеза.\n",
    "    # ali[2] = аннотация \n",
    "    \n",
    "    i = len(reference_words)\n",
    "    j = len(recognized_words)\n",
    "    ali =[[],[],[]]\n",
    "    deletion = 0\n",
    "    insertion = 0\n",
    "    substitution = 0\n",
    "    correct = 0\n",
    "    \n",
    "    while i > 0 or j > 0:\n",
    "        \n",
    "        diff = 1 if reference_words[i-1] != recognized_words[j-1] else 0\n",
    "        \n",
    "        if (distance_matrix[i][j] == distance_matrix[i][j - 1] + 1) and j > 0:\n",
    "            ali[0].append('***')\n",
    "            ali[1].append(recognized_words[j - 1])\n",
    "            ali[2].append('I')\n",
    "            insertion += 1\n",
    "            j -= 1\n",
    "            \n",
    "        elif(distance_matrix[i][j] == distance_matrix[i - 1][j] + 1) and i > 0:\n",
    "            ali[0].append(reference_words[i - 1])\n",
    "            ali[1].append(\"***\")\n",
    "            ali[2].append('D')\n",
    "            deletion += 1\n",
    "            i -= 1\n",
    "            \n",
    "        else:\n",
    "            ali[0].append(reference_words[i - 1])\n",
    "            ali[1].append(recognized_words[j - 1])\n",
    "            if diff:\n",
    "                ali[2].append('S')\n",
    "                substitution += 1\n",
    "            else:\n",
    "                ali[2].append('C')\n",
    "                correct += 1\n",
    "            i -= 1\n",
    "            j -= 1\n",
    "        \n",
    "    ali = [list(reversed(i)) for i in ali]    \n",
    "    assert len(ali[0]) == len(ali[1]) == len(ali[2]), f\"wrong ali {ali}\"\n",
    "    \n",
    "    return {\"wer\" : wer,\n",
    "            \"cor\": correct, \n",
    "            \"del\": deletion,\n",
    "            \"ins\": insertion,\n",
    "            \"sub\": substitution,\n",
    "            \"ali\": ali}\n"
   ]
  },
  {
   "cell_type": "code",
   "execution_count": 13,
   "id": "6ff4fe6c-c548-4f60-bcf9-95a164f43645",
   "metadata": {},
   "outputs": [
    {
     "name": "stdout",
     "output_type": "stream",
     "text": [
      "Test 1.b passed\n"
     ]
    }
   ],
   "source": [
    "def assert_wer_with_alignment(ref, hyp, ideal_report):\n",
    "    report = calculate_wer_with_alignment(ref, hyp)\n",
    "    for k, v in ideal_report.items():\n",
    "        if isinstance(v, float):\n",
    "            assert round(v, 2) == round(report[k], 2), f\"for '{hyp=}' and '{ref=}' {ideal_report=}, calculate_wer {report=}\"\n",
    "        else:\n",
    "            assert v == report[k], f\"for '{hyp=}' and '{ref=}' {ideal_report=}, calculate_wer {report=}\"\n",
    "\n",
    "    \n",
    "def test_wer_with_alignment():\n",
    "    assert_wer_with_alignment('привет студент', 'привет студент',  {\n",
    "            \"wer\" : 0,\n",
    "            \"cor\": 2, \n",
    "            \"del\": 0,\n",
    "            \"ins\": 0,\n",
    "            \"sub\": 0,\n",
    "            \"ali\": [[\"привет\", \"студент\"],[\"привет\", \"студент\"],['C', 'C']]})\n",
    "    assert_wer_with_alignment('привет студент', 'студент', {\n",
    "            \"wer\" : 50,\n",
    "            \"cor\": 1, \n",
    "            \"del\": 1,\n",
    "            \"ins\": 0,\n",
    "            \"sub\": 0,\n",
    "            \"ali\": [[\"привет\", \"студент\"],[\"***\", \"студент\"],['D', 'C']]})\n",
    "    assert_wer_with_alignment('привет', 'привет студент', {\n",
    "            \"wer\" : 100,\n",
    "            \"cor\": 1, \n",
    "            \"del\": 0,\n",
    "            \"ins\": 1,\n",
    "            \"sub\": 0,\n",
    "            \"ali\": [[\"привет\", \"***\"],[\"привет\", \"студент\"],['C', 'I']]})\n",
    "    assert_wer_with_alignment('привет студент', 'пока студент',  {\n",
    "            \"wer\" : 50,\n",
    "            \"cor\": 1, \n",
    "            \"del\": 0,\n",
    "            \"ins\": 0,\n",
    "            \"sub\": 1,\n",
    "            \"ali\": [[\"привет\", \"студент\"],[\"пока\", \"студент\"],['S', 'C']]})\n",
    "\n",
    "    print(f\"Test 1.b passed\")\n",
    "    \n",
    "test_wer_with_alignment() "
   ]
  },
  {
   "cell_type": "markdown",
   "id": "983a8e14-f4f1-4441-a72d-2fa693d72474",
   "metadata": {},
   "source": [
    "# 2. WER с пунктуацией (4 балла)\n",
    "Попробуйте модифицировать WER таким образом, чтобы получившаяся метрика учитавала ошибки расстановки знаков препинания. \n",
    "\n",
    "Для этого надо ввести ограничение в алгоритм подсчета distance_matrix таким образом, чтобы запретить делать замену знака препинания на слово и наоборот.\n",
    "\n",
    "Пример выравнивания \n",
    "```\n",
    "Я сегодня  .   ***   ***  А ты  \n",
    "Я    с    *** завтра  ?   А ты  \n",
    "C    S    D_p   I    I_p  C  C    \n",
    "```\n",
    "Здесь суффикс _p в аннотации к ошибкам означает **ошибки пунктуации**\n",
    "\n",
    "\n",
    "Задание: \n",
    "Напишите функцию, которая кроме стандартного WER считает дополнительно PunctuaionErrorRate (PER) по формуле\n",
    "\n",
    "$$ PER = {I_p + D_p + S_p \\over D_p + S_p + C_p} $$\n"
   ]
  },
  {
   "cell_type": "code",
   "execution_count": 39,
   "id": "4fe19584",
   "metadata": {},
   "outputs": [
    {
     "name": "stderr",
     "output_type": "stream",
     "text": [
      "[nltk_data] Downloading package punkt to\n",
      "[nltk_data]     /Users/anastasiazorkina/nltk_data...\n",
      "[nltk_data]   Unzipping tokenizers/punkt.zip.\n"
     ]
    },
    {
     "data": {
      "text/plain": [
       "True"
      ]
     },
     "execution_count": 39,
     "metadata": {},
     "output_type": "execute_result"
    }
   ],
   "source": [
    "#!pip install nltk\n",
    "import nltk\n",
    "nltk.download('punkt')"
   ]
  },
  {
   "cell_type": "code",
   "execution_count": 103,
   "id": "726e8fa5-da39-4090-8272-c8fd053593f3",
   "metadata": {},
   "outputs": [],
   "source": [
    "def calculate_wer_per(reference_text: str, recognized_text: str):\n",
    "    # Приведение текста к нижнему регистру, удаление символов пунктуации и разбивка на слова\n",
    "    reference_words = nltk.wordpunct_tokenize(reference_text.lower())\n",
    "    recognized_words = nltk.wordpunct_tokenize(recognized_text.lower())\n",
    "    \n",
    "    # расстояние Левенштейна \n",
    "    \n",
    "    # Инициализация матрицы для подсчета расстояния между словами\n",
    "    distance_matrix = [[0] * (len(recognized_words) + 1) for _ in range(len(reference_words) + 1)]\n",
    "    # Наполнение первой строки матрицы\n",
    "    for i in range(len(reference_words) + 1):\n",
    "        distance_matrix[i][0] = i\n",
    "\n",
    "    # Наполнение первого столбца матрицы\n",
    "    for j in range(len(recognized_words) + 1):\n",
    "        distance_matrix[0][j] = j\n",
    "\n",
    "    #Заполнение матрицы расстояний методом динамического программирования\n",
    "    for i in range(1, len(reference_words) + 1):\n",
    "        for j in range(1, len(recognized_words) + 1):\n",
    "            if (reference_words[i-1] in string.punctuation and recognized_words[j-1] not in string.punctuation) or (reference_words[i-1] not in string.punctuation and recognized_words[j-1] in string.punctuation):\n",
    "                one_is_punkt = 1\n",
    "            else:\n",
    "                one_is_punkt = 0\n",
    "            diff = 1 if reference_words[i-1] != recognized_words[j-1] else 0\n",
    "            \n",
    "            distance_matrix[i][j] = min(\n",
    "                    distance_matrix[i - 1][j] + 1,      # Deletion\n",
    "                    distance_matrix[i][j - 1] + 1,      # Insertion\n",
    "                    distance_matrix[i - 1][j - 1] + diff if not one_is_punkt else float('inf')# Substitution or Correct\n",
    "                )\n",
    "\n",
    "    print(distance_matrix)\n",
    "    i = len(reference_words)\n",
    "    j = len(recognized_words)\n",
    "    ali =[]\n",
    "    deletion = 0\n",
    "    insertion = 0\n",
    "    substitution = 0\n",
    "    correct = 0\n",
    "    deletion_p = 0\n",
    "    insertion_p = 0\n",
    "    substitution_p = 0\n",
    "    correct_p = 0\n",
    "    \n",
    "    while i > 0 or j > 0:\n",
    "        \n",
    "        diff = 1 if reference_words[i-1] != recognized_words[j-1] else 0\n",
    "        \n",
    "        if(distance_matrix[i][j] == distance_matrix[i - 1][j] + 1) and i > 0:\n",
    "            if reference_words[i - 1] in string.punctuation:\n",
    "                ali.append('D_p')\n",
    "                deletion_p += 1\n",
    "            else:\n",
    "                ali.append('D')\n",
    "                deletion += 1\n",
    "            i -= 1\n",
    "            \n",
    "        elif (distance_matrix[i][j] == distance_matrix[i][j - 1] + 1) and j > 0:\n",
    "            if recognized_words[j - 1] in string.punctuation:\n",
    "                ali.append('I_p')\n",
    "                insertion_p += 1\n",
    "            else:\n",
    "                ali.append('I')\n",
    "                insertion += 1\n",
    "            j -= 1\n",
    "            \n",
    "        else:\n",
    "            if reference_words[i - 1] in string.punctuation:\n",
    "                if diff:\n",
    "                    ali.append('S_p')\n",
    "                    substitution_p += 1\n",
    "                else:\n",
    "                    ali.append('C_p')\n",
    "                    correct_p += 1\n",
    "            else:\n",
    "                if diff:\n",
    "                    ali.append('S')\n",
    "                    substitution += 1\n",
    "                else:\n",
    "                    ali.append('C')\n",
    "                    correct += 1    \n",
    "            i -= 1\n",
    "            j -= 1\n",
    "        \n",
    "    ali.reverse()   \n",
    "    wer = (insertion +  deletion + substitution)/(deletion + substitution + correct)\n",
    "    per = (insertion_p +  deletion_p + substitution_p)/(deletion_p + substitution_p + correct_p)\n",
    "    \n",
    "    return {\"wer\" : wer*100,\n",
    "            \"per\": per*100, \n",
    "            \"ali\": ali}\n"
   ]
  },
  {
   "cell_type": "code",
   "execution_count": 104,
   "id": "4d8457c3",
   "metadata": {},
   "outputs": [
    {
     "name": "stdout",
     "output_type": "stream",
     "text": [
      "[[0, 1, 2, 3], [1, 2, 2, 3], [2, 3, 2, 3], [3, 2, 3, 3]]\n",
      "{'wer': 50.0, 'per': 200.0, 'ali': ['I_p', 'D', 'C', 'S_p']}\n"
     ]
    }
   ],
   "source": [
    "print(calculate_wer_per('привет студент.', '.студент?'))"
   ]
  },
  {
   "cell_type": "code",
   "execution_count": 105,
   "id": "31f053d5-2015-4d33-8ded-e5d0160e8901",
   "metadata": {},
   "outputs": [
    {
     "name": "stdout",
     "output_type": "stream",
     "text": [
      "[[0, 1, 2], [1, 0, 1], [2, 1, 0], [3, 2, 1]]\n",
      "[[0, 1, 2], [1, 1, 2], [2, 1, 2], [3, 2, 1]]\n",
      "[[0, 1, 2, 3], [1, 0, 1, 2], [2, 1, 2, 1], [3, 2, 1, 2]]\n",
      "[[0, 1, 2, 3], [1, 2, 2, 3], [2, 3, 2, 3], [3, 2, 3, 3]]\n",
      "Test 2 passed\n"
     ]
    }
   ],
   "source": [
    "def assert_wer_per(ref, hyp, ideal_report):\n",
    "    report = calculate_wer_per(ref, hyp)\n",
    "    for k, v in ideal_report.items():\n",
    "        if isinstance(v, float):\n",
    "            assert round(v, 2) == round(report[k], 2), f\"for '{hyp=}' and '{ref=}' {ideal_report=}, calculate_wer {report=}\"\n",
    "        else:\n",
    "            assert v == report[k], f\"for '{hyp=}' and '{ref=}' {ideal_report=}, calculate_wer {report=}\"\n",
    "\n",
    "    \n",
    "def test_wer_per():\n",
    "    assert_wer_per('привет студент.', 'привет студент',  {\n",
    "            \"wer\" : 0,\n",
    "            \"per\": 100})\n",
    "    assert_wer_per('привет студент.', 'студент.', {\n",
    "            \"wer\" : 50,\n",
    "            \"per\": 0,})\n",
    "    assert_wer_per('привет студент.', 'привет. студент',  {\n",
    "            \"wer\" : 0,\n",
    "            \"per\": 200})\n",
    "    assert_wer_per('привет студент.', '.студент?', {\n",
    "            \"wer\" : 50,\n",
    "            \"per\": 200, })\n",
    "\n",
    "    print(f\"Test 2 passed\")\n",
    "    \n",
    "test_wer_per() "
   ]
  },
  {
   "cell_type": "markdown",
   "id": "bb08f8da-e0f9-48e4-b584-3d1ab25c279c",
   "metadata": {},
   "source": [
    "# 3. Speaker-attributed Word Error Rate (4 балла)\n",
    "\n",
    "В задаче распознавания диалоговых данных, когда говорят два диктора, важно не только распознать правильно каждое слово, но и отнести его к правильному диктору. Чаще всего такой результат получается с помощью комбинации двух независимых систем: распознавания речи и диаризация. \n",
    "\n",
    "При подсчете ошибки распознавания диалоговых систем в формулу WER добавляется еще один тип ошибки - S_I (speaker incorrect).\n",
    "\n",
    "$$ SA{\\text -}WER = \\min{I + D + S + S_I \\over D + S + C + S_I} $$\n",
    "\n",
    "Кроме подсчета самой ошибки, sa-wer решает еще одну задачку - поиск маппинга из эталонных названий спикеров (например, имен) в предсказанные (чаще всего Idшники). Это необходимо, тк система диаризации не знает, какие названия у спикеров в эталоне. При подсчете SA-WER проверяются все возможные мапинги спикеров и выбирается тот, который соответствует минимальному значению ошибки. \n",
    "\n"
   ]
  },
  {
   "cell_type": "code",
   "execution_count": 26,
   "id": "b126e0a7",
   "metadata": {},
   "outputs": [],
   "source": [
    "import itertools"
   ]
  },
  {
   "cell_type": "code",
   "execution_count": 63,
   "id": "acb29784-c8cc-44bb-a8c4-118c5c0da9d5",
   "metadata": {},
   "outputs": [],
   "source": [
    "def calculate_sawer(reference_text, reference_speakers, recognized_text, recognized_speakers):\n",
    "    # В отличие от прошлых функций на вход sawer подаются уже разбитые на слова произнесения\n",
    "    # Кроме списка слов, дополнительно передается список меток спикеров\n",
    "    assert isinstance(reference_text, list)\n",
    "    assert isinstance(recognized_text, list)\n",
    "    assert len(reference_text) == len(reference_speakers)\n",
    "    assert len(recognized_text) == len(recognized_speakers)\n",
    "    \n",
    "    # TODO  посчитайте sawer с учетом мапинга спикеров\n",
    "    # для этого посчитайте значение ошибки для каждого варианта мапинга меток дикторов \n",
    "    # и выберете тот, который соответствует минимальному SA-WER\n",
    "    \n",
    "    reference_words = reference_text\n",
    "    recognized_words = recognized_text\n",
    "    \n",
    "    # расстояние Левенштейна \n",
    "    \n",
    "    # Инициализация матрицы для подсчета расстояния между словами\n",
    "    distance_matrix = [[0] * (len(recognized_words) + 1) for _ in range(len(reference_words) + 1)]\n",
    "    # Наполнение первой строки матрицы\n",
    "    for i in range(len(reference_words) + 1):\n",
    "        distance_matrix[i][0] = i\n",
    "\n",
    "    # Наполнение первого столбца матрицы\n",
    "    for j in range(len(recognized_words) + 1):\n",
    "        distance_matrix[0][j] = j\n",
    "\n",
    "    #Заполнение матрицы расстояний методом динамического программирования\n",
    "    for i in range(1, len(reference_words) + 1):\n",
    "        for j in range(1, len(recognized_words) + 1):\n",
    "            diff = 1 if reference_words[i-1] != recognized_words[j-1] else 0\n",
    "            distance_matrix[i][j] = min(\n",
    "                    distance_matrix[i - 1][j] + 1,      # Deletion\n",
    "                    distance_matrix[i][j - 1] + 1,      # Insertion\n",
    "                    distance_matrix[i - 1][j - 1] + diff   # Substitution or Correct\n",
    "                )\n",
    "    \n",
    "\n",
    "    # [A, B, C]  [1, 2, 3]\n",
    "    all_reference_speakers = set(reference_speakers)\n",
    "    all_recognized_speakers = set(recognized_speakers)\n",
    "    max_id = max(all_recognized_speakers) + 1\n",
    "    while len(all_reference_speakers) > len(all_recognized_speakers):\n",
    "        all_recognized_speakers.add(max_id)\n",
    "        max_id += 1\n",
    "    \n",
    "    all_recognized_speakers = list(all_recognized_speakers)\n",
    "    all_reference_speakers = list(all_reference_speakers)\n",
    "    all_permutations = list(itertools.permutations(all_recognized_speakers, len(all_reference_speakers)))\n",
    "\n",
    "    all_maps = []\n",
    "    for permutation in all_permutations:\n",
    "        map = {}\n",
    "        for ref, rec in zip(all_reference_speakers, permutation):\n",
    "            map[ref] = rec\n",
    "        all_maps.append(map)\n",
    "\n",
    "    min_sawer = None\n",
    "    best_ali = [[],[],[]]\n",
    "\n",
    "    for map in all_maps:\n",
    "                \n",
    "        # используя distance_matrix восстановите путь (набор операций), который соответстует найденому WER\n",
    "        # ali[0] =  разбитый по словам референс. Втавки отабражаются в эталонном выравнивании с помощью \"***\"\n",
    "        # ali[1] = разбитая по словам гипотеза.\n",
    "        # ali[2] = аннотация \n",
    "        \n",
    "        i = len(reference_words)\n",
    "        j = len(recognized_words)\n",
    "        deletion = 0\n",
    "        insertion = 0\n",
    "        substitution = 0\n",
    "        correct = 0\n",
    "        speaker_incorrect = 0\n",
    "        ali = [[],[],[]]\n",
    "        \n",
    "        while i > 0 or j > 0:\n",
    "\n",
    "            diff = 1 if reference_words[i-1] != recognized_words[j-1] else 0\n",
    "\n",
    "            if (distance_matrix[i][j] == distance_matrix[i][j - 1] + 1) and j > 0:\n",
    "                ali[0].append('***')\n",
    "                ali[1].append(recognized_words[j - 1])\n",
    "                ali[2].append('I')\n",
    "                insertion += 1\n",
    "                j -= 1\n",
    "\n",
    "            elif(distance_matrix[i][j] == distance_matrix[i - 1][j] + 1) and i > 0:\n",
    "                ali[0].append(reference_words[i - 1])\n",
    "                ali[1].append(\"***\")\n",
    "                ali[2].append('D')\n",
    "                deletion += 1\n",
    "                i -= 1\n",
    "\n",
    "            else:\n",
    "                ali[0].append(reference_words[i - 1])\n",
    "                ali[1].append(recognized_words[j - 1])\n",
    "                if diff:\n",
    "                    ali[2].append('S')\n",
    "                    substitution += 1\n",
    "                #  Если слова равны, проверяем диктора\n",
    "                elif map[reference_speakers[i-1]] != recognized_speakers[j-1]:\n",
    "                    ali[2].append('S_I')\n",
    "                    speaker_incorrect+=1\n",
    "                else:\n",
    "                    ali[2].append('C')\n",
    "                    correct += 1\n",
    "                i -= 1\n",
    "                j -= 1\n",
    "        \n",
    "        sawer = 100*(insertion+deletion+substitution+speaker_incorrect)/(deletion+substitution+correct+speaker_incorrect)\n",
    "        if min_sawer == None or sawer < min_sawer:\n",
    "            min_sawer = sawer\n",
    "            best_ali = [list(reversed(i)) for i in ali]  \n",
    "    \n",
    "    print(min_sawer, best_ali)\n",
    "    return {\"sawer\" : min_sawer, \n",
    "            \"ali\": best_ali}\n"
   ]
  },
  {
   "cell_type": "code",
   "execution_count": 64,
   "id": "1c70f023-8c9f-4aeb-b4ee-fd41f2191c26",
   "metadata": {},
   "outputs": [
    {
     "name": "stdout",
     "output_type": "stream",
     "text": [
      "0.0 [['привет', 'студент'], ['привет', 'студент'], ['C', 'C']]\n",
      "50.0 [['привет', 'студент'], ['привет', 'студент'], ['C', 'S_I']]\n",
      "0.0 [['привет', 'студент'], ['привет', 'студент'], ['C', 'C']]\n",
      "50.0 [['привет', 'с'], ['привет', 'студент'], ['C', 'S']]\n",
      "50.0 [['привет', 'с'], ['привет', '***'], ['C', 'D']]\n",
      "100.0 [['привет', '***'], ['привет', 'студент'], ['C', 'I']]\n",
      "100.0 [['привет', '***'], ['привет', 'студент'], ['C', 'I']]\n",
      "Test 3 passed\n"
     ]
    }
   ],
   "source": [
    "def assert_sawer(reference_text, reference_speakers, recognized_text, recognized_speakers, ideal_report):\n",
    "    report = calculate_sawer(reference_text, reference_speakers, recognized_text, recognized_speakers)\n",
    "    for k, v in ideal_report.items():\n",
    "        assert v == report[k]\n",
    "\n",
    "    \n",
    "def test_sawer():\n",
    "    assert_sawer(['привет', 'студент'], ['A', 'B'], ['привет', 'студент'], [1, 2],  {\n",
    "            \"sawer\" : 0})\n",
    "    assert_sawer(['привет', 'студент'], ['A', 'A'], ['привет', 'студент'], [1, 2],  {\n",
    "            \"sawer\" : 50})\n",
    "    assert_sawer(['привет', 'студент'], ['A', 'A'], ['привет', 'студент'], [0, 0],  {\n",
    "            \"sawer\" : 0})\n",
    "    assert_sawer(['привет', 'с'], ['A', 'B'], ['привет', 'студент'], [1, 2],  {\n",
    "            \"sawer\" : 50})\n",
    "    assert_sawer(['привет', 'с'], ['A', 'B'], ['привет'], [1],  {\n",
    "            \"sawer\" : 50})\n",
    "    assert_sawer(['привет'], ['A'], ['привет', 'студент'], [1, 0],  {\n",
    "            \"sawer\" : 100})\n",
    "    assert_sawer(['привет'], ['A'], ['привет', 'студент'], [0, 0],  {\n",
    "            \"sawer\" : 100})\n",
    "\n",
    "    print(f\"Test 3 passed\")\n",
    "    \n",
    "test_sawer()"
   ]
  },
  {
   "cell_type": "code",
   "execution_count": null,
   "id": "2f758f45-926e-4d8b-a25f-c28578c6de0a",
   "metadata": {},
   "outputs": [],
   "source": []
  }
 ],
 "metadata": {
  "kernelspec": {
   "display_name": "Python 3 (ipykernel)",
   "language": "python",
   "name": "python3"
  },
  "language_info": {
   "codemirror_mode": {
    "name": "ipython",
    "version": 3
   },
   "file_extension": ".py",
   "mimetype": "text/x-python",
   "name": "python",
   "nbconvert_exporter": "python",
   "pygments_lexer": "ipython3",
   "version": "3.10.13"
  }
 },
 "nbformat": 4,
 "nbformat_minor": 5
}
