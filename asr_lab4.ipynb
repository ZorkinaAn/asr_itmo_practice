{
 "cells": [
  {
   "cell_type": "markdown",
   "id": "ceaa7b0d-bc13-4085-90cf-513b0e6c8ddc",
   "metadata": {},
   "source": [
    "# Практическая работа по распознаванию речи #4: <br> Поиск наилучшей гипотезы распознавания\n",
    "Задача распознавания речи состоит в поиске наиболее вероятной словной гипотезы по имеющемуся звуковому сигналу. Используя теорему Байеса, формулировку задачи можно написать так:\n",
    "$$ W^* = \\underset{W}{argmax} {P(W|O)} =  \\underset{W}{argmax} \\sum_i^N{(\\log{P(O|w_i)} + \\log{P(w_i|w_{i-1}, w_{i-2},..))}}$$\n",
    "Где: \n",
    "* $O$ - звук\n",
    "* $W$ - словная гипотеза распознавания \n",
    "* $W^*$ - лучшая гипотеза распознавания\n",
    "* $P(W|O)$ - вероятность гипотезы распознавания при условии наблюдения $O$\n",
    "* $N$ - количество слов в гипотезе\n",
    "* $w_i$ - i'ое слово в гипотезе\n",
    "* $P(O|w_i)$ - акустическое правдоподобие слова (выводится из предсказания акустической моделью)\n",
    "* $P(w_i|w_{i-1}, w_{i-2},..)$ - языковая вероятность слова при условии контекста (предсказывается языковой моделью)\n",
    "\n",
    "\n",
    "В прошлых лабораторных работах были изучены акустическая и языковая модели. Акустическая модель предсказывает вероятность принадлежности кадра некоему акустическому классу (фонеме). Языковая модель предсказывает априорную вероятность последовательности слов. Пришло время разобраться, как соединить эти части в одну систему и получить итоговый результат распознавания. \n",
    "\n",
    "\n",
    "\n",
    "\n",
    "\n",
    "Основная часть (14 баллов) данной практической работы состоит из двух частей: \n",
    "* знакомство с Weighted Finite State Transducer (WFST)\n",
    "* WFST декодинг в ASR системе\n",
    "\n",
    "Дополнительная часть - тюнинг параметров (2 балла)\n",
    "\n",
    "## Полезные ссылки: \n",
    "* Наиболее популярная библиотека WFST - [OpenFst](https://www.openfst.org/twiki/bin/view/FST/WebHome)\n",
    "* Библиотека для визуализации - [graphviz](https://graphviz.readthedocs.io/en/stable/manual.html)\n",
    "* Алгоритм обхода графа в ширину - [BFS](https://neerc.ifmo.ru/wiki/index.php?title=%D0%9E%D0%B1%D1%85%D0%BE%D0%B4_%D0%B2_%D1%88%D0%B8%D1%80%D0%B8%D0%BD%D1%83)"
   ]
  },
  {
   "cell_type": "code",
   "execution_count": 1,
   "id": "77e04b33-5e49-4ecf-8608-6710eb6c24dd",
   "metadata": {},
   "outputs": [
    {
     "name": "stdout",
     "output_type": "stream",
     "text": [
      "Python 3.9.16\r\n"
     ]
    }
   ],
   "source": [
    "!python3 --version "
   ]
  },
  {
   "cell_type": "code",
   "execution_count": 4,
   "id": "c5fc2f9b-c91b-44d1-b8b2-114a8836ddcb",
   "metadata": {},
   "outputs": [
    {
     "name": "stdout",
     "output_type": "stream",
     "text": [
      "Requirement already satisfied: graphviz in /Users/anastasiazorkina/miniconda3/lib/python3.9/site-packages (0.20.1)\n",
      "Collecting kenlm\n",
      "  Downloading kenlm-0.2.0.tar.gz (427 kB)\n",
      "\u001b[2K     \u001b[90m━━━━━━━━━━━━━━━━━━━━━━━━━━━━━━━━━━━━━━━\u001b[0m \u001b[32m427.4/427.4 kB\u001b[0m \u001b[31m2.5 MB/s\u001b[0m eta \u001b[36m0:00:00\u001b[0m00:01\u001b[0m00:01\u001b[0m\n",
      "\u001b[?25h  Installing build dependencies ... \u001b[?25ldone\n",
      "\u001b[?25h  Getting requirements to build wheel ... \u001b[?25ldone\n",
      "\u001b[?25h  Preparing metadata (pyproject.toml) ... \u001b[?25ldone\n",
      "\u001b[?25hCollecting kaldiio\n",
      "  Downloading kaldiio-2.18.0-py3-none-any.whl (28 kB)\n",
      "Collecting jiwer\n",
      "  Downloading jiwer-3.0.3-py3-none-any.whl (21 kB)\n",
      "Requirement already satisfied: numpy in /Users/anastasiazorkina/miniconda3/lib/python3.9/site-packages (from kaldiio) (1.24.3)\n",
      "Collecting rapidfuzz<4,>=3\n",
      "  Downloading rapidfuzz-3.5.2-cp39-cp39-macosx_11_0_arm64.whl (1.1 MB)\n",
      "\u001b[2K     \u001b[90m━━━━━━━━━━━━━━━━━━━━━━━━━━━━━━━━━━━━━━━━\u001b[0m \u001b[32m1.1/1.1 MB\u001b[0m \u001b[31m4.5 MB/s\u001b[0m eta \u001b[36m0:00:00\u001b[0ma \u001b[36m0:00:01\u001b[0mm\n",
      "\u001b[?25hRequirement already satisfied: click<9.0.0,>=8.1.3 in /Users/anastasiazorkina/miniconda3/lib/python3.9/site-packages (from jiwer) (8.1.7)\n",
      "Building wheels for collected packages: kenlm\n",
      "  Building wheel for kenlm (pyproject.toml) ... \u001b[?25ldone\n",
      "\u001b[?25h  Created wheel for kenlm: filename=kenlm-0.2.0-cp39-cp39-macosx_13_0_arm64.whl size=465536 sha256=33070273ec43b67ba57b6db5d9d4e66d761ab172bee4afa9cd989f82d5fa9c3f\n",
      "  Stored in directory: /Users/anastasiazorkina/Library/Caches/pip/wheels/21/30/55/3955d0d037976c85e040191a96b880cf3e7b59e1f98b607754\n",
      "Successfully built kenlm\n",
      "Installing collected packages: kenlm, rapidfuzz, kaldiio, jiwer\n",
      "Successfully installed jiwer-3.0.3 kaldiio-2.18.0 kenlm-0.2.0 rapidfuzz-3.5.2\n"
     ]
    }
   ],
   "source": [
    "!pip install graphviz kenlm kaldiio jiwer"
   ]
  },
  {
   "cell_type": "code",
   "execution_count": 8,
   "id": "cbb7b702",
   "metadata": {},
   "outputs": [
    {
     "name": "stdout",
     "output_type": "stream",
     "text": [
      "Defaulting to user installation because normal site-packages is not writeable\n",
      "Collecting kaldiio\n",
      "  Downloading kaldiio-2.18.0-py3-none-any.whl (28 kB)\n",
      "Requirement already satisfied: numpy in /home/ext-zorkina-a@ad.speechpro.com/.local/lib/python3.8/site-packages (from kaldiio) (1.23.5)\n",
      "Installing collected packages: kaldiio\n",
      "Successfully installed kaldiio-2.18.0\n",
      "\n",
      "\u001b[1m[\u001b[0m\u001b[34;49mnotice\u001b[0m\u001b[1;39;49m]\u001b[0m\u001b[39;49m A new release of pip is available: \u001b[0m\u001b[31;49m23.1.2\u001b[0m\u001b[39;49m -> \u001b[0m\u001b[32;49m23.3.2\u001b[0m\n",
      "\u001b[1m[\u001b[0m\u001b[34;49mnotice\u001b[0m\u001b[1;39;49m]\u001b[0m\u001b[39;49m To update, run: \u001b[0m\u001b[32;49mpython3 -m pip install --upgrade pip\u001b[0m\n"
     ]
    }
   ],
   "source": [
    "!pip install  kaldiio"
   ]
  },
  {
   "cell_type": "code",
   "execution_count": 14,
   "id": "ec58a336",
   "metadata": {},
   "outputs": [
    {
     "name": "stdout",
     "output_type": "stream",
     "text": [
      "Running `brew update --auto-update`...\n",
      "\u001b[34m==>\u001b[0m \u001b[1mDownloading https://ghcr.io/v2/homebrew/portable-ruby/portable-ruby/blobs/sha256:d783cbeb6e6ef0d71c0b442317b54554370decd6fac66bf2d4938c07a63f67be\u001b[0m\n",
      "######################################################################### 100.0%\n",
      "\u001b[34m==>\u001b[0m \u001b[1mPouring portable-ruby-3.1.4.arm64_big_sur.bottle.tar.gz\u001b[0m\n",
      "\u001b[34m==>\u001b[0m \u001b[1mAuto-updated Homebrew!\u001b[0m\n",
      "Updated 2 taps (homebrew/core and homebrew/cask).\n",
      "\u001b[34m==>\u001b[0m \u001b[1mNew Formulae\u001b[0m\n",
      "abi3audit                                purr\n",
      "action-validator                         python-abseil\n",
      "ain                                      python-anytree\n",
      "ali                                      python-argcomplete\n",
      "amass                                    python-asn1crypto\n",
      "ansible@8                                python-attrs\n",
      "apkleaks                                 python-boto3\n",
      "appstream                                python-botocore\n",
      "argc                                     python-brotli\n",
      "asitop                                   python-cachetools\n",
      "auditwheel                               python-chardet\n",
      "authz0                                   python-charset-normalizer\n",
      "awscli-local                             python-cli-helpers\n",
      "badkeys                                  python-colorama\n",
      "bao                                      python-configargparse\n",
      "bashunit                                 python-configobj\n",
      "biodiff                                  python-cycler\n",
      "bkcrack                                  python-dateutil\n",
      "bob                                      python-dicttoxml\n",
      "bomber                                   python-distlib\n",
      "bounceback                               python-distro\n",
      "cargo-sweep                              python-docopt\n",
      "cariddi                                  python-filelock\n",
      "certgraph                                python-hatch-fancy-pypi-readme\n",
      "certsync                                 python-hatch-vcs\n",
      "cf2tf                                    python-hatchling\n",
      "cfripper                                 python-idna\n",
      "chainloop-cli                            python-jinja\n",
      "chainsaw                                 python-jmespath\n",
      "changie                                  python-json5\n",
      "cherrybomb                               python-kiwisolver\n",
      "chisel-tunnel                            python-magic\n",
      "cidr                                     python-mako\n",
      "cliam                                    python-markdown-it-py\n",
      "cloudsplaining                           python-matplotlib\n",
      "crunchy-cli                              python-mdurl\n",
      "csprecon                                 python-mpmath\n",
      "daktilo                                  python-msgpack\n",
      "dalfox                                   python-networkx\n",
      "dcp                                      python-oauthlib\n",
      "der-ascii                                python-openapi3\n",
      "dicebear                                 python-pathspec\n",
      "diffoci                                  python-pbr\n",
      "direwolf                                 python-platformdirs\n",
      "dockerfile-language-server               python-pluggy\n",
      "dockly                                   python-ply\n",
      "doppler                                  python-prompt-toolkit\n",
      "dotter                                   python-psutil\n",
      "drogon                                   python-regex\n",
      "eatmemory                                python-requests\n",
      "faircamp                                 python-requests-oauthlib\n",
      "favirecon                                python-rich\n",
      "flyscrape                                python-s3transfer\n",
      "frozen                                   python-setuptools-scm\n",
      "gdrive@2                                 python-sympy\n",
      "geoip2fast                               python-termcolor\n",
      "ghc@9.4                                  python-trove-classifiers\n",
      "ghc@9.6                                  python-urllib3\n",
      "git-mediate                              python-wcwidth\n",
      "gitsign                                  python-websocket-client\n",
      "gittuf                                   python-xlsxwriter\n",
      "glbinding@2                              qbittorrent-cli\n",
      "goresym                                  rapidfuzz-cpp\n",
      "gossip                                   raven\n",
      "gotpm                                    rdap\n",
      "gptline                                  redress\n",
      "graphqlviz                               redwax-tool\n",
      "haiti                                    reflex\n",
      "immer                                    regclient\n",
      "incus                                    rekor-cli\n",
      "instaloader                              retire\n",
      "intercept                                retry\n",
      "invoice                                  richgo\n",
      "jprq                                     ruler\n",
      "jupyter-r                                saf-cli\n",
      "karmadactl                               scarb\n",
      "kew                                      scikit-image\n",
      "lager                                    scilla\n",
      "libconfini                               shell2http\n",
      "libcyaml                                 shellspec\n",
      "libdicom                                 sigma-cli\n",
      "libdpp                                   signmykey\n",
      "libjuice                                 sigstore\n",
      "libnghttp3                               skate\n",
      "libsail                                  sloth\n",
      "mariadb@11.1                             snakeviz\n",
      "mediamtx                                 snyk-cli\n",
      "memray                                   solo2-cli\n",
      "mentat                                   spglib\n",
      "minder                                   spicetify-cli\n",
      "modsurfer                                spidermonkey@91\n",
      "netlistsvg                               sqlfmt\n",
      "node@20                                  squealer\n",
      "noir                                     ssh-mitm\n",
      "nvimpager                                sshportal\n",
      "ocaml@4                                  tailspin\n",
      "open-simh                                telegram-downloader\n",
      "opensca-cli                              terraform-local\n",
      "opentofu                                 texttest\n",
      "orbuculum                                three-body\n",
      "osctrl-cli                               tlrc\n",
      "oslo                                     uvicorn\n",
      "pan                                      vet\n",
      "patat                                    virtctl\n",
      "patch-package                            vulsio-gost\n",
      "pciutils                                 whisper-cpp\n",
      "pdfalyzer                                witness\n",
      "pdfrip                                   wormhole-william\n",
      "perl-xml-parser                          xeol\n",
      "php@8.2                                  xnvme\n",
      "phylum-cli                               yatas\n",
      "pmix                                     zix\n",
      "presenterm                               zug\n",
      "\u001b[34m==>\u001b[0m \u001b[1mNew Casks\u001b[0m\n",
      "affine                                   macgpt\n",
      "amie                                     mdb-accdb-viewer\n",
      "anka-build-cloud-controller              mediamate\n",
      "anka-build-cloud-registry                metamer\n",
      "batchoutput-pdf                          mindmac\n",
      "bezel                                    mitmproxy\n",
      "blockstream-green                        modrinth\n",
      "brickstore                               music-decoy\n",
      "brightintosh                             navigraph-charts\n",
      "btp                                      navigraph-simlink\n",
      "cardo-update                             notes-better\n",
      "clibor                                   nvs\n",
      "codewhisperer                            nx-studio\n",
      "commandpost                              october\n",
      "deskpad                                  ok-json\n",
      "deveco-studio                            orka3\n",
      "devtunnel                                ovito\n",
      "douyin-chat                              ovito-pro\n",
      "effect-house                             proton-drive\n",
      "egovframedev                             reader\n",
      "focusrite-control-2                      roam\n",
      "fossa                                    rode-central\n",
      "free-podcast-transcription               sakura\n",
      "garmin-basecamp                          salt\n",
      "greenery                                 screens-assist\n",
      "gstreamer-development                    senabluetoothdevicemanager\n",
      "gstreamer-runtime                        simplex\n",
      "hapigo                                   songkong\n",
      "heynote                                  spacedrive\n",
      "hides                                    timemachinestatus\n",
      "hoppscotch                               truhu\n",
      "imazing-profile-editor                   tunetag\n",
      "jazz2-resurrection                       vimcal\n",
      "keyboard-cowboy                          wave\n",
      "keymapp                                  wiso-steuer-2024\n",
      "kuaitie                                  writerside\n",
      "libndi                                   xact\n",
      "low-profile                              xliff-editor\n",
      "lw-scanner                               xsplit-vcam\n"
     ]
    },
    {
     "name": "stdout",
     "output_type": "stream",
     "text": [
      "\n",
      "You have \u001b[1m25\u001b[0m outdated formulae installed.\n",
      "\n",
      "\u001b[34m==>\u001b[0m \u001b[1mDownloading https://ghcr.io/v2/homebrew/core/graphviz/manifests/9.0.0\u001b[0m\n",
      "######################################################################### 100.0%\n",
      "\u001b[32m==>\u001b[0m \u001b[1mFetching dependencies for graphviz: \u001b[32mlibavif\u001b[39m, \u001b[32mgd\u001b[39m, \u001b[32mjasper\u001b[39m, \u001b[32mnetpbm\u001b[39m, \u001b[32mgts\u001b[39m, \u001b[32mgdk-pixbuf\u001b[39m, \u001b[32mlibrsvg\u001b[39m, \u001b[32mm4\u001b[39m and \u001b[32mlibtool\u001b[39m\u001b[0m\n",
      "\u001b[34m==>\u001b[0m \u001b[1mDownloading https://ghcr.io/v2/homebrew/core/libavif/manifests/1.0.3\u001b[0m\n",
      "######################################################################### 100.0%\n",
      "\u001b[32m==>\u001b[0m \u001b[1mFetching dependencies for libavif: \u001b[32mxz\u001b[39m and \u001b[32maom\u001b[39m\u001b[0m\n",
      "\u001b[34m==>\u001b[0m \u001b[1mDownloading https://ghcr.io/v2/homebrew/core/xz/manifests/5.4.5\u001b[0m\n",
      "######################################################################### 100.0%\n",
      "\u001b[32m==>\u001b[0m \u001b[1mFetching \u001b[32mxz\u001b[39m\u001b[0m\n",
      "\u001b[34m==>\u001b[0m \u001b[1mDownloading https://ghcr.io/v2/homebrew/core/xz/blobs/sha256:05d853bc61d9bf9\u001b[0m\n",
      "######################################################################### 100.0%\n",
      "\u001b[34m==>\u001b[0m \u001b[1mDownloading https://ghcr.io/v2/homebrew/core/aom/manifests/3.8.0\u001b[0m\n",
      "######################################################################### 100.0%\n",
      "\u001b[32m==>\u001b[0m \u001b[1mFetching \u001b[32maom\u001b[39m\u001b[0m\n",
      "\u001b[34m==>\u001b[0m \u001b[1mDownloading https://ghcr.io/v2/homebrew/core/aom/blobs/sha256:f057d8a8f56fc4\u001b[0m\n",
      "######################################################################### 100.0%\n",
      "\u001b[32m==>\u001b[0m \u001b[1mFetching \u001b[32mlibavif\u001b[39m\u001b[0m\n",
      "\u001b[34m==>\u001b[0m \u001b[1mDownloading https://ghcr.io/v2/homebrew/core/libavif/blobs/sha256:477d4c23d4\u001b[0m\n",
      "######################################################################### 100.0%\n",
      "\u001b[34m==>\u001b[0m \u001b[1mDownloading https://ghcr.io/v2/homebrew/core/gd/manifests/2.3.3_6\u001b[0m\n",
      "######################################################################### 100.0%\n",
      "\u001b[32m==>\u001b[0m \u001b[1mFetching \u001b[32mgd\u001b[39m\u001b[0m\n",
      "\u001b[34m==>\u001b[0m \u001b[1mDownloading https://ghcr.io/v2/homebrew/core/gd/blobs/sha256:3f868f36cc47f91\u001b[0m\n",
      "######################################################################### 100.0%\n",
      "\u001b[34m==>\u001b[0m \u001b[1mDownloading https://ghcr.io/v2/homebrew/core/jasper/manifests/4.1.1\u001b[0m\n",
      "######################################################################### 100.0%\n",
      "\u001b[32m==>\u001b[0m \u001b[1mFetching \u001b[32mjasper\u001b[39m\u001b[0m\n",
      "\u001b[34m==>\u001b[0m \u001b[1mDownloading https://ghcr.io/v2/homebrew/core/jasper/blobs/sha256:a1782bd7c31\u001b[0m\n",
      "######################################################################### 100.0%\n",
      "\u001b[34m==>\u001b[0m \u001b[1mDownloading https://ghcr.io/v2/homebrew/core/netpbm/manifests/11.02.06\u001b[0m\n",
      "######################################################################### 100.0%\n",
      "\u001b[32m==>\u001b[0m \u001b[1mFetching \u001b[32mnetpbm\u001b[39m\u001b[0m\n",
      "\u001b[34m==>\u001b[0m \u001b[1mDownloading https://ghcr.io/v2/homebrew/core/netpbm/blobs/sha256:146c06ad377\u001b[0m\n",
      "######################################################################### 100.0%\n",
      "\u001b[34m==>\u001b[0m \u001b[1mDownloading https://ghcr.io/v2/homebrew/core/gts/manifests/0.7.6_3\u001b[0m\n",
      "######################################################################### 100.0%\n",
      "\u001b[32m==>\u001b[0m \u001b[1mFetching \u001b[32mgts\u001b[39m\u001b[0m\n",
      "\u001b[34m==>\u001b[0m \u001b[1mDownloading https://ghcr.io/v2/homebrew/core/gts/blobs/sha256:de8259a2462422\u001b[0m\n",
      "######################################################################### 100.0%\n",
      "\u001b[34m==>\u001b[0m \u001b[1mDownloading https://ghcr.io/v2/homebrew/core/gdk-pixbuf/manifests/2.42.10_1\u001b[0m\n",
      "######################################################################### 100.0%\n",
      "\u001b[32m==>\u001b[0m \u001b[1mFetching \u001b[32mgdk-pixbuf\u001b[39m\u001b[0m\n",
      "\u001b[34m==>\u001b[0m \u001b[1mDownloading https://ghcr.io/v2/homebrew/core/gdk-pixbuf/blobs/sha256:fe74fd0\u001b[0m\n",
      "######################################################################### 100.0%\n",
      "\u001b[34m==>\u001b[0m \u001b[1mDownloading https://ghcr.io/v2/homebrew/core/librsvg/manifests/2.57.1\u001b[0m\n",
      "######################################################################### 100.0%\n",
      "\u001b[32m==>\u001b[0m \u001b[1mFetching dependencies for librsvg: \u001b[32mgettext\u001b[39m, \u001b[32mglib\u001b[39m, \u001b[32mlibx11\u001b[39m and \u001b[32mharfbuzz\u001b[39m\u001b[0m\n",
      "\u001b[34m==>\u001b[0m \u001b[1mDownloading https://ghcr.io/v2/homebrew/core/gettext/manifests/0.22.4\u001b[0m\n",
      "######################################################################### 100.0%\n",
      "\u001b[32m==>\u001b[0m \u001b[1mFetching \u001b[32mgettext\u001b[39m\u001b[0m\n",
      "\u001b[34m==>\u001b[0m \u001b[1mDownloading https://ghcr.io/v2/homebrew/core/gettext/blobs/sha256:c652190aa7\u001b[0m\n",
      "######################################################################### 100.0%\n",
      "\u001b[34m==>\u001b[0m \u001b[1mDownloading https://ghcr.io/v2/homebrew/core/glib/manifests/2.78.3\u001b[0m\n",
      "######################################################################### 100.0%\n",
      "\u001b[32m==>\u001b[0m \u001b[1mFetching \u001b[32mglib\u001b[39m\u001b[0m\n",
      "\u001b[34m==>\u001b[0m \u001b[1mDownloading https://ghcr.io/v2/homebrew/core/glib/blobs/sha256:25043e7acd810\u001b[0m\n",
      "######################################################################### 100.0%\n",
      "\u001b[34m==>\u001b[0m \u001b[1mDownloading https://ghcr.io/v2/homebrew/core/libx11/manifests/1.8.7\u001b[0m\n",
      "######################################################################### 100.0%\n",
      "\u001b[32m==>\u001b[0m \u001b[1mFetching \u001b[32mlibx11\u001b[39m\u001b[0m\n",
      "\u001b[34m==>\u001b[0m \u001b[1mDownloading https://ghcr.io/v2/homebrew/core/libx11/blobs/sha256:1b8f10d203c\u001b[0m\n",
      "######################################################################### 100.0%\n",
      "\u001b[34m==>\u001b[0m \u001b[1mDownloading https://ghcr.io/v2/homebrew/core/harfbuzz/manifests/8.3.0\u001b[0m\n",
      "######################################################################### 100.0%\n",
      "\u001b[32m==>\u001b[0m \u001b[1mFetching \u001b[32mharfbuzz\u001b[39m\u001b[0m\n",
      "\u001b[34m==>\u001b[0m \u001b[1mDownloading https://ghcr.io/v2/homebrew/core/harfbuzz/blobs/sha256:7a0e73203\u001b[0m\n",
      "######################################################################### 100.0%\n",
      "\u001b[32m==>\u001b[0m \u001b[1mFetching \u001b[32mlibrsvg\u001b[39m\u001b[0m\n",
      "\u001b[34m==>\u001b[0m \u001b[1mDownloading https://ghcr.io/v2/homebrew/core/librsvg/blobs/sha256:a41b9a6707\u001b[0m\n",
      "######################################################################### 100.0%\n",
      "\u001b[34m==>\u001b[0m \u001b[1mDownloading https://ghcr.io/v2/homebrew/core/m4/manifests/1.4.19\u001b[0m\n",
      "######################################################################### 100.0%\n",
      "\u001b[32m==>\u001b[0m \u001b[1mFetching \u001b[32mm4\u001b[39m\u001b[0m\n",
      "\u001b[34m==>\u001b[0m \u001b[1mDownloading https://ghcr.io/v2/homebrew/core/m4/blobs/sha256:11308abe8d607be\u001b[0m\n",
      "######################################################################### 100.0%\n",
      "\u001b[34m==>\u001b[0m \u001b[1mDownloading https://ghcr.io/v2/homebrew/core/libtool/manifests/2.4.7-1\u001b[0m\n",
      "######################################################################### 100.0%\n",
      "\u001b[32m==>\u001b[0m \u001b[1mFetching \u001b[32mlibtool\u001b[39m\u001b[0m\n",
      "\u001b[34m==>\u001b[0m \u001b[1mDownloading https://ghcr.io/v2/homebrew/core/libtool/blobs/sha256:a7196b340a\u001b[0m\n",
      "######################################################################### 100.0%\n",
      "\u001b[32m==>\u001b[0m \u001b[1mFetching \u001b[32mgraphviz\u001b[39m\u001b[0m\n",
      "\u001b[34m==>\u001b[0m \u001b[1mDownloading https://ghcr.io/v2/homebrew/core/graphviz/blobs/sha256:2cc4f492a\u001b[0m\n",
      "######################################################################### 100.0%\n",
      "\u001b[32m==>\u001b[0m \u001b[1mInstalling dependencies for graphviz: \u001b[32mlibavif\u001b[39m, \u001b[32mgd\u001b[39m, \u001b[32mjasper\u001b[39m, \u001b[32mnetpbm\u001b[39m, \u001b[32mgts\u001b[39m, \u001b[32mgdk-pixbuf\u001b[39m, \u001b[32mlibrsvg\u001b[39m, \u001b[32mm4\u001b[39m and \u001b[32mlibtool\u001b[39m\u001b[0m\n",
      "\u001b[32m==>\u001b[0m \u001b[1mInstalling graphviz dependency: \u001b[32mlibavif\u001b[39m\u001b[0m\n",
      "\u001b[34m==>\u001b[0m \u001b[1mDownloading https://ghcr.io/v2/homebrew/core/libavif/manifests/1.0.3\u001b[0m\n",
      "Already downloaded: /Users/anastasiazorkina/Library/Caches/Homebrew/downloads/7aeab8a2a1971540f9a21f6189d69157edfc2728d3da8263e9ebda12ec517986--libavif-1.0.3.bottle_manifest.json\n",
      "\u001b[32m==>\u001b[0m \u001b[1mInstalling dependencies for libavif: \u001b[32mxz\u001b[39m and \u001b[32maom\u001b[39m\u001b[0m\n",
      "\u001b[32m==>\u001b[0m \u001b[1mInstalling libavif dependency: \u001b[32mxz\u001b[39m\u001b[0m\n",
      "\u001b[34m==>\u001b[0m \u001b[1mDownloading https://ghcr.io/v2/homebrew/core/xz/manifests/5.4.5\u001b[0m\n",
      "Already downloaded: /Users/anastasiazorkina/Library/Caches/Homebrew/downloads/4e81fda476fb634a7e1ac650019bfe768a65d6c387015992df4cd75adf9b3fce--xz-5.4.5.bottle_manifest.json\n",
      "\u001b[34m==>\u001b[0m \u001b[1mPouring xz--5.4.5.arm64_ventura.bottle.tar.gz\u001b[0m\n",
      "🍺  /opt/homebrew/Cellar/xz/5.4.5: 163 files, 2.6MB\n",
      "\u001b[32m==>\u001b[0m \u001b[1mInstalling libavif dependency: \u001b[32maom\u001b[39m\u001b[0m\n",
      "\u001b[34m==>\u001b[0m \u001b[1mDownloading https://ghcr.io/v2/homebrew/core/aom/manifests/3.8.0\u001b[0m\n",
      "Already downloaded: /Users/anastasiazorkina/Library/Caches/Homebrew/downloads/dfcc96b72b82ea2a86a94a9b6348b3fe1084e7459818a04dd86a321d7f8908e1--aom-3.8.0.bottle_manifest.json\n"
     ]
    },
    {
     "name": "stdout",
     "output_type": "stream",
     "text": [
      "\u001b[34m==>\u001b[0m \u001b[1mPouring aom--3.8.0.arm64_ventura.bottle.tar.gz\u001b[0m\n",
      "🍺  /opt/homebrew/Cellar/aom/3.8.0: 23 files, 10.3MB\n",
      "\u001b[32m==>\u001b[0m \u001b[1mInstalling \u001b[32mlibavif\u001b[39m\u001b[0m\n",
      "\u001b[34m==>\u001b[0m \u001b[1mPouring libavif--1.0.3.arm64_ventura.bottle.tar.gz\u001b[0m\n",
      "🍺  /opt/homebrew/Cellar/libavif/1.0.3: 19 files, 537.5KB\n",
      "\u001b[32m==>\u001b[0m \u001b[1mInstalling graphviz dependency: \u001b[32mgd\u001b[39m\u001b[0m\n",
      "\u001b[34m==>\u001b[0m \u001b[1mDownloading https://ghcr.io/v2/homebrew/core/gd/manifests/2.3.3_6\u001b[0m\n",
      "Already downloaded: /Users/anastasiazorkina/Library/Caches/Homebrew/downloads/1f63d9efd8c74faa4477bd8b8a3970abd38e51230ed052918bb6f3715aab8b61--gd-2.3.3_6.bottle_manifest.json\n",
      "\u001b[34m==>\u001b[0m \u001b[1mPouring gd--2.3.3_6.arm64_ventura.bottle.tar.gz\u001b[0m\n",
      "🍺  /opt/homebrew/Cellar/gd/2.3.3_6: 33 files, 1.5MB\n",
      "\u001b[32m==>\u001b[0m \u001b[1mInstalling graphviz dependency: \u001b[32mjasper\u001b[39m\u001b[0m\n",
      "\u001b[34m==>\u001b[0m \u001b[1mDownloading https://ghcr.io/v2/homebrew/core/jasper/manifests/4.1.1\u001b[0m\n",
      "Already downloaded: /Users/anastasiazorkina/Library/Caches/Homebrew/downloads/b579b0ce79659916a5fa1cb4e83416d19cdff8f7ea9183ed6a84f7ba71bc0f2f--jasper-4.1.1.bottle_manifest.json\n",
      "\u001b[34m==>\u001b[0m \u001b[1mPouring jasper--4.1.1.arm64_ventura.bottle.tar.gz\u001b[0m\n",
      "🍺  /opt/homebrew/Cellar/jasper/4.1.1: 44 files, 1.6MB\n",
      "\u001b[32m==>\u001b[0m \u001b[1mInstalling graphviz dependency: \u001b[32mnetpbm\u001b[39m\u001b[0m\n",
      "\u001b[34m==>\u001b[0m \u001b[1mDownloading https://ghcr.io/v2/homebrew/core/netpbm/manifests/11.02.06\u001b[0m\n",
      "Already downloaded: /Users/anastasiazorkina/Library/Caches/Homebrew/downloads/b3f1cc825084c4eee86a8df2a5d6810726b8175dbbeebded758a201ab83a6e34--netpbm-11.02.06.bottle_manifest.json\n",
      "\u001b[34m==>\u001b[0m \u001b[1mPouring netpbm--11.02.06.arm64_ventura.bottle.tar.gz\u001b[0m\n",
      "🍺  /opt/homebrew/Cellar/netpbm/11.02.06: 416 files, 18.7MB\n",
      "\u001b[32m==>\u001b[0m \u001b[1mInstalling graphviz dependency: \u001b[32mgts\u001b[39m\u001b[0m\n",
      "\u001b[34m==>\u001b[0m \u001b[1mDownloading https://ghcr.io/v2/homebrew/core/gts/manifests/0.7.6_3\u001b[0m\n",
      "Already downloaded: /Users/anastasiazorkina/Library/Caches/Homebrew/downloads/0cb7519523b42ff855917c33218c1ef771e3060080fea895de59eb848c833cd1--gts-0.7.6_3.bottle_manifest.json\n",
      "\u001b[34m==>\u001b[0m \u001b[1mPouring gts--0.7.6_3.arm64_ventura.bottle.tar.gz\u001b[0m\n",
      "🍺  /opt/homebrew/Cellar/gts/0.7.6_3: 26 files, 1.6MB\n",
      "\u001b[32m==>\u001b[0m \u001b[1mInstalling graphviz dependency: \u001b[32mgdk-pixbuf\u001b[39m\u001b[0m\n",
      "\u001b[34m==>\u001b[0m \u001b[1mDownloading https://ghcr.io/v2/homebrew/core/gdk-pixbuf/manifests/2.42.10_1\u001b[0m\n",
      "Already downloaded: /Users/anastasiazorkina/Library/Caches/Homebrew/downloads/bafdc7649c7c2533d65c51456f0dd34af1f319c68d3462c6f9906e57a9805859--gdk-pixbuf-2.42.10_1.bottle_manifest.json\n",
      "\u001b[34m==>\u001b[0m \u001b[1mPouring gdk-pixbuf--2.42.10_1.arm64_ventura.bottle.tar.gz\u001b[0m\n",
      "\u001b[34m==>\u001b[0m \u001b[1m/opt/homebrew/Cellar/gdk-pixbuf/2.42.10_1/bin/gdk-pixbuf-query-loaders --upd\u001b[0m\n",
      "🍺  /opt/homebrew/Cellar/gdk-pixbuf/2.42.10_1: 150 files, 3.9MB\n",
      "\u001b[32m==>\u001b[0m \u001b[1mInstalling graphviz dependency: \u001b[32mlibrsvg\u001b[39m\u001b[0m\n",
      "\u001b[34m==>\u001b[0m \u001b[1mDownloading https://ghcr.io/v2/homebrew/core/librsvg/manifests/2.57.1\u001b[0m\n",
      "Already downloaded: /Users/anastasiazorkina/Library/Caches/Homebrew/downloads/84802a3e03984a396f2c85a224613b5403dc909e6139409013350c38b39aaf0a--librsvg-2.57.1.bottle_manifest.json\n",
      "\u001b[32m==>\u001b[0m \u001b[1mInstalling dependencies for librsvg: \u001b[32mgettext\u001b[39m, \u001b[32mglib\u001b[39m, \u001b[32mlibx11\u001b[39m and \u001b[32mharfbuzz\u001b[39m\u001b[0m\n",
      "\u001b[32m==>\u001b[0m \u001b[1mInstalling librsvg dependency: \u001b[32mgettext\u001b[39m\u001b[0m\n",
      "\u001b[34m==>\u001b[0m \u001b[1mDownloading https://ghcr.io/v2/homebrew/core/gettext/manifests/0.22.4\u001b[0m\n",
      "Already downloaded: /Users/anastasiazorkina/Library/Caches/Homebrew/downloads/3ceb9457127eaa7378dd80ed256098ffb391e2350069becb25cfe2a14f0b7d6d--gettext-0.22.4.bottle_manifest.json\n",
      "\u001b[34m==>\u001b[0m \u001b[1mPouring gettext--0.22.4.arm64_ventura.bottle.tar.gz\u001b[0m\n",
      "🍺  /opt/homebrew/Cellar/gettext/0.22.4: 2,042 files, 24.3MB\n",
      "\u001b[32m==>\u001b[0m \u001b[1mInstalling librsvg dependency: \u001b[32mglib\u001b[39m\u001b[0m\n",
      "\u001b[34m==>\u001b[0m \u001b[1mDownloading https://ghcr.io/v2/homebrew/core/glib/manifests/2.78.3\u001b[0m\n",
      "Already downloaded: /Users/anastasiazorkina/Library/Caches/Homebrew/downloads/33691fa3f0682c43459117cdc029ecef157fab4e7f1c8bdac19e861665ffc1db--glib-2.78.3.bottle_manifest.json\n",
      "\u001b[34m==>\u001b[0m \u001b[1mPouring glib--2.78.3.arm64_ventura.bottle.tar.gz\u001b[0m\n",
      "🍺  /opt/homebrew/Cellar/glib/2.78.3: 456 files, 22.5MB\n",
      "\u001b[32m==>\u001b[0m \u001b[1mInstalling librsvg dependency: \u001b[32mlibx11\u001b[39m\u001b[0m\n",
      "\u001b[34m==>\u001b[0m \u001b[1mDownloading https://ghcr.io/v2/homebrew/core/libx11/manifests/1.8.7\u001b[0m\n",
      "Already downloaded: /Users/anastasiazorkina/Library/Caches/Homebrew/downloads/4d15c929e0532c9a908dcb7d562929ecc5dd3a0a0cd4c19cf50683c06282fd7f--libx11-1.8.7.bottle_manifest.json\n",
      "\u001b[34m==>\u001b[0m \u001b[1mPouring libx11--1.8.7.arm64_ventura.bottle.tar.gz\u001b[0m\n",
      "🍺  /opt/homebrew/Cellar/libx11/1.8.7: 1,042 files, 7.0MB\n",
      "\u001b[32m==>\u001b[0m \u001b[1mInstalling librsvg dependency: \u001b[32mharfbuzz\u001b[39m\u001b[0m\n",
      "\u001b[34m==>\u001b[0m \u001b[1mDownloading https://ghcr.io/v2/homebrew/core/harfbuzz/manifests/8.3.0\u001b[0m\n",
      "Already downloaded: /Users/anastasiazorkina/Library/Caches/Homebrew/downloads/8fccd91a473694ef9d916ce061ae69cb18243bdab491757fae06fed911dd5b63--harfbuzz-8.3.0.bottle_manifest.json\n",
      "\u001b[34m==>\u001b[0m \u001b[1mPouring harfbuzz--8.3.0.arm64_ventura.bottle.tar.gz\u001b[0m\n",
      "🍺  /opt/homebrew/Cellar/harfbuzz/8.3.0: 76 files, 9.5MB\n",
      "\u001b[32m==>\u001b[0m \u001b[1mInstalling \u001b[32mlibrsvg\u001b[39m\u001b[0m\n",
      "\u001b[34m==>\u001b[0m \u001b[1mPouring librsvg--2.57.1.arm64_ventura.bottle.tar.gz\u001b[0m\n",
      "\u001b[34m==>\u001b[0m \u001b[1m/opt/homebrew/opt/gdk-pixbuf/bin/gdk-pixbuf-query-loaders --update-cache\u001b[0m\n",
      "🍺  /opt/homebrew/Cellar/librsvg/2.57.1: 22 files, 43.4MB\n",
      "\u001b[32m==>\u001b[0m \u001b[1mInstalling graphviz dependency: \u001b[32mm4\u001b[39m\u001b[0m\n",
      "\u001b[34m==>\u001b[0m \u001b[1mDownloading https://ghcr.io/v2/homebrew/core/m4/manifests/1.4.19\u001b[0m\n",
      "Already downloaded: /Users/anastasiazorkina/Library/Caches/Homebrew/downloads/5b2a7f715487b7377e409e8ca58569040cd89f33859f691210c58d94410fd33b--m4-1.4.19.bottle_manifest.json\n",
      "\u001b[34m==>\u001b[0m \u001b[1mPouring m4--1.4.19.arm64_ventura.bottle.tar.gz\u001b[0m\n",
      "🍺  /opt/homebrew/Cellar/m4/1.4.19: 13 files, 742.3KB\n",
      "\u001b[32m==>\u001b[0m \u001b[1mInstalling graphviz dependency: \u001b[32mlibtool\u001b[39m\u001b[0m\n",
      "\u001b[34m==>\u001b[0m \u001b[1mDownloading https://ghcr.io/v2/homebrew/core/libtool/manifests/2.4.7-1\u001b[0m\n",
      "Already downloaded: /Users/anastasiazorkina/Library/Caches/Homebrew/downloads/606e79b61b857bc4e83f71abf7afa8e087c4ad71539989e7066a4055439bf129--libtool-2.4.7-1.bottle_manifest.json\n",
      "\u001b[34m==>\u001b[0m \u001b[1mPouring libtool--2.4.7.arm64_ventura.bottle.1.tar.gz\u001b[0m\n",
      "🍺  /opt/homebrew/Cellar/libtool/2.4.7: 75 files, 3.8MB\n",
      "\u001b[32m==>\u001b[0m \u001b[1mInstalling \u001b[32mgraphviz\u001b[39m\u001b[0m\n",
      "\u001b[34m==>\u001b[0m \u001b[1mPouring graphviz--9.0.0.arm64_ventura.bottle.tar.gz\u001b[0m\n",
      "🍺  /opt/homebrew/Cellar/graphviz/9.0.0: 287 files, 7.1MB\n",
      "\u001b[34m==>\u001b[0m \u001b[1mRunning `brew cleanup graphviz`...\u001b[0m\n",
      "Disable this behaviour by setting HOMEBREW_NO_INSTALL_CLEANUP.\n",
      "Hide these hints with HOMEBREW_NO_ENV_HINTS (see `man brew`).\n",
      "\u001b[34m==>\u001b[0m \u001b[1mUpgrading 3 dependents of upgraded formulae:\u001b[0m\n",
      "Disable this behaviour by setting HOMEBREW_NO_INSTALLED_DEPENDENTS_CHECK.\n",
      "Hide these hints with HOMEBREW_NO_ENV_HINTS (see `man brew`).\n",
      "gnutls 3.8.1 -> 3.8.2, tesseract 5.3.2_1 -> 5.3.3, ffmpeg 6.0_1 -> 6.0_2\n",
      "\u001b[34m==>\u001b[0m \u001b[1mDownloading https://ghcr.io/v2/homebrew/core/gnutls/manifests/3.8.2\u001b[0m\n",
      "######################################################################### 100.0%\n",
      "\u001b[32m==>\u001b[0m \u001b[1mFetching dependencies for gnutls: \u001b[32mgmp\u001b[39m, \u001b[32mp11-kit\u001b[39m, \u001b[32mopenssl@3\u001b[39m, \u001b[32mlibnghttp2\u001b[39m and \u001b[32munbound\u001b[39m\u001b[0m\n",
      "\u001b[34m==>\u001b[0m \u001b[1mDownloading https://ghcr.io/v2/homebrew/core/gmp/manifests/6.3.0\u001b[0m\n",
      "######################################################################### 100.0%\n",
      "\u001b[32m==>\u001b[0m \u001b[1mFetching \u001b[32mgmp\u001b[39m\u001b[0m\n",
      "\u001b[34m==>\u001b[0m \u001b[1mDownloading https://ghcr.io/v2/homebrew/core/gmp/blobs/sha256:98c163edfbe7bd\u001b[0m\n",
      "######################################################################### 100.0%\n",
      "\u001b[34m==>\u001b[0m \u001b[1mDownloading https://ghcr.io/v2/homebrew/core/p11-kit/manifests/0.25.3\u001b[0m\n",
      "######################################################################### 100.0%\n",
      "\u001b[32m==>\u001b[0m \u001b[1mFetching \u001b[32mp11-kit\u001b[39m\u001b[0m\n",
      "\u001b[34m==>\u001b[0m \u001b[1mDownloading https://ghcr.io/v2/homebrew/core/p11-kit/blobs/sha256:f965f464d9\u001b[0m\n",
      "######################################################################### 100.0%\n",
      "\u001b[34m==>\u001b[0m \u001b[1mDownloading https://ghcr.io/v2/homebrew/core/openssl/3/manifests/3.2.0_1\u001b[0m\n"
     ]
    },
    {
     "name": "stdout",
     "output_type": "stream",
     "text": [
      "######################################################################### 100.0%\n",
      "\u001b[32m==>\u001b[0m \u001b[1mFetching \u001b[32mopenssl@3\u001b[39m\u001b[0m\n",
      "\u001b[34m==>\u001b[0m \u001b[1mDownloading https://ghcr.io/v2/homebrew/core/openssl/3/blobs/sha256:4bf12955\u001b[0m\n",
      "######################################################################### 100.0%\n",
      "\u001b[34m==>\u001b[0m \u001b[1mDownloading https://ghcr.io/v2/homebrew/core/libnghttp2/manifests/1.58.0\u001b[0m\n",
      "######################################################################### 100.0%\n",
      "\u001b[32m==>\u001b[0m \u001b[1mFetching \u001b[32mlibnghttp2\u001b[39m\u001b[0m\n",
      "\u001b[34m==>\u001b[0m \u001b[1mDownloading https://ghcr.io/v2/homebrew/core/libnghttp2/blobs/sha256:73d3d70\u001b[0m\n",
      "######################################################################### 100.0%\n",
      "\u001b[34m==>\u001b[0m \u001b[1mDownloading https://ghcr.io/v2/homebrew/core/unbound/manifests/1.19.0\u001b[0m\n",
      "######################################################################### 100.0%\n",
      "\u001b[32m==>\u001b[0m \u001b[1mFetching \u001b[32munbound\u001b[39m\u001b[0m\n",
      "\u001b[34m==>\u001b[0m \u001b[1mDownloading https://ghcr.io/v2/homebrew/core/unbound/blobs/sha256:5c00016807\u001b[0m\n",
      "######################################################################### 100.0%\n",
      "\u001b[32m==>\u001b[0m \u001b[1mFetching \u001b[32mgnutls\u001b[39m\u001b[0m\n",
      "\u001b[34m==>\u001b[0m \u001b[1mDownloading https://ghcr.io/v2/homebrew/core/gnutls/blobs/sha256:48cbe35994d\u001b[0m\n",
      "######################################################################### 100.0%\n",
      "\u001b[34m==>\u001b[0m \u001b[1mDownloading https://ghcr.io/v2/homebrew/core/tesseract/manifests/5.3.3\u001b[0m\n",
      "######################################################################### 100.0%\n",
      "\u001b[34m==>\u001b[0m \u001b[1mDownloading https://ghcr.io/v2/homebrew/core/ffmpeg/manifests/6.0_2\u001b[0m\n",
      "######################################################################### 100.0%\n",
      "\u001b[32m==>\u001b[0m \u001b[1mFetching dependencies for ffmpeg: \u001b[32mdav1d\u001b[39m, \u001b[32mfrei0r\u001b[39m, \u001b[32mlibmicrohttpd\u001b[39m, \u001b[32mmbedtls\u001b[39m, \u001b[32mlibrist\u001b[39m, \u001b[32mmpg123\u001b[39m, \u001b[32msdl2\u001b[39m, \u001b[32mtesseract\u001b[39m, \u001b[32mx264\u001b[39m, \u001b[32mlibsodium\u001b[39m and \u001b[32mzeromq\u001b[39m\u001b[0m\n",
      "\u001b[34m==>\u001b[0m \u001b[1mDownloading https://ghcr.io/v2/homebrew/core/dav1d/manifests/1.3.0\u001b[0m\n",
      "######################################################################### 100.0%\n",
      "\u001b[32m==>\u001b[0m \u001b[1mFetching \u001b[32mdav1d\u001b[39m\u001b[0m\n",
      "\u001b[34m==>\u001b[0m \u001b[1mDownloading https://ghcr.io/v2/homebrew/core/dav1d/blobs/sha256:b7a6cab7a7db\u001b[0m\n",
      "######################################################################### 100.0%\n",
      "\u001b[34m==>\u001b[0m \u001b[1mDownloading https://ghcr.io/v2/homebrew/core/frei0r/manifests/2.3.2\u001b[0m\n",
      "######################################################################### 100.0%\n",
      "\u001b[32m==>\u001b[0m \u001b[1mFetching \u001b[32mfrei0r\u001b[39m\u001b[0m\n",
      "\u001b[34m==>\u001b[0m \u001b[1mDownloading https://ghcr.io/v2/homebrew/core/frei0r/blobs/sha256:fc73fd01cde\u001b[0m\n",
      "######################################################################### 100.0%\n",
      "\u001b[34m==>\u001b[0m \u001b[1mDownloading https://ghcr.io/v2/homebrew/core/libmicrohttpd/manifests/0.9.77\u001b[0m\n",
      "######################################################################### 100.0%\n",
      "\u001b[32m==>\u001b[0m \u001b[1mFetching \u001b[32mlibmicrohttpd\u001b[39m\u001b[0m\n",
      "\u001b[34m==>\u001b[0m \u001b[1mDownloading https://ghcr.io/v2/homebrew/core/libmicrohttpd/blobs/sha256:db58\u001b[0m\n",
      "######################################################################### 100.0%\n",
      "\u001b[34m==>\u001b[0m \u001b[1mDownloading https://ghcr.io/v2/homebrew/core/mbedtls/manifests/3.5.1\u001b[0m\n",
      "######################################################################### 100.0%\n",
      "\u001b[32m==>\u001b[0m \u001b[1mFetching \u001b[32mmbedtls\u001b[39m\u001b[0m\n",
      "\u001b[34m==>\u001b[0m \u001b[1mDownloading https://ghcr.io/v2/homebrew/core/mbedtls/blobs/sha256:956d113cb5\u001b[0m\n",
      "######################################################################### 100.0%\n",
      "\u001b[34m==>\u001b[0m \u001b[1mDownloading https://ghcr.io/v2/homebrew/core/librist/manifests/0.2.10\u001b[0m\n",
      "######################################################################### 100.0%\n",
      "\u001b[32m==>\u001b[0m \u001b[1mFetching \u001b[32mlibrist\u001b[39m\u001b[0m\n",
      "\u001b[34m==>\u001b[0m \u001b[1mDownloading https://ghcr.io/v2/homebrew/core/librist/blobs/sha256:0fbf53eef9\u001b[0m\n",
      "######################################################################### 100.0%\n",
      "\u001b[34m==>\u001b[0m \u001b[1mDownloading https://ghcr.io/v2/homebrew/core/mpg123/manifests/1.32.3\u001b[0m\n",
      "######################################################################### 100.0%\n",
      "\u001b[32m==>\u001b[0m \u001b[1mFetching \u001b[32mmpg123\u001b[39m\u001b[0m\n",
      "\u001b[34m==>\u001b[0m \u001b[1mDownloading https://ghcr.io/v2/homebrew/core/mpg123/blobs/sha256:f0ec99c74ee\u001b[0m\n",
      "######################################################################### 100.0%\n",
      "\u001b[34m==>\u001b[0m \u001b[1mDownloading https://ghcr.io/v2/homebrew/core/sdl2/manifests/2.28.5-1\u001b[0m\n",
      "######################################################################### 100.0%\n",
      "\u001b[32m==>\u001b[0m \u001b[1mFetching \u001b[32msdl2\u001b[39m\u001b[0m\n",
      "\u001b[34m==>\u001b[0m \u001b[1mDownloading https://ghcr.io/v2/homebrew/core/sdl2/blobs/sha256:37643f9e5212d\u001b[0m\n",
      "######################################################################### 100.0%\n",
      "\u001b[34m==>\u001b[0m \u001b[1mDownloading https://ghcr.io/v2/homebrew/core/tesseract/manifests/5.3.3\u001b[0m\n",
      "Already downloaded: /Users/anastasiazorkina/Library/Caches/Homebrew/downloads/19e4e7868e0781a93b2336196f0c584f04824e184a221000d7d6846a5fc8b046--tesseract-5.3.3.bottle_manifest.json\n",
      "\u001b[32m==>\u001b[0m \u001b[1mFetching \u001b[32mtesseract\u001b[39m\u001b[0m\n",
      "\u001b[34m==>\u001b[0m \u001b[1mDownloading https://ghcr.io/v2/homebrew/core/tesseract/blobs/sha256:34f7e704\u001b[0m\n",
      "######################################################################### 100.0%\n",
      "\u001b[34m==>\u001b[0m \u001b[1mDownloading https://ghcr.io/v2/homebrew/core/x264/manifests/r3108\u001b[0m\n",
      "######################################################################### 100.0%\n",
      "\u001b[32m==>\u001b[0m \u001b[1mFetching \u001b[32mx264\u001b[39m\u001b[0m\n",
      "\u001b[34m==>\u001b[0m \u001b[1mDownloading https://ghcr.io/v2/homebrew/core/x264/blobs/sha256:65babfc775b28\u001b[0m\n",
      "######################################################################### 100.0%\n",
      "\u001b[34m==>\u001b[0m \u001b[1mDownloading https://ghcr.io/v2/homebrew/core/libsodium/manifests/1.0.19\u001b[0m\n",
      "######################################################################### 100.0%\n",
      "\u001b[32m==>\u001b[0m \u001b[1mFetching \u001b[32mlibsodium\u001b[39m\u001b[0m\n",
      "\u001b[34m==>\u001b[0m \u001b[1mDownloading https://ghcr.io/v2/homebrew/core/libsodium/blobs/sha256:182de39b\u001b[0m\n",
      "######################################################################### 100.0%\n",
      "\u001b[34m==>\u001b[0m \u001b[1mDownloading https://ghcr.io/v2/homebrew/core/zeromq/manifests/4.3.5_1\u001b[0m\n",
      "######################################################################### 100.0%\n",
      "\u001b[32m==>\u001b[0m \u001b[1mFetching \u001b[32mzeromq\u001b[39m\u001b[0m\n",
      "\u001b[34m==>\u001b[0m \u001b[1mDownloading https://ghcr.io/v2/homebrew/core/zeromq/blobs/sha256:0f670cd22b7\u001b[0m\n",
      "######################################################################### 100.0%\n",
      "\u001b[32m==>\u001b[0m \u001b[1mFetching \u001b[32mffmpeg\u001b[39m\u001b[0m\n",
      "\u001b[34m==>\u001b[0m \u001b[1mDownloading https://ghcr.io/v2/homebrew/core/ffmpeg/blobs/sha256:1369ed7bbc3\u001b[0m\n",
      "######################################################################### 100.0%\n",
      "\u001b[32m==>\u001b[0m \u001b[1mUpgrading \u001b[32mgnutls\u001b[39m\n",
      "  3.8.1 -> 3.8.2 \n",
      "\u001b[0m\n",
      "\u001b[32m==>\u001b[0m \u001b[1mInstalling dependencies for gnutls: \u001b[32mgmp\u001b[39m, \u001b[32mp11-kit\u001b[39m, \u001b[32mopenssl@3\u001b[39m, \u001b[32mlibnghttp2\u001b[39m and \u001b[32munbound\u001b[39m\u001b[0m\n",
      "\u001b[32m==>\u001b[0m \u001b[1mInstalling gnutls dependency: \u001b[32mgmp\u001b[39m\u001b[0m\n",
      "\u001b[34m==>\u001b[0m \u001b[1mDownloading https://ghcr.io/v2/homebrew/core/gmp/manifests/6.3.0\u001b[0m\n",
      "Already downloaded: /Users/anastasiazorkina/Library/Caches/Homebrew/downloads/70a72a71216843d66a953c06ff6337445ce9bc94fae9f0e301e2f59005274a8e--gmp-6.3.0.bottle_manifest.json\n",
      "\u001b[34m==>\u001b[0m \u001b[1mPouring gmp--6.3.0.arm64_ventura.bottle.tar.gz\u001b[0m\n",
      "🍺  /opt/homebrew/Cellar/gmp/6.3.0: 21 files, 3.3MB\n",
      "\u001b[32m==>\u001b[0m \u001b[1mInstalling gnutls dependency: \u001b[32mp11-kit\u001b[39m\u001b[0m\n",
      "\u001b[34m==>\u001b[0m \u001b[1mDownloading https://ghcr.io/v2/homebrew/core/p11-kit/manifests/0.25.3\u001b[0m\n",
      "Already downloaded: /Users/anastasiazorkina/Library/Caches/Homebrew/downloads/cc547bf2f72da03680090015f5b720aff280ce33de9c33783a69c24fe97a4246--p11-kit-0.25.3.bottle_manifest.json\n",
      "\u001b[34m==>\u001b[0m \u001b[1mPouring p11-kit--0.25.3.arm64_ventura.bottle.tar.gz\u001b[0m\n",
      "🍺  /opt/homebrew/Cellar/p11-kit/0.25.3: 28 files, 4.2MB\n",
      "\u001b[32m==>\u001b[0m \u001b[1mInstalling gnutls dependency: \u001b[32mopenssl@3\u001b[39m\u001b[0m\n",
      "\u001b[34m==>\u001b[0m \u001b[1mDownloading https://ghcr.io/v2/homebrew/core/openssl/3/manifests/3.2.0_1\u001b[0m\n",
      "Already downloaded: /Users/anastasiazorkina/Library/Caches/Homebrew/downloads/8e5415de690efd057f74775ab4b808fed9a50bf29c34ee9cb52118d189ef73a9--openssl@3-3.2.0_1.bottle_manifest.json\n",
      "\u001b[34m==>\u001b[0m \u001b[1mPouring openssl@3--3.2.0_1.arm64_ventura.bottle.tar.gz\u001b[0m\n"
     ]
    },
    {
     "name": "stdout",
     "output_type": "stream",
     "text": [
      "🍺  /opt/homebrew/Cellar/openssl@3/3.2.0_1: 6,805 files, 31.9MB\n",
      "\u001b[32m==>\u001b[0m \u001b[1mInstalling gnutls dependency: \u001b[32mlibnghttp2\u001b[39m\u001b[0m\n",
      "\u001b[34m==>\u001b[0m \u001b[1mDownloading https://ghcr.io/v2/homebrew/core/libnghttp2/manifests/1.58.0\u001b[0m\n",
      "Already downloaded: /Users/anastasiazorkina/Library/Caches/Homebrew/downloads/9b2081d73959d4308c84740344d5f8169bbb9125dd76d20a71556a11a0171253--libnghttp2-1.58.0.bottle_manifest.json\n",
      "\u001b[34m==>\u001b[0m \u001b[1mPouring libnghttp2--1.58.0.arm64_ventura.bottle.tar.gz\u001b[0m\n",
      "🍺  /opt/homebrew/Cellar/libnghttp2/1.58.0: 13 files, 739.2KB\n",
      "\u001b[32m==>\u001b[0m \u001b[1mInstalling gnutls dependency: \u001b[32munbound\u001b[39m\u001b[0m\n",
      "\u001b[34m==>\u001b[0m \u001b[1mDownloading https://ghcr.io/v2/homebrew/core/unbound/manifests/1.19.0\u001b[0m\n",
      "Already downloaded: /Users/anastasiazorkina/Library/Caches/Homebrew/downloads/5ef4c435591de61234a87b911b8f2793a67aea99fa163a6c156bb9303f7fac11--unbound-1.19.0.bottle_manifest.json\n",
      "\u001b[34m==>\u001b[0m \u001b[1mPouring unbound--1.19.0.arm64_ventura.bottle.tar.gz\u001b[0m\n",
      "🍺  /opt/homebrew/Cellar/unbound/1.19.0: 58 files, 5.9MB\n",
      "\u001b[32m==>\u001b[0m \u001b[1mInstalling \u001b[32mgnutls\u001b[39m\u001b[0m\n",
      "\u001b[34m==>\u001b[0m \u001b[1mPouring gnutls--3.8.2.arm64_ventura.bottle.tar.gz\u001b[0m\n",
      "🍺  /opt/homebrew/Cellar/gnutls/3.8.2: 1,290 files, 10.8MB\n",
      "\u001b[34m==>\u001b[0m \u001b[1mRunning `brew cleanup gnutls`...\u001b[0m\n",
      "Removing: /opt/homebrew/Cellar/gnutls/3.8.1... (1,284 files, 10.7MB)\n",
      "Removing: /Users/anastasiazorkina/Library/Caches/Homebrew/gnutls--3.8.1... (3.0MB)\n",
      "\u001b[32m==>\u001b[0m \u001b[1mUpgrading \u001b[32mffmpeg\u001b[39m\n",
      "  6.0_1 -> 6.0_2 \n",
      "\u001b[0m\n",
      "\u001b[32m==>\u001b[0m \u001b[1mInstalling dependencies for ffmpeg: \u001b[32mdav1d\u001b[39m, \u001b[32mfrei0r\u001b[39m, \u001b[32mlibmicrohttpd\u001b[39m, \u001b[32mmbedtls\u001b[39m, \u001b[32mlibrist\u001b[39m, \u001b[32mmpg123\u001b[39m, \u001b[32msdl2\u001b[39m, \u001b[32mtesseract\u001b[39m, \u001b[32mx264\u001b[39m, \u001b[32mlibsodium\u001b[39m and \u001b[32mzeromq\u001b[39m\u001b[0m\n",
      "\u001b[32m==>\u001b[0m \u001b[1mInstalling ffmpeg dependency: \u001b[32mdav1d\u001b[39m\u001b[0m\n",
      "\u001b[34m==>\u001b[0m \u001b[1mDownloading https://ghcr.io/v2/homebrew/core/dav1d/manifests/1.3.0\u001b[0m\n",
      "Already downloaded: /Users/anastasiazorkina/Library/Caches/Homebrew/downloads/4e106d7127704beed4209c5ccd8dfa465c085ca0451942b019b08c6c647609e7--dav1d-1.3.0.bottle_manifest.json\n",
      "\u001b[34m==>\u001b[0m \u001b[1mPouring dav1d--1.3.0.arm64_ventura.bottle.tar.gz\u001b[0m\n",
      "🍺  /opt/homebrew/Cellar/dav1d/1.3.0: 15 files, 927.7KB\n",
      "\u001b[32m==>\u001b[0m \u001b[1mInstalling ffmpeg dependency: \u001b[32mfrei0r\u001b[39m\u001b[0m\n",
      "\u001b[34m==>\u001b[0m \u001b[1mDownloading https://ghcr.io/v2/homebrew/core/frei0r/manifests/2.3.2\u001b[0m\n",
      "Already downloaded: /Users/anastasiazorkina/Library/Caches/Homebrew/downloads/91852d64b8d97723ec1a57089ba9f5a9eeff095850909578506626bdd7ec1913--frei0r-2.3.2.bottle_manifest.json\n",
      "\u001b[34m==>\u001b[0m \u001b[1mPouring frei0r--2.3.2.arm64_ventura.bottle.tar.gz\u001b[0m\n",
      "🍺  /opt/homebrew/Cellar/frei0r/2.3.2: 154 files, 5.5MB\n",
      "\u001b[32m==>\u001b[0m \u001b[1mInstalling ffmpeg dependency: \u001b[32mlibmicrohttpd\u001b[39m\u001b[0m\n",
      "\u001b[34m==>\u001b[0m \u001b[1mDownloading https://ghcr.io/v2/homebrew/core/libmicrohttpd/manifests/0.9.77\u001b[0m\n",
      "Already downloaded: /Users/anastasiazorkina/Library/Caches/Homebrew/downloads/8fd2754d3776e5f75f2bb8fb5f299905800b38a153682343b3394e554fcc066c--libmicrohttpd-0.9.77.bottle_manifest.json\n",
      "\u001b[34m==>\u001b[0m \u001b[1mPouring libmicrohttpd--0.9.77.arm64_ventura.bottle.tar.gz\u001b[0m\n",
      "🍺  /opt/homebrew/Cellar/libmicrohttpd/0.9.77: 24 files, 1.3MB\n",
      "\u001b[32m==>\u001b[0m \u001b[1mInstalling ffmpeg dependency: \u001b[32mmbedtls\u001b[39m\u001b[0m\n",
      "\u001b[34m==>\u001b[0m \u001b[1mDownloading https://ghcr.io/v2/homebrew/core/mbedtls/manifests/3.5.1\u001b[0m\n",
      "Already downloaded: /Users/anastasiazorkina/Library/Caches/Homebrew/downloads/b16d7db8b23100d49ccbf9a7ba52d8a989281b89810ae8211ba3ba5fe3199d0f--mbedtls-3.5.1.bottle_manifest.json\n",
      "\u001b[34m==>\u001b[0m \u001b[1mPouring mbedtls--3.5.1.arm64_ventura.bottle.tar.gz\u001b[0m\n",
      "🍺  /opt/homebrew/Cellar/mbedtls/3.5.1: 192 files, 12MB\n",
      "\u001b[32m==>\u001b[0m \u001b[1mInstalling ffmpeg dependency: \u001b[32mlibrist\u001b[39m\u001b[0m\n",
      "\u001b[34m==>\u001b[0m \u001b[1mDownloading https://ghcr.io/v2/homebrew/core/librist/manifests/0.2.10\u001b[0m\n",
      "Already downloaded: /Users/anastasiazorkina/Library/Caches/Homebrew/downloads/6e7e3106423cab3de30f8ff2447b73ceec33126196c42bc016d08ee062bbd2c4--librist-0.2.10.bottle_manifest.json\n",
      "\u001b[34m==>\u001b[0m \u001b[1mPouring librist--0.2.10.arm64_ventura.bottle.tar.gz\u001b[0m\n",
      "🍺  /opt/homebrew/Cellar/librist/0.2.10: 28 files, 795.3KB\n",
      "\u001b[32m==>\u001b[0m \u001b[1mInstalling ffmpeg dependency: \u001b[32mmpg123\u001b[39m\u001b[0m\n",
      "\u001b[34m==>\u001b[0m \u001b[1mDownloading https://ghcr.io/v2/homebrew/core/mpg123/manifests/1.32.3\u001b[0m\n",
      "Already downloaded: /Users/anastasiazorkina/Library/Caches/Homebrew/downloads/e2b3e800196cea6f034cb49a9eecf1c7c99902e5faf0c6ee3f20df34ea0bccab--mpg123-1.32.3.bottle_manifest.json\n",
      "\u001b[34m==>\u001b[0m \u001b[1mPouring mpg123--1.32.3.arm64_ventura.bottle.tar.gz\u001b[0m\n",
      "🍺  /opt/homebrew/Cellar/mpg123/1.32.3: 33 files, 2.0MB\n",
      "\u001b[32m==>\u001b[0m \u001b[1mInstalling ffmpeg dependency: \u001b[32msdl2\u001b[39m\u001b[0m\n",
      "\u001b[34m==>\u001b[0m \u001b[1mDownloading https://ghcr.io/v2/homebrew/core/sdl2/manifests/2.28.5-1\u001b[0m\n",
      "Already downloaded: /Users/anastasiazorkina/Library/Caches/Homebrew/downloads/d97096f602e91d0875ab86007a572967c79fda28774769a65b388cd353746ab6--sdl2-2.28.5-1.bottle_manifest.json\n",
      "\u001b[34m==>\u001b[0m \u001b[1mPouring sdl2--2.28.5.arm64_ventura.bottle.1.tar.gz\u001b[0m\n",
      "🍺  /opt/homebrew/Cellar/sdl2/2.28.5: 93 files, 6.4MB\n",
      "\u001b[32m==>\u001b[0m \u001b[1mInstalling ffmpeg dependency: \u001b[32mtesseract\u001b[39m\u001b[0m\n",
      "\u001b[34m==>\u001b[0m \u001b[1mDownloading https://ghcr.io/v2/homebrew/core/tesseract/manifests/5.3.3\u001b[0m\n",
      "Already downloaded: /Users/anastasiazorkina/Library/Caches/Homebrew/downloads/19e4e7868e0781a93b2336196f0c584f04824e184a221000d7d6846a5fc8b046--tesseract-5.3.3.bottle_manifest.json\n",
      "\u001b[34m==>\u001b[0m \u001b[1mPouring tesseract--5.3.3.arm64_ventura.bottle.tar.gz\u001b[0m\n",
      "🍺  /opt/homebrew/Cellar/tesseract/5.3.3: 73 files, 32.6MB\n",
      "\u001b[32m==>\u001b[0m \u001b[1mInstalling ffmpeg dependency: \u001b[32mx264\u001b[39m\u001b[0m\n",
      "\u001b[34m==>\u001b[0m \u001b[1mDownloading https://ghcr.io/v2/homebrew/core/x264/manifests/r3108\u001b[0m\n",
      "Already downloaded: /Users/anastasiazorkina/Library/Caches/Homebrew/downloads/8bf7841097db8a60b1789ab16ac7f9395fc5e484932ab958334695a83e804e68--x264-r3108.bottle_manifest.json\n",
      "\u001b[34m==>\u001b[0m \u001b[1mPouring x264--r3108.arm64_ventura.bottle.tar.gz\u001b[0m\n",
      "🍺  /opt/homebrew/Cellar/x264/r3108: 11 files, 4.2MB\n",
      "\u001b[32m==>\u001b[0m \u001b[1mInstalling ffmpeg dependency: \u001b[32mlibsodium\u001b[39m\u001b[0m\n",
      "\u001b[34m==>\u001b[0m \u001b[1mDownloading https://ghcr.io/v2/homebrew/core/libsodium/manifests/1.0.19\u001b[0m\n",
      "Already downloaded: /Users/anastasiazorkina/Library/Caches/Homebrew/downloads/be1ad9f264fab9dfc313d95d9ac7d59ae1774d775801e6f935cf9fe8fe35ab21--libsodium-1.0.19.bottle_manifest.json\n",
      "\u001b[34m==>\u001b[0m \u001b[1mPouring libsodium--1.0.19.arm64_ventura.bottle.tar.gz\u001b[0m\n",
      "🍺  /opt/homebrew/Cellar/libsodium/1.0.19: 77 files, 1MB\n",
      "\u001b[32m==>\u001b[0m \u001b[1mInstalling ffmpeg dependency: \u001b[32mzeromq\u001b[39m\u001b[0m\n",
      "\u001b[34m==>\u001b[0m \u001b[1mDownloading https://ghcr.io/v2/homebrew/core/zeromq/manifests/4.3.5_1\u001b[0m\n",
      "Already downloaded: /Users/anastasiazorkina/Library/Caches/Homebrew/downloads/27b053a576863f2b2aa214070e5737e3a0ce0a073760d26c39902468274880b1--zeromq-4.3.5_1.bottle_manifest.json\n",
      "\u001b[34m==>\u001b[0m \u001b[1mPouring zeromq--4.3.5_1.arm64_ventura.bottle.tar.gz\u001b[0m\n",
      "🍺  /opt/homebrew/Cellar/zeromq/4.3.5_1: 84 files, 6.2MB\n",
      "\u001b[32m==>\u001b[0m \u001b[1mInstalling \u001b[32mffmpeg\u001b[39m\u001b[0m\n",
      "\u001b[34m==>\u001b[0m \u001b[1mPouring ffmpeg--6.0_2.arm64_ventura.bottle.tar.gz\u001b[0m\n",
      "🍺  /opt/homebrew/Cellar/ffmpeg/6.0_2: 284 files, 49.3MB\n",
      "\u001b[34m==>\u001b[0m \u001b[1mRunning `brew cleanup ffmpeg`...\u001b[0m\n",
      "Removing: /opt/homebrew/Cellar/ffmpeg/6.0_1... (284 files, 49.2MB)\n",
      "\u001b[32m==>\u001b[0m \u001b[1mChecking for dependents of upgraded formulae...\u001b[0m\n",
      "\u001b[34m==>\u001b[0m \u001b[1mNo broken dependents found!\u001b[0m\n",
      "\u001b[32m==>\u001b[0m \u001b[1m`brew cleanup` has not been run in the last 30 days, running now...\u001b[0m\n",
      "Disable this behaviour by setting HOMEBREW_NO_INSTALL_CLEANUP.\n",
      "Hide these hints with HOMEBREW_NO_ENV_HINTS (see `man brew`).\n",
      "Removing: /opt/homebrew/Cellar/aom/3.7.0... (23 files, 9MB)\n",
      "Removing: /Users/anastasiazorkina/Library/Caches/Homebrew/aom--3.7.0... (3.7MB)\n",
      "Removing: /Users/anastasiazorkina/Library/Caches/Homebrew/ca-certificates--2023-08-22... (125.2KB)\n",
      "Removing: /opt/homebrew/Cellar/dav1d/1.2.1... (15 files, 910KB)\n",
      "Removing: /Users/anastasiazorkina/Library/Caches/Homebrew/dav1d--1.2.1... (353.1KB)\n",
      "Removing: /opt/homebrew/Cellar/frei0r/2.3.1... (153 files, 5.5MB)\n",
      "Removing: /Users/anastasiazorkina/Library/Caches/Homebrew/frei0r--2.3.1... (632.2KB)\n",
      "Removing: /opt/homebrew/Cellar/gettext/0.22.2... (2,040 files, 21.8MB)\n",
      "Removing: /Users/anastasiazorkina/Library/Caches/Homebrew/gettext--0.22.2... (9.1MB)\n",
      "Removing: /opt/homebrew/Cellar/glib/2.78.0... (456 files, 22.4MB)\n"
     ]
    },
    {
     "name": "stdout",
     "output_type": "stream",
     "text": [
      "Removing: /Users/anastasiazorkina/Library/Caches/Homebrew/glib--2.78.0... (6.6MB)\n",
      "Removing: /opt/homebrew/Cellar/gmp/6.2.1_1... (21 files, 3.2MB)\n",
      "Removing: /Users/anastasiazorkina/Library/Caches/Homebrew/gmp--6.2.1_1... (1007.7KB)\n",
      "Removing: /opt/homebrew/Cellar/harfbuzz/8.2.1... (76 files, 9.3MB)\n",
      "Removing: /Users/anastasiazorkina/Library/Caches/Homebrew/harfbuzz--8.2.1... (2.4MB)\n",
      "Removing: /opt/homebrew/Cellar/libnghttp2/1.56.0... (13 files, 734KB)\n",
      "Removing: /Users/anastasiazorkina/Library/Caches/Homebrew/libnghttp2--1.56.0... (215.7KB)\n",
      "Removing: /opt/homebrew/Cellar/librist/0.2.7_3... (28 files, 752.9KB)\n",
      "Removing: /Users/anastasiazorkina/Library/Caches/Homebrew/librist--0.2.7_3... (203.4KB)\n",
      "Removing: /opt/homebrew/Cellar/libsodium/1.0.18_1... (73 files, 777.9KB)\n",
      "Removing: /Users/anastasiazorkina/Library/Caches/Homebrew/libsodium--1.0.18_1... (260.4KB)\n",
      "Removing: /opt/homebrew/Cellar/libx11/1.8.6... (1,054 files, 7MB)\n",
      "Removing: /Users/anastasiazorkina/Library/Caches/Homebrew/libx11--1.8.6... (2.1MB)\n",
      "Removing: /opt/homebrew/Cellar/mbedtls/3.4.1... (160 files, 11.9MB)\n",
      "Removing: /Users/anastasiazorkina/Library/Caches/Homebrew/mbedtls--3.4.1... (3MB)\n",
      "Removing: /opt/homebrew/Cellar/mpg123/1.32.1... (33 files, 2.0MB)\n",
      "Removing: /Users/anastasiazorkina/Library/Caches/Homebrew/mpg123--1.32.1... (637KB)\n",
      "Removing: /opt/homebrew/Cellar/openssl@3/3.1.3... (6,495 files, 28.4MB)\n",
      "Removing: /Users/anastasiazorkina/Library/Caches/Homebrew/openssl@3--3.1.3... (7.7MB)\n",
      "Removing: /opt/homebrew/Cellar/p11-kit/0.25.0... (67 files, 4.8MB)\n",
      "Removing: /Users/anastasiazorkina/Library/Caches/Homebrew/p11-kit--0.25.0... (1MB)\n",
      "Removing: /opt/homebrew/Cellar/sdl2/2.28.3... (93 files, 6.4MB)\n",
      "Removing: /Users/anastasiazorkina/Library/Caches/Homebrew/sdl2--2.28.3... (1.7MB)\n",
      "Removing: /Users/anastasiazorkina/Library/Caches/Homebrew/svt-av1--1.7.0... (1.4MB)\n",
      "Removing: /opt/homebrew/Cellar/tesseract/5.3.2_1... (73 files, 32.6MB)\n",
      "Removing: /Users/anastasiazorkina/Library/Caches/Homebrew/tesseract--5.3.2_1... (12.5MB)\n",
      "Removing: /opt/homebrew/Cellar/unbound/1.18.0_1... (58 files, 5.9MB)\n",
      "Removing: /Users/anastasiazorkina/Library/Caches/Homebrew/unbound--1.18.0_1... (2.9MB)\n",
      "Removing: /opt/homebrew/Cellar/x264/r3095... (11 files, 4.2MB)\n",
      "Removing: /Users/anastasiazorkina/Library/Caches/Homebrew/x264--r3095... (1.9MB)\n",
      "Removing: /opt/homebrew/Cellar/xz/5.4.4... (163 files, 2.6MB)\n",
      "Removing: /Users/anastasiazorkina/Library/Caches/Homebrew/xz--5.4.4... (660.5KB)\n",
      "Removing: /opt/homebrew/Cellar/zeromq/4.3.4... (83 files, 5.9MB)\n",
      "Removing: /Users/anastasiazorkina/Library/Caches/Homebrew/zeromq--4.3.4... (1.6MB)\n",
      "Removing: /Users/anastasiazorkina/Library/Logs/Homebrew/glib... (64B)\n",
      "Removing: /Users/anastasiazorkina/Library/Logs/Homebrew/fontconfig... (1.7KB)\n",
      "Removing: /Users/anastasiazorkina/Library/Logs/Homebrew/openssl@3... (64B)\n",
      "Removing: /Users/anastasiazorkina/Library/Logs/Homebrew/ca-certificates... (64B)\n",
      "Removing: /Users/anastasiazorkina/Library/Logs/Homebrew/unbound... (64B)\n",
      "Removing: /Users/anastasiazorkina/Library/Logs/Homebrew/gnutls... (64B)\n",
      "Pruned 0 symbolic links and 4 directories from /opt/homebrew\n"
     ]
    }
   ],
   "source": [
    "!brew install graphviz"
   ]
  },
  {
   "cell_type": "code",
   "execution_count": 78,
   "id": "747cd3cb-0d09-4ecb-8468-7341fc70b466",
   "metadata": {},
   "outputs": [],
   "source": [
    "import numpy as np\n",
    "import time\n",
    "import os\n",
    "import abc\n",
    "\n",
    "from typing import List, Dict, Union, Set, Any, Optional, Tuple\n",
    "from tqdm.auto import tqdm\n",
    "from collections import defaultdict\n",
    "from pathlib import Path\n",
    "from dataclasses import dataclass\n",
    "\n",
    "import matplotlib.pyplot as plt\n",
    "%matplotlib inline\n",
    "from IPython import display\n",
    "\n",
    "import graphviz\n",
    "import kenlm \n",
    "import jiwer\n",
    "from kaldiio import ReadHelper"
   ]
  },
  {
   "cell_type": "markdown",
   "id": "29dc3ee2-63c9-4fdb-a7ab-3fbace5043d4",
   "metadata": {},
   "source": [
    "# 1. Weighted Finite State Transducer (WFST)\n",
    "\n",
    "\n",
    "\n",
    "Из определения в wiki [Weighted Finite State Transducer (Взвешенный конечный автомат с выходом)](https://en.wikipedia.org/wiki/Finite-state_transducer) следует, что главная задача FST - это переводить символы из входного алфавита в соответствующие им символы из выходного алфавита. Например, с помощью FST можно перевести последовательность фонем в последовательность слов. Конечный автомат будет менять свое состояние при обработке последовательности входных символов (фонем). Когда он соберет из входных фонем корректную транскрипцию слова, то выдаст это слово на выход. \n",
    "\n",
    "Однако не всегда можно однозначно перевести последовательность фонем в слова (некоторые слова произносятся одинаково, а пишутся по-разному), поэтому для распознавания речи надо использовать не простой FST, а взвешенный. WFST позволяет не только перевести входные символы в выходные, но и оценить вес такого перевода. Чем больше вес, тем хуже гипотеза.  \n",
    "\n",
    "Напишем собственную реализацию WFST.\n"
   ]
  },
  {
   "cell_type": "markdown",
   "id": "18f84131-244f-4672-bb95-f245385b6a88",
   "metadata": {},
   "source": [
    "### AbstractWFST\n",
    "AbstractWFST -- это базовый интерфейс нашего WFST. В нем заданы основные методы, через которые мы будем работать с wfst  \n",
    "* get_start - возвращаяет стартовое состояние конечного автомата.\n",
    "* final_score - вес завершения работы в данном состоянии. В некоторых состояниях завершить обработку невозможно, в таких случаях final weight  будет равен бесконечности.\n",
    "*  transduce - совершает переход из текущего состояния в следующее, соответствующее переходу по символу ilabel. Возвращает выходной символ, вес перехода и следующее состояние.  \n",
    "\n",
    "\n",
    "\n",
    "\n",
    " "
   ]
  },
  {
   "cell_type": "code",
   "execution_count": 2,
   "id": "86425820-9a05-4463-8c97-5d749dc43f53",
   "metadata": {},
   "outputs": [],
   "source": [
    "class AbstractWFST(abc.ABC):\n",
    "    def __init__(self):\n",
    "        pass\n",
    "    \n",
    "    @abc.abstractmethod\n",
    "    def get_start(self) -> Any:\n",
    "        \"\"\"Return start state\"\"\"\n",
    "    \n",
    "    @abc.abstractmethod\n",
    "    def final_score(self, state: Any) -> float:\n",
    "        \"\"\"is the state final? If true return negative log likelihood of the finalization. otherwise return inf\"\"\"\n",
    "           \n",
    "    @abc.abstractmethod\n",
    "    def transduce(self, state: Any, ilabel: str) -> Tuple[Tuple[str, float, Any]]:\n",
    "        \"\"\"Transduce ilabel to olabel. \n",
    "        return all available olabels for this state and ilabel pair\n",
    "        return type - ((olabel1, weight1, nextstate1), \n",
    "                       ((olabel1, weight1, nextstate1), \n",
    "                       ...)\"\"\""
   ]
  },
  {
   "cell_type": "markdown",
   "id": "14df77d5-b466-4eb4-8179-51ed23b7b0db",
   "metadata": {},
   "source": [
    "### SymbolsMap\n",
    "\n",
    "Для того, чтобы задать WFST, первым делом нам понадобятся таблицы входных и выходных символов. Для задания таблиц будем использовать класс SymbolsMap. Данный класс служит для маппинга символов на индексы и обратно. "
   ]
  },
  {
   "cell_type": "code",
   "execution_count": 3,
   "id": "f4441149-62c8-4255-b240-4652f8ff9c33",
   "metadata": {},
   "outputs": [],
   "source": [
    "class SymbolsMap:\n",
    "    def __init__(self, id2symbol: Optional[Dict[int, str]] = None, symbol2id: Optional[Dict[str, int]] = None):\n",
    "        assert id2symbol is not None or symbol2id is not None, f\"One id2symbol or symbol2id must be not None\"\n",
    "        assert id2symbol is None or symbol2id is None, f\"Only one One id2symbol or symbol2id can be not None\"\n",
    "        if id2symbol is None:\n",
    "            self.id2symbol = {i:s for s,i in symbol2id.items()}\n",
    "        elif isinstance(id2symbol, dict):\n",
    "            self.id2symbol = id2symbol\n",
    "        elif isinstance(id2symbol, list):\n",
    "            self.id2symbol = {i:s for i, s in enumerate(id2symbol)}\n",
    "        else:\n",
    "            raise RuntimeError(f\"unknown type {type(id2symbol)=}\")\n",
    "            \n",
    "        if symbol2id is None:\n",
    "            self.symbol2id = {s:i for i, s in self.id2symbol.items()}\n",
    "        else:\n",
    "            self.symbol2id = symbol2id   \n",
    "                \n",
    "        assert self.id2symbol[0] == '<eps>', f\"wrong {self.id2symbol}\"\n",
    "\n",
    "    def get_id(self, symbol: str):\n",
    "        return self.symbol2id[symbol]\n",
    "        \n",
    "    def get_symbol(self, id: int):\n",
    "        return self.id2symbol[id] \n",
    "    \n",
    "    @classmethod\n",
    "    def from_file(cls, fname):\n",
    "        \"\"\"read symbols table from file\n",
    "        format: \n",
    "            word id\n",
    "            word2 id2\n",
    "            ...\n",
    "        \"\"\"\n",
    "        with open(fname) as f:\n",
    "            s2i = {s:int(i) for s, i in map(str.split, f.readlines())}\n",
    "        return cls(symbol2id=s2i)"
   ]
  },
  {
   "cell_type": "markdown",
   "id": "3bb6a626-366b-4ff9-ba63-0c2f03818367",
   "metadata": {},
   "source": [
    "### Arc и ILabelIndexedArcs\n",
    "Переходы внутри FST будем описывать с помощью класса, инкапсулирующего информацию о входном/выходном индексе символа, весе перехода и следующем состоянии FST. Поскольку дуги мы будем хранить отдельно для каждого состояния, информация о текущем состоянии в дуге не нужна. \n",
    "\n",
    "Для быстрого выбора нужной дуги создадим специальную коллекцию ILabelIndexedArcs. Данная коллекция хранит дуги таким образом, чтобы выбор дуги по входному символу осуществлялся за O(1). \n"
   ]
  },
  {
   "cell_type": "code",
   "execution_count": 4,
   "id": "6a098c7d-1d87-4e65-81c8-43a18e4df4dc",
   "metadata": {},
   "outputs": [],
   "source": [
    "@dataclass\n",
    "class Arc:\n",
    "    \"\"\"Arc in WFST\"\"\"\n",
    "    ilabel: int\n",
    "    olabel: int\n",
    "    weight: float\n",
    "    nextstate: Any\n",
    "\n",
    "class ILabelIndexedArcs:\n",
    "    def __init__(self, arcs: Optional[List[Arc]] = None):\n",
    "        self.ilabel2arclist = defaultdict(list)\n",
    "        if arcs is not None:\n",
    "            for arc in arcs:\n",
    "                self.add_arc(arc)\n",
    "\n",
    "    def add_arc(self, arc: Arc):\n",
    "        self.ilabel2arclist[arc.ilabel].append(arc)\n",
    "\n",
    "    def get_arcs_by_ilabel(self, ilabel: int):\n",
    "        return self.ilabel2arclist[ilabel]\n",
    "\n",
    "    def arcs(self) -> List[Arc]:\n",
    "        \"\"\"Return all arcs\"\"\"\n",
    "        all_arcs = []\n",
    "        # TODO\n",
    "        # реализуйте функцию, которая возвращает все дуги, хранящиеся в данной коллекции\n",
    "        \n",
    "        for key, value in self.ilabel2arclist.items():\n",
    "            #print(value)\n",
    "            #all_arcs.append(*value) #тесты пройдет, но \n",
    "            all_arcs.extend(value)\n",
    "            \n",
    "        #raise NotImplementedError()\n",
    "        # !!!!!!!!!!!!\n",
    "        return all_arcs \n",
    "\n",
    "    def __str__(self):\n",
    "        return \"ILabelIndexedArcs([\" + \", \".join(f\"{a}\" for a in self.arcs()) + \"])\"\n",
    "        \n",
    "    def __repr__(self):\n",
    "        return str(self)"
   ]
  },
  {
   "cell_type": "code",
   "execution_count": 5,
   "id": "36155eea",
   "metadata": {},
   "outputs": [
    {
     "data": {
      "text/plain": [
       "[Arc(ilabel=7, olabel=-7, weight=0.07, nextstate=107)]"
      ]
     },
     "execution_count": 5,
     "metadata": {},
     "output_type": "execute_result"
    }
   ],
   "source": [
    "arcs = [Arc(i, -i, i/100, i+100) for i in range(10)]\n",
    "c = ILabelIndexedArcs(arcs)\n",
    "arcs2 = c.arcs()\n",
    "c.get_arcs_by_ilabel(7)"
   ]
  },
  {
   "cell_type": "code",
   "execution_count": 6,
   "id": "b0bc0d83-fecf-42e6-9dd1-4e95622cc6db",
   "metadata": {},
   "outputs": [
    {
     "name": "stdout",
     "output_type": "stream",
     "text": [
      "Test 1.a passed\n"
     ]
    }
   ],
   "source": [
    "# test 1.a\n",
    "def test_ILabelIndexedArcs():\n",
    "    # проверка что arcs работает правильно \n",
    "    \n",
    "    arcs = [Arc(i, -i, i/100, i+100) for i in range(10)]\n",
    "    c = ILabelIndexedArcs(arcs)\n",
    "    arcs2 = c.arcs()\n",
    "    \n",
    "    assert len(arcs) == len(arcs2), f\"{len(arcs)=}, {len(arcs2)=}\\n{arcs} != {c.arcs()}\"\n",
    "    for a in arcs2:\n",
    "        assert a in arcs, f\"{a=} not in {arcs=}\"\n",
    "    print('Test 1.a passed')\n",
    "    \n",
    "test_ILabelIndexedArcs()    "
   ]
  },
  {
   "cell_type": "markdown",
   "id": "5f9d7679-8e0c-41d8-8ac5-bdd38841594f",
   "metadata": {},
   "source": [
    "### WFST \n",
    "Все готово для создания взвешенного конечного автомата. Класс WFST состоит из таблицы входных и выходных символов, списка состояний и коллекции дуг для каждого, а также множества финальных состояний. "
   ]
  },
  {
   "cell_type": "code",
   "execution_count": 7,
   "id": "fb8dab12-e963-44c8-98a1-cde9f8044c98",
   "metadata": {},
   "outputs": [],
   "source": [
    "class WFST(AbstractWFST):\n",
    "    def __init__(self, \n",
    "                 isymbols: Optional[SymbolsMap] = None, \n",
    "                 osymbols: Optional[SymbolsMap] = None):\n",
    "        self.start = 0\n",
    "        self.states = [0]\n",
    "        # состояния, в которых может завершиться декодирование без какого либо штрафа \n",
    "        self.final_states = set() \n",
    "        self.isymbols = isymbols\n",
    "        self.osymbols = osymbols\n",
    "        self.state2arcs = defaultdict(ILabelIndexedArcs)\n",
    "\n",
    "    def get_start(self):\n",
    "        \"\"\"return start state\"\"\"\n",
    "        return self.start\n",
    "        \n",
    "    def final_score(self, state_id: int):\n",
    "        \"\"\"return the weight of decoding completion in state_id\"\"\"\n",
    "        \n",
    "        # TODO \n",
    "        # верните вес завершения декодирования в state_id \n",
    "        \n",
    "        #from issues: final_score - это вес окончания работы в этом стейте. Он или ноль или бесконечность. \n",
    "        # В openfst он может быть ещё и каким-то числом. В этой работе все упрощённо до только двух значений.\n",
    "        \n",
    "        if state_id in self.final_states:\n",
    "            return 0.0\n",
    "        else:\n",
    "            return float('inf')\n",
    "        \n",
    "        # raise NotImplementedError()\n",
    "        # !!!!!!!!!!!!!!!!!!!\n",
    "       \n",
    "    def transduce(self, state, ilabel: str) -> Tuple[Tuple[str, float, int]]:\n",
    "        \"\"\"transitions wfst to next state by 'ilabel' input symbol, except when the input symbol is <eps>.\n",
    "        Returns all possible output results as a tuple of triples (olabel, weight, nextstate).\"\"\"\n",
    "        assert self.isymbols is not None and self.osymbols is not None, f\"Cannot transduce w/o both symbols tables\" \n",
    "        if ilabel == '<eps>':\n",
    "            # skip <eps> input\n",
    "            return ((ilabel, 0, state), )\n",
    "        label_id = self.isymbols.get_id(ilabel)\n",
    "        # TODO \n",
    "        # верните все возможные результаты перехода из текущего состояния по входу ilabel\n",
    "        # результат должен выглядеть так: tuple((\"слово\", 0.1, 2), (\"другоеслово\", 10, 4), ...)\n",
    "        \n",
    "        #print(self.state2arcs[state])\n",
    "        arcs = self.state2arcs[state].get_arcs_by_ilabel(label_id) \n",
    "        transitions = []\n",
    "        \n",
    "        for arc in arcs:\n",
    "            transitions.append((self.osymbols.get_symbol(arc.olabel), arc.weight, arc.nextstate))\n",
    "\n",
    "        return tuple(transitions)\n",
    "        \n",
    "        \n",
    "        #raise NotImplementedError()\n",
    "        # !!!!!!!!!!!!\n",
    "    \n",
    "    def set_final(self, state: int):\n",
    "        \"\"\"sets the final weight for the state to zero\"\"\"\n",
    "        # TODO добавьте возможность завершать декодирование в state\n",
    "        \n",
    "        self.final_states.add(state)\n",
    "        \n",
    "        # raise NotImplementedError()\n",
    "        # !!!!!!!!!!!\n",
    "        \n",
    "    def new_state(self):\n",
    "        \"\"\"Create new state id and return it\"\"\"\n",
    "        # TODO \n",
    "        # добавьте в конечный автомат новое состояние и верните его id \n",
    "        \n",
    "        new_state_id = max(self.states) + 1\n",
    "        self.states.append(new_state_id)\n",
    "        \n",
    "        # raise NotImplementedError()\n",
    "        # !!!!!!!!\n",
    "        return new_state_id\n",
    "    \n",
    "    def add_arc(self, state_from: int, arc: Arc):\n",
    "        \"\"\"adds a new arc for this state\"\"\"\n",
    "        # TODO \n",
    "        # добавьте в конечный автомат новых переход arc, выходящий из state_from \n",
    "        \n",
    "        self.state2arcs[state_from].add_arc(arc)\n",
    "        \n",
    "        # raise NotImplementedError()\n",
    "        # !!!!!!!!!!!!!!!!!!\n",
    "    \n",
    "    def to_dot(self):\n",
    "        \"\"\"Visualize the WFST\"\"\" \n",
    "        dot = graphviz.Digraph()\n",
    "        for s in self.states:\n",
    "            dot.node(str(s))\n",
    "        for state_from, arcs_container in self.state2arcs.items():\n",
    "            for arc in arcs_container.arcs():\n",
    "                il = self.isymbols.get_symbol(arc.ilabel) if self.isymbols is not None else arc.ilabel\n",
    "                ol = self.osymbols.get_symbol(arc.olabel) if self.osymbols is not None else arc.olabel\n",
    "                dot.edge(str(state_from), str(arc.nextstate), label=f\"{il}:{ol}:{arc.weight:.2f}\")\n",
    "        return dot\n",
    "    "
   ]
  },
  {
   "cell_type": "code",
   "execution_count": 8,
   "id": "efd4ebf6",
   "metadata": {},
   "outputs": [
    {
     "data": {
      "image/svg+xml": [
       "<?xml version=\"1.0\" encoding=\"UTF-8\" standalone=\"no\"?>\n",
       "<!DOCTYPE svg PUBLIC \"-//W3C//DTD SVG 1.1//EN\"\n",
       " \"http://www.w3.org/Graphics/SVG/1.1/DTD/svg11.dtd\">\n",
       "<!-- Generated by graphviz version 9.0.0 (20230911.1827)\n",
       " -->\n",
       "<!-- Pages: 1 -->\n",
       "<svg width=\"216pt\" height=\"310pt\"\n",
       " viewBox=\"0.00 0.00 215.75 309.50\" xmlns=\"http://www.w3.org/2000/svg\" xmlns:xlink=\"http://www.w3.org/1999/xlink\">\n",
       "<g id=\"graph0\" class=\"graph\" transform=\"scale(1 1) rotate(0) translate(4 305.5)\">\n",
       "<polygon fill=\"white\" stroke=\"none\" points=\"-4,4 -4,-305.5 211.75,-305.5 211.75,4 -4,4\"/>\n",
       "<!-- 0 -->\n",
       "<g id=\"node1\" class=\"node\">\n",
       "<title>0</title>\n",
       "<ellipse fill=\"none\" stroke=\"black\" cx=\"90\" cy=\"-283.5\" rx=\"27\" ry=\"18\"/>\n",
       "<text text-anchor=\"middle\" x=\"90\" y=\"-278.45\" font-family=\"Times,serif\" font-size=\"14.00\">0</text>\n",
       "</g>\n",
       "<!-- 1 -->\n",
       "<g id=\"node2\" class=\"node\">\n",
       "<title>1</title>\n",
       "<ellipse fill=\"none\" stroke=\"black\" cx=\"27\" cy=\"-195\" rx=\"27\" ry=\"18\"/>\n",
       "<text text-anchor=\"middle\" x=\"27\" y=\"-189.95\" font-family=\"Times,serif\" font-size=\"14.00\">1</text>\n",
       "</g>\n",
       "<!-- 0&#45;&gt;1 -->\n",
       "<g id=\"edge1\" class=\"edge\">\n",
       "<title>0&#45;&gt;1</title>\n",
       "<path fill=\"none\" stroke=\"black\" d=\"M66.24,-274.58C53.57,-269.06 38.99,-260.34 31,-247.5 26.74,-240.64 24.98,-232.24 24.49,-224.23\"/>\n",
       "<polygon fill=\"black\" stroke=\"black\" points=\"27.99,-224.52 24.53,-214.5 20.99,-224.49 27.99,-224.52\"/>\n",
       "<text text-anchor=\"middle\" x=\"53.5\" y=\"-234.2\" font-family=\"Times,serif\" font-size=\"14.00\">b:б:1.00</text>\n",
       "</g>\n",
       "<!-- 2 -->\n",
       "<g id=\"node3\" class=\"node\">\n",
       "<title>2</title>\n",
       "<ellipse fill=\"none\" stroke=\"black\" cx=\"90\" cy=\"-106.5\" rx=\"27\" ry=\"18\"/>\n",
       "<text text-anchor=\"middle\" x=\"90\" y=\"-101.45\" font-family=\"Times,serif\" font-size=\"14.00\">2</text>\n",
       "</g>\n",
       "<!-- 0&#45;&gt;2 -->\n",
       "<g id=\"edge2\" class=\"edge\">\n",
       "<title>0&#45;&gt;2</title>\n",
       "<path fill=\"none\" stroke=\"black\" d=\"M90,-265.08C90,-234.94 90,-172.8 90,-136.2\"/>\n",
       "<polygon fill=\"black\" stroke=\"black\" points=\"93.5,-136.36 90,-126.36 86.5,-136.36 93.5,-136.36\"/>\n",
       "<text text-anchor=\"middle\" x=\"112.5\" y=\"-189.95\" font-family=\"Times,serif\" font-size=\"14.00\">b:б:4.00</text>\n",
       "</g>\n",
       "<!-- 1&#45;&gt;2 -->\n",
       "<g id=\"edge3\" class=\"edge\">\n",
       "<title>1&#45;&gt;2</title>\n",
       "<path fill=\"none\" stroke=\"black\" d=\"M24.54,-177.01C23.85,-166.34 24.65,-152.7 31,-142.5 36.93,-132.97 46.49,-125.71 56.21,-120.34\"/>\n",
       "<polygon fill=\"black\" stroke=\"black\" points=\"57.45,-123.63 64.88,-116.09 54.36,-117.35 57.45,-123.63\"/>\n",
       "<text text-anchor=\"middle\" x=\"53.5\" y=\"-145.7\" font-family=\"Times,serif\" font-size=\"14.00\">d:д:2.00</text>\n",
       "</g>\n",
       "<!-- 3 -->\n",
       "<g id=\"node4\" class=\"node\">\n",
       "<title>3</title>\n",
       "<ellipse fill=\"none\" stroke=\"black\" cx=\"127\" cy=\"-18\" rx=\"27\" ry=\"18\"/>\n",
       "<text text-anchor=\"middle\" x=\"127\" y=\"-12.95\" font-family=\"Times,serif\" font-size=\"14.00\">3</text>\n",
       "</g>\n",
       "<!-- 2&#45;&gt;3 -->\n",
       "<g id=\"edge4\" class=\"edge\">\n",
       "<title>2&#45;&gt;3</title>\n",
       "<path fill=\"none\" stroke=\"black\" d=\"M91.46,-88.2C92.8,-77.91 95.37,-64.8 100.25,-54 101.99,-50.15 104.23,-46.33 106.66,-42.71\"/>\n",
       "<polygon fill=\"black\" stroke=\"black\" points=\"109.3,-45.02 112.47,-34.91 103.69,-40.84 109.3,-45.02\"/>\n",
       "<text text-anchor=\"middle\" x=\"124.38\" y=\"-57.2\" font-family=\"Times,serif\" font-size=\"14.00\">u:ю:3.00</text>\n",
       "</g>\n",
       "<!-- 3&#45;&gt;0 -->\n",
       "<g id=\"edge5\" class=\"edge\">\n",
       "<title>3&#45;&gt;0</title>\n",
       "<path fill=\"none\" stroke=\"black\" d=\"M139.34,-34.47C143.22,-40.25 147.01,-47.1 149,-54 168.61,-122.04 162.75,-146.3 139,-213 132.94,-230.01 121.49,-246.63 111.18,-259.35\"/>\n",
       "<polygon fill=\"black\" stroke=\"black\" points=\"108.73,-256.83 104.94,-266.72 114.07,-261.35 108.73,-256.83\"/>\n",
       "<text text-anchor=\"middle\" x=\"183.38\" y=\"-145.7\" font-family=\"Times,serif\" font-size=\"14.00\">u:ю:3.00</text>\n",
       "</g>\n",
       "</g>\n",
       "</svg>\n"
      ],
      "text/plain": [
       "<graphviz.graphs.Digraph at 0x116f39790>"
      ]
     },
     "metadata": {},
     "output_type": "display_data"
    },
    {
     "data": {
      "text/plain": [
       "(('б', 1.0, 1), ('б', 4.0, 2))"
      ]
     },
     "execution_count": 8,
     "metadata": {},
     "output_type": "execute_result"
    }
   ],
   "source": [
    "# граф для экспериментов и порисовать всякое \n",
    "\n",
    "en_l = SymbolsMap(id2symbol=['<eps>', 'b', 'd', 'u'])\n",
    "ru_l = SymbolsMap(id2symbol=['<eps>', 'ю', 'б', 'д'])\n",
    "en2ru = WFST(isymbols=en_l, osymbols=ru_l)\n",
    "en2ru.new_state()\n",
    "en2ru.new_state()\n",
    "en2ru_final = en2ru.new_state()\n",
    "en2ru.set_final(en2ru_final)\n",
    "en2ru.add_arc(0, Arc(1, 2, 1.0, 1))\n",
    "en2ru.add_arc(1, Arc(2, 3, 2.0, 2))\n",
    "en2ru.add_arc(2, Arc(3, 1, 3.0, 3))\n",
    "en2ru.add_arc(0, Arc(1, 2, 4.0, 2))\n",
    "en2ru.add_arc(en2ru_final, Arc(3, 1, 3.0, en2ru.get_start()))\n",
    "display.display(en2ru.to_dot())\n",
    "en2ru.transduce(en2ru.get_start(), 'b')"
   ]
  },
  {
   "cell_type": "code",
   "execution_count": 9,
   "id": "b8959ca8-4e58-4ea2-b4c9-d4ce12d800cf",
   "metadata": {},
   "outputs": [
    {
     "data": {
      "image/svg+xml": [
       "<?xml version=\"1.0\" encoding=\"UTF-8\" standalone=\"no\"?>\n",
       "<!DOCTYPE svg PUBLIC \"-//W3C//DTD SVG 1.1//EN\"\n",
       " \"http://www.w3.org/Graphics/SVG/1.1/DTD/svg11.dtd\">\n",
       "<!-- Generated by graphviz version 9.0.0 (20230911.1827)\n",
       " -->\n",
       "<!-- Pages: 1 -->\n",
       "<svg width=\"177pt\" height=\"133pt\"\n",
       " viewBox=\"0.00 0.00 177.34 132.50\" xmlns=\"http://www.w3.org/2000/svg\" xmlns:xlink=\"http://www.w3.org/1999/xlink\">\n",
       "<g id=\"graph0\" class=\"graph\" transform=\"scale(1 1) rotate(0) translate(4 128.5)\">\n",
       "<polygon fill=\"white\" stroke=\"none\" points=\"-4,4 -4,-128.5 173.34,-128.5 173.34,4 -4,4\"/>\n",
       "<!-- 0 -->\n",
       "<g id=\"node1\" class=\"node\">\n",
       "<title>0</title>\n",
       "<ellipse fill=\"none\" stroke=\"black\" cx=\"70.34\" cy=\"-106.5\" rx=\"27\" ry=\"18\"/>\n",
       "<text text-anchor=\"middle\" x=\"70.34\" y=\"-101.45\" font-family=\"Times,serif\" font-size=\"14.00\">0</text>\n",
       "</g>\n",
       "<!-- 1 -->\n",
       "<g id=\"node2\" class=\"node\">\n",
       "<title>1</title>\n",
       "<ellipse fill=\"none\" stroke=\"black\" cx=\"70.34\" cy=\"-18\" rx=\"27\" ry=\"18\"/>\n",
       "<text text-anchor=\"middle\" x=\"70.34\" y=\"-12.95\" font-family=\"Times,serif\" font-size=\"14.00\">1</text>\n",
       "</g>\n",
       "<!-- 0&#45;&gt;1 -->\n",
       "<g id=\"edge1\" class=\"edge\">\n",
       "<title>0&#45;&gt;1</title>\n",
       "<path fill=\"none\" stroke=\"black\" d=\"M45.07,-99.36C30.12,-94.29 12.39,-85.43 3.34,-70.5 -7.32,-52.9 13.83,-39.12 35.12,-30.26\"/>\n",
       "<polygon fill=\"black\" stroke=\"black\" points=\"36.26,-33.57 44.36,-26.74 33.77,-27.03 36.26,-33.57\"/>\n",
       "<text text-anchor=\"middle\" x=\"25.84\" y=\"-57.2\" font-family=\"Times,serif\" font-size=\"14.00\">b:б:1.00</text>\n",
       "</g>\n",
       "<!-- 0&#45;&gt;1 -->\n",
       "<g id=\"edge2\" class=\"edge\">\n",
       "<title>0&#45;&gt;1</title>\n",
       "<path fill=\"none\" stroke=\"black\" d=\"M70.34,-88.41C70.34,-76.76 70.34,-61.05 70.34,-47.52\"/>\n",
       "<polygon fill=\"black\" stroke=\"black\" points=\"73.84,-47.86 70.34,-37.86 66.84,-47.86 73.84,-47.86\"/>\n",
       "<text text-anchor=\"middle\" x=\"94.72\" y=\"-57.2\" font-family=\"Times,serif\" font-size=\"14.00\">u:ю:3.00</text>\n",
       "</g>\n",
       "<!-- 1&#45;&gt;0 -->\n",
       "<g id=\"edge3\" class=\"edge\">\n",
       "<title>1&#45;&gt;0</title>\n",
       "<path fill=\"none\" stroke=\"black\" d=\"M92.05,-28.91C109.31,-38.3 129.21,-53.48 120.34,-70.5 116.22,-78.43 109.38,-84.93 102.06,-90.09\"/>\n",
       "<polygon fill=\"black\" stroke=\"black\" points=\"100.64,-86.86 94,-95.11 104.34,-92.8 100.64,-86.86\"/>\n",
       "<text text-anchor=\"middle\" x=\"144.84\" y=\"-57.2\" font-family=\"Times,serif\" font-size=\"14.00\">d:д:2.00</text>\n",
       "</g>\n",
       "<!-- 2 -->\n",
       "<g id=\"node3\" class=\"node\">\n",
       "<title>2</title>\n",
       "<ellipse fill=\"none\" stroke=\"black\" cx=\"142.34\" cy=\"-106.5\" rx=\"27\" ry=\"18\"/>\n",
       "<text text-anchor=\"middle\" x=\"142.34\" y=\"-101.45\" font-family=\"Times,serif\" font-size=\"14.00\">2</text>\n",
       "</g>\n",
       "</g>\n",
       "</svg>\n"
      ],
      "text/plain": [
       "<graphviz.graphs.Digraph at 0x116f394c0>"
      ]
     },
     "metadata": {},
     "output_type": "display_data"
    },
    {
     "name": "stdout",
     "output_type": "stream",
     "text": [
      "test 1.b passed\n"
     ]
    }
   ],
   "source": [
    "# test 1.b\n",
    "def test_WFST():\n",
    "    en_l = SymbolsMap(id2symbol=['<eps>', 'b', 'd', 'u'])\n",
    "    ru_l = SymbolsMap(id2symbol=['<eps>', 'ю', 'б', 'д'])\n",
    "    \n",
    "    # create first transducer\n",
    "    en2ru = WFST(isymbols=en_l, osymbols=ru_l)\n",
    "    # new_state\n",
    "    en2ru_final = en2ru.new_state()\n",
    "    assert en2ru_final == 1 , f'start - zero, next state - one, next - two ...'\n",
    "    assert en2ru.new_state() == 2, f'start - zero, next state - one, next - two ...'\n",
    "    en2ru.set_final(en2ru_final)\n",
    "    en2ru.add_arc(en2ru.get_start(), Arc(1, 2, 1.0, en2ru_final))\n",
    "    en2ru.add_arc(en2ru_final, Arc(2, 3, 2.0, en2ru.get_start()))\n",
    "    en2ru.add_arc(en2ru.get_start(), Arc(3, 1, 3.0, en2ru_final))\n",
    "    # you can use this line to visualize\n",
    "    display.display(en2ru.to_dot())\n",
    "\n",
    "    # final_score # set_final\n",
    "    assert en2ru.final_score(en2ru.get_start()) == float('inf')\n",
    "    assert en2ru.final_score(en2ru_final) == 0\n",
    "    en2ru.set_final(en2ru.get_start())\n",
    "    assert en2ru.final_score(en2ru_final) == en2ru.final_score(en2ru.get_start()) == 0\n",
    "\n",
    "        \n",
    "    # transduce # add_arc\n",
    "    assert en2ru.transduce(en2ru.get_start(), 'd') == tuple() , \"Cannot transduce 'd' from start state. output must be zero len tuple\"\n",
    "    assert en2ru.transduce(en2ru.get_start(), 'b') == (('б', 1.0, en2ru_final), ) , \"Arc(1, 2, 1.0, en2ru_final)\"\n",
    "    assert en2ru.transduce(en2ru.get_start(), 'u') == (('ю', 3.0, en2ru_final), ) , \"Arc(3, 1, 3.0, en2ru_final)\"\n",
    "    assert en2ru.transduce(en2ru_final, 'd') == (('д', 2.0, en2ru.get_start()), ) , \"Arc(2, 3, 2.0, en2ru.get_start())\"\n",
    "    \n",
    "    print('test 1.b passed')\n",
    "test_WFST()"
   ]
  },
  {
   "cell_type": "markdown",
   "id": "b598f04d-11fe-4b37-a396-1eea00d351bd",
   "metadata": {},
   "source": [
    "## wfst композиция \n",
    "\n",
    "\n",
    "Над WFST определен большой набор различных операций, реализация большинства из которых является сложной алгоритмической задачей. Важной для распознавания речи операцией является [композиция](https://www.openfst.org/twiki/bin/view/FST/ComposeDoc) набора различных wfst. \n",
    "\n",
    "OpenFST дает следующее определение композиции:\n",
    " \n",
    "\"This operation computes the composition of two transducers. If A transduces string x to y with weight a and B transduces y to z with weight b, then their composition transduces string x to z with weight a ⊗ b.\"\n",
    "\n",
    "Другими словами, результатом композиции является wfst, применение которого к входной последовательности даст такой же результат, как и последовательное применение композируемых wfst. \n",
    "\n",
    "Хорошим примером композиции различных WFST является граф распознавания в гибридных системах распознавания речи. Такой граф является результатом композиции четырех wfst:\n",
    "* H - Hidden Markov Model wfst (переводит акустические классы, предсказанные с помощью AM, в трифоны)\n",
    "* С - Context-dependency transducer (переводит трифоны (тройки (leftcontext,phone,rightcontext)) в фонемы)\n",
    "* L - lexicon (переводит фонемы в слова)\n",
    "* G - ngram lm (оценивает вероятность последовательностей слов)\n",
    " \n",
    "Итого граф распознавания можно выразить с помощью следующей формулы:\n",
    "$$ HCLG = H⊗C⊗L⊗G $$ \n",
    "где ⊗ - оператор композиции двух wfst. Подробнее про граф распознавания можно почитать в [документации к фреймворку kaldi](https://kaldi-asr.org/doc/graph.html)\n",
    "\n",
    "\n",
    "Композиция позволяет объединить много обработчиков в один большой граф, что несомненно является большим плюсом для построения продакшн решений. Но у такого подхода есть и минусы - процесс подготовки графа очень сложен и требует множества оптимизаций. Это усложняет любые эксперименты и модификации системы. В данной работе мы не будем реализовывать честную композицию графа, а будем считать композицию \"On the Fly\". То есть сделаем обертку, реализующую интерфейс AbstractWFST, состоянием которой будет Tuple состояний всех композируемых wfst, а метод transduce будет последовательно проходить через эти wfst. Тем самым, по определению композиции, наш класс будет эквивалентен честной композиции.  \n",
    "\n"
   ]
  },
  {
   "cell_type": "code",
   "execution_count": 10,
   "id": "a52b7dc4-b98d-468a-9d61-990eda9217d0",
   "metadata": {},
   "outputs": [],
   "source": [
    "class OnTheFlyCompose(AbstractWFST):\n",
    "    def __init__(self, wfsts: List[AbstractWFST]):\n",
    "        # !!!Attention!!! wfsts - это лист AbstractWFST, а не WFST. \n",
    "        # Для работы с wfsts истользуйте только методы из AbstractWFST\n",
    "        self.wfsts = wfsts\n",
    "\n",
    "    def get_start(self):\n",
    "        return tuple(fst.get_start() for fst in self.wfsts)\n",
    "\n",
    "    def final_score(self, state: Tuple[Any]):\n",
    "        assert len(state) == len(self.wfsts)\n",
    "        # TODO \n",
    "        # посчитайте финальный скор для state\n",
    "        # результат композиции может завершить обработку только в тех стейтах, где все wfsts будут в финальных состояниях\n",
    "        final_score = 0.0\n",
    "        \n",
    "        for fst, s in zip(self.wfsts, state):\n",
    "            \n",
    "            final_score += fst.final_score(s)\n",
    "        \n",
    "        return final_score\n",
    "        #raise NotImplementedError()\n",
    "        # !!!!!!!!!!!!!!!!!!!!!\n",
    "    \n",
    "    def _transduce(self, state: Tuple[Any], ilabel: str) -> List[Tuple[List[str], float, List[int]]]:\n",
    "        assert len(self.wfsts) == len(state)\n",
    "        # Найдите все возможные гипотезы перевода ilabel с помощью композиции всех self.wfsts\n",
    "        # Последовательно пройдите через все self.wfsts, расширяя список гипотез и дополняя гипотезы новыми слоями \n",
    "        # Верните результат в виде списка гипотез. \n",
    "        # Каждая гипотеза содержит три элемента: \n",
    "        #   0. список символов со ВСЕХ прошедших слоев композиции \n",
    "        #   1. суммарный вес гипотезы \n",
    "        #   2. список состояний, в которые перешли self.wfsts \n",
    "\n",
    "        # Одна стартовая гипотеза. Корень для всех гипотез.\n",
    "        # Еще никакой wfst не применен, символ только ilabel, вес стартовый, стейтов еще нет. \n",
    "        hyps_per_layer = [([ilabel], 0, [])]  \n",
    "        for fst, s in zip(self.wfsts, state):\n",
    "            new_hyps = []\n",
    "            # TODO \n",
    "            \n",
    "            # примените fst.transduce ко всем гипотезам из hyps_per_layer\n",
    "            # постепенно разветвляя их и сохраняя в new_hyp\n",
    "            # на вход подайте выход последнего из уже обработаных слоев \n",
    "            \n",
    "            for ilabels, total_weight, states in hyps_per_layer: # проход по всем гипотезам\n",
    "                \n",
    "                for olabel, weight, nextstate in fst.transduce(s, ilabels[-1]): #проход по всем возможным переходам из текущего состояния s по входу ilabels[-1]\n",
    "                    hyp_ilabels = ilabels + [olabel]\n",
    "                    hyp_total_weight = total_weight + weight\n",
    "                    hyp_new_states = states + [nextstate]\n",
    "                    \n",
    "                    new_hyps.append((hyp_ilabels, hyp_total_weight, hyp_new_states))\n",
    "            \n",
    "\n",
    "            #raise NotImplementedError()\n",
    "            # !!!!!!!!!\n",
    "            hyps_per_layer = new_hyps\n",
    "            \n",
    "        return hyps_per_layer\n",
    "\n",
    "    def transduce(self, state: Tuple[Any], ilabel: str):\n",
    "        hyps_per_layer = self._transduce(state, ilabel)\n",
    "        # выходной символ transduce в композиции - это выходной символ самого последнего wfst \n",
    "        return tuple((ls[-1], w, tuple(ss)) for ls, w, ss in hyps_per_layer)\n",
    "    "
   ]
  },
  {
   "cell_type": "code",
   "execution_count": 11,
   "id": "9f4d637b",
   "metadata": {},
   "outputs": [
    {
     "data": {
      "image/svg+xml": [
       "<?xml version=\"1.0\" encoding=\"UTF-8\" standalone=\"no\"?>\n",
       "<!DOCTYPE svg PUBLIC \"-//W3C//DTD SVG 1.1//EN\"\n",
       " \"http://www.w3.org/Graphics/SVG/1.1/DTD/svg11.dtd\">\n",
       "<!-- Generated by graphviz version 9.0.0 (20230911.1827)\n",
       " -->\n",
       "<!-- Pages: 1 -->\n",
       "<svg width=\"182pt\" height=\"133pt\"\n",
       " viewBox=\"0.00 0.00 181.84 132.50\" xmlns=\"http://www.w3.org/2000/svg\" xmlns:xlink=\"http://www.w3.org/1999/xlink\">\n",
       "<g id=\"graph0\" class=\"graph\" transform=\"scale(1 1) rotate(0) translate(4 128.5)\">\n",
       "<polygon fill=\"white\" stroke=\"none\" points=\"-4,4 -4,-128.5 177.84,-128.5 177.84,4 -4,4\"/>\n",
       "<!-- 0 -->\n",
       "<g id=\"node1\" class=\"node\">\n",
       "<title>0</title>\n",
       "<ellipse fill=\"none\" stroke=\"black\" cx=\"70.34\" cy=\"-106.5\" rx=\"27\" ry=\"18\"/>\n",
       "<text text-anchor=\"middle\" x=\"70.34\" y=\"-101.45\" font-family=\"Times,serif\" font-size=\"14.00\">0</text>\n",
       "</g>\n",
       "<!-- 0&#45;&gt;0 -->\n",
       "<g id=\"edge2\" class=\"edge\">\n",
       "<title>0&#45;&gt;0</title>\n",
       "<path fill=\"none\" stroke=\"black\" d=\"M94.88,-114.67C105.85,-115.45 115.34,-112.72 115.34,-106.5 115.34,-102.61 111.64,-100.09 106.18,-98.93\"/>\n",
       "<polygon fill=\"black\" stroke=\"black\" points=\"106.56,-95.45 96.39,-98.41 106.19,-102.44 106.56,-95.45\"/>\n",
       "<text text-anchor=\"middle\" x=\"144.59\" y=\"-101.45\" font-family=\"Times,serif\" font-size=\"14.00\">b:д:100.00</text>\n",
       "</g>\n",
       "<!-- 1 -->\n",
       "<g id=\"node2\" class=\"node\">\n",
       "<title>1</title>\n",
       "<ellipse fill=\"none\" stroke=\"black\" cx=\"70.34\" cy=\"-18\" rx=\"27\" ry=\"18\"/>\n",
       "<text text-anchor=\"middle\" x=\"70.34\" y=\"-12.95\" font-family=\"Times,serif\" font-size=\"14.00\">1</text>\n",
       "</g>\n",
       "<!-- 0&#45;&gt;1 -->\n",
       "<g id=\"edge1\" class=\"edge\">\n",
       "<title>0&#45;&gt;1</title>\n",
       "<path fill=\"none\" stroke=\"black\" d=\"M45.07,-99.36C30.12,-94.29 12.39,-85.43 3.34,-70.5 -7.32,-52.9 13.83,-39.12 35.12,-30.26\"/>\n",
       "<polygon fill=\"black\" stroke=\"black\" points=\"36.26,-33.57 44.36,-26.74 33.77,-27.03 36.26,-33.57\"/>\n",
       "<text text-anchor=\"middle\" x=\"25.84\" y=\"-57.2\" font-family=\"Times,serif\" font-size=\"14.00\">b:б:1.00</text>\n",
       "</g>\n",
       "<!-- 0&#45;&gt;1 -->\n",
       "<g id=\"edge3\" class=\"edge\">\n",
       "<title>0&#45;&gt;1</title>\n",
       "<path fill=\"none\" stroke=\"black\" d=\"M70.34,-88.41C70.34,-76.76 70.34,-61.05 70.34,-47.52\"/>\n",
       "<polygon fill=\"black\" stroke=\"black\" points=\"73.84,-47.86 70.34,-37.86 66.84,-47.86 73.84,-47.86\"/>\n",
       "<text text-anchor=\"middle\" x=\"94.72\" y=\"-57.2\" font-family=\"Times,serif\" font-size=\"14.00\">u:ю:3.00</text>\n",
       "</g>\n",
       "<!-- 1&#45;&gt;0 -->\n",
       "<g id=\"edge4\" class=\"edge\">\n",
       "<title>1&#45;&gt;0</title>\n",
       "<path fill=\"none\" stroke=\"black\" d=\"M92.05,-28.91C109.31,-38.3 129.21,-53.48 120.34,-70.5 116.22,-78.43 109.38,-84.93 102.06,-90.09\"/>\n",
       "<polygon fill=\"black\" stroke=\"black\" points=\"100.64,-86.86 94,-95.11 104.34,-92.8 100.64,-86.86\"/>\n",
       "<text text-anchor=\"middle\" x=\"144.84\" y=\"-57.2\" font-family=\"Times,serif\" font-size=\"14.00\">d:д:2.00</text>\n",
       "</g>\n",
       "</g>\n",
       "</svg>\n"
      ],
      "text/plain": [
       "<graphviz.graphs.Digraph at 0x116f798b0>"
      ]
     },
     "metadata": {},
     "output_type": "display_data"
    },
    {
     "data": {
      "image/svg+xml": [
       "<?xml version=\"1.0\" encoding=\"UTF-8\" standalone=\"no\"?>\n",
       "<!DOCTYPE svg PUBLIC \"-//W3C//DTD SVG 1.1//EN\"\n",
       " \"http://www.w3.org/Graphics/SVG/1.1/DTD/svg11.dtd\">\n",
       "<!-- Generated by graphviz version 9.0.0 (20230911.1827)\n",
       " -->\n",
       "<!-- Pages: 1 -->\n",
       "<svg width=\"204pt\" height=\"221pt\"\n",
       " viewBox=\"0.00 0.00 203.89 221.00\" xmlns=\"http://www.w3.org/2000/svg\" xmlns:xlink=\"http://www.w3.org/1999/xlink\">\n",
       "<g id=\"graph0\" class=\"graph\" transform=\"scale(1 1) rotate(0) translate(4 217)\">\n",
       "<polygon fill=\"white\" stroke=\"none\" points=\"-4,4 -4,-217 199.89,-217 199.89,4 -4,4\"/>\n",
       "<!-- 0 -->\n",
       "<g id=\"node1\" class=\"node\">\n",
       "<title>0</title>\n",
       "<ellipse fill=\"none\" stroke=\"black\" cx=\"79.39\" cy=\"-195\" rx=\"27\" ry=\"18\"/>\n",
       "<text text-anchor=\"middle\" x=\"79.39\" y=\"-189.95\" font-family=\"Times,serif\" font-size=\"14.00\">0</text>\n",
       "</g>\n",
       "<!-- 1 -->\n",
       "<g id=\"node2\" class=\"node\">\n",
       "<title>1</title>\n",
       "<ellipse fill=\"none\" stroke=\"black\" cx=\"79.39\" cy=\"-106.5\" rx=\"27\" ry=\"18\"/>\n",
       "<text text-anchor=\"middle\" x=\"79.39\" y=\"-101.45\" font-family=\"Times,serif\" font-size=\"14.00\">1</text>\n",
       "</g>\n",
       "<!-- 0&#45;&gt;1 -->\n",
       "<g id=\"edge1\" class=\"edge\">\n",
       "<title>0&#45;&gt;1</title>\n",
       "<path fill=\"none\" stroke=\"black\" d=\"M53.47,-189.5C36.06,-184.99 14.36,-176.13 3.39,-159 -9.27,-139.24 17.77,-125.18 43.03,-116.79\"/>\n",
       "<polygon fill=\"black\" stroke=\"black\" points=\"44,-120.15 52.54,-113.88 41.95,-113.46 44,-120.15\"/>\n",
       "<text text-anchor=\"middle\" x=\"30.39\" y=\"-145.7\" font-family=\"Times,serif\" font-size=\"14.00\">б:B:10.00</text>\n",
       "</g>\n",
       "<!-- 1&#45;&gt;0 -->\n",
       "<g id=\"edge3\" class=\"edge\">\n",
       "<title>1&#45;&gt;0</title>\n",
       "<path fill=\"none\" stroke=\"black\" d=\"M79.39,-124.85C79.39,-136.56 79.39,-152.29 79.39,-165.78\"/>\n",
       "<polygon fill=\"black\" stroke=\"black\" points=\"75.89,-165.4 79.39,-175.4 82.89,-165.4 75.89,-165.4\"/>\n",
       "<text text-anchor=\"middle\" x=\"106.76\" y=\"-145.7\" font-family=\"Times,serif\" font-size=\"14.00\">д:D:30.00</text>\n",
       "</g>\n",
       "<!-- 1&#45;&gt;0 -->\n",
       "<g id=\"edge5\" class=\"edge\">\n",
       "<title>1&#45;&gt;0</title>\n",
       "<path fill=\"none\" stroke=\"black\" d=\"M102.17,-116.34C121.8,-125.41 145.51,-140.75 135.39,-159 130.34,-168.11 121.83,-175.16 112.94,-180.46\"/>\n",
       "<polygon fill=\"black\" stroke=\"black\" points=\"111.48,-177.28 104.26,-185.03 114.74,-183.47 111.48,-177.28\"/>\n",
       "<text text-anchor=\"middle\" x=\"166.64\" y=\"-145.7\" font-family=\"Times,serif\" font-size=\"14.00\">ю:U:40.00</text>\n",
       "</g>\n",
       "<!-- 1&#45;&gt;1 -->\n",
       "<g id=\"edge2\" class=\"edge\">\n",
       "<title>1&#45;&gt;1</title>\n",
       "<path fill=\"none\" stroke=\"black\" d=\"M103.92,-114.67C114.9,-115.45 124.39,-112.72 124.39,-106.5 124.39,-102.61 120.68,-100.09 115.22,-98.93\"/>\n",
       "<polygon fill=\"black\" stroke=\"black\" points=\"115.6,-95.45 105.43,-98.41 115.23,-102.44 115.6,-95.45\"/>\n",
       "<text text-anchor=\"middle\" x=\"151.76\" y=\"-101.45\" font-family=\"Times,serif\" font-size=\"14.00\">д:D:20.00</text>\n",
       "</g>\n",
       "<!-- 2 -->\n",
       "<g id=\"node3\" class=\"node\">\n",
       "<title>2</title>\n",
       "<ellipse fill=\"none\" stroke=\"black\" cx=\"79.39\" cy=\"-18\" rx=\"27\" ry=\"18\"/>\n",
       "<text text-anchor=\"middle\" x=\"79.39\" y=\"-12.95\" font-family=\"Times,serif\" font-size=\"14.00\">2</text>\n",
       "</g>\n",
       "<!-- 1&#45;&gt;2 -->\n",
       "<g id=\"edge4\" class=\"edge\">\n",
       "<title>1&#45;&gt;2</title>\n",
       "<path fill=\"none\" stroke=\"black\" d=\"M79.39,-88.41C79.39,-76.76 79.39,-61.05 79.39,-47.52\"/>\n",
       "<polygon fill=\"black\" stroke=\"black\" points=\"82.89,-47.86 79.39,-37.86 75.89,-47.86 82.89,-47.86\"/>\n",
       "<text text-anchor=\"middle\" x=\"106.76\" y=\"-57.2\" font-family=\"Times,serif\" font-size=\"14.00\">д:D:50.00</text>\n",
       "</g>\n",
       "</g>\n",
       "</svg>\n"
      ],
      "text/plain": [
       "<graphviz.graphs.Digraph at 0x116f79c70>"
      ]
     },
     "metadata": {},
     "output_type": "display_data"
    },
    {
     "name": "stdout",
     "output_type": "stream",
     "text": [
      "(('D', 120.0, (0, 1)), ('D', 130.0, (0, 0)), ('D', 150.0, (0, 2)))\n"
     ]
    }
   ],
   "source": [
    "#проверка проверка проверка проверка \n",
    "\n",
    "en_l = SymbolsMap(id2symbol=['<eps>', 'b', 'd', 'u'])\n",
    "ru_l = SymbolsMap(id2symbol=['<eps>', 'ю', 'д', 'б'])\n",
    "en_U = SymbolsMap(id2symbol=['<eps>', 'B', 'D', 'U'])\n",
    "ru_U = SymbolsMap(id2symbol=['<eps>', 'Ю', 'Д', 'Б'])\n",
    "    \n",
    "    # create first transducer\n",
    "en2ru = WFST(isymbols=en_l, osymbols=ru_l)\n",
    "en2ru_final = en2ru.new_state()\n",
    "en2ru.set_final(en2ru_final)\n",
    "en2ru.add_arc(en2ru.get_start(), Arc(1, 3, 1.0, en2ru_final))\n",
    "en2ru.add_arc(en2ru_final, Arc(2, 2, 2.0, en2ru.get_start()))\n",
    "#en2ru.add_arc(en2ru.get_start(), Arc(2, 0, 0.1, en2ru.get_start()))\n",
    "en2ru.add_arc(en2ru.get_start(), Arc(3, 1, 3.0, en2ru_final))\n",
    "en2ru.add_arc(en2ru.get_start(), Arc(1, 2, 100, en2ru.get_start()))\n",
    "    # you can use this line to visualize\n",
    "display.display(en2ru.to_dot())\n",
    "\n",
    "ru2en = WFST(isymbols=ru_l, osymbols=en_U)\n",
    "ru2en_final = ru2en.new_state()\n",
    "ru2en.new_state()\n",
    "ru2en.set_final(ru2en_final)\n",
    "ru2en.add_arc(ru2en.get_start(), Arc(3, 1, 10.0, ru2en_final))\n",
    "ru2en.add_arc(ru2en_final, Arc(2, 2, 20.0, ru2en_final))\n",
    "ru2en.add_arc(ru2en_final, Arc(2, 2, 30.0, ru2en.get_start()))\n",
    "ru2en.add_arc(ru2en_final, Arc(1, 3, 40.0, ru2en.get_start()))\n",
    "ru2en.add_arc(ru2en_final, Arc(2, 2, 50.0, 2))\n",
    "    \n",
    "    # you can use this line to visualize\n",
    "display.display(ru2en.to_dot())\n",
    "comp = OnTheFlyCompose([en2ru, ru2en])\n",
    "print(comp.transduce((0, 1), 'b'))\n",
    "\n",
    "## должно получиться (('D', 120.0, (0, 1)), ('D', 130.0, (0, 0)), ('D', 150.0, (0, 2)))"
   ]
  },
  {
   "cell_type": "code",
   "execution_count": 12,
   "id": "de383686-63f9-4664-bceb-e6eed2f1c1e0",
   "metadata": {},
   "outputs": [
    {
     "data": {
      "image/svg+xml": [
       "<?xml version=\"1.0\" encoding=\"UTF-8\" standalone=\"no\"?>\n",
       "<!DOCTYPE svg PUBLIC \"-//W3C//DTD SVG 1.1//EN\"\n",
       " \"http://www.w3.org/Graphics/SVG/1.1/DTD/svg11.dtd\">\n",
       "<!-- Generated by graphviz version 9.0.0 (20230911.1827)\n",
       " -->\n",
       "<!-- Pages: 1 -->\n",
       "<svg width=\"196pt\" height=\"133pt\"\n",
       " viewBox=\"0.00 0.00 196.09 132.50\" xmlns=\"http://www.w3.org/2000/svg\" xmlns:xlink=\"http://www.w3.org/1999/xlink\">\n",
       "<g id=\"graph0\" class=\"graph\" transform=\"scale(1 1) rotate(0) translate(4 128.5)\">\n",
       "<polygon fill=\"white\" stroke=\"none\" points=\"-4,4 -4,-128.5 192.09,-128.5 192.09,4 -4,4\"/>\n",
       "<!-- 0 -->\n",
       "<g id=\"node1\" class=\"node\">\n",
       "<title>0</title>\n",
       "<ellipse fill=\"none\" stroke=\"black\" cx=\"70.34\" cy=\"-106.5\" rx=\"27\" ry=\"18\"/>\n",
       "<text text-anchor=\"middle\" x=\"70.34\" y=\"-101.45\" font-family=\"Times,serif\" font-size=\"14.00\">0</text>\n",
       "</g>\n",
       "<!-- 0&#45;&gt;0 -->\n",
       "<g id=\"edge2\" class=\"edge\">\n",
       "<title>0&#45;&gt;0</title>\n",
       "<path fill=\"none\" stroke=\"black\" d=\"M94.88,-114.67C105.85,-115.45 115.34,-112.72 115.34,-106.5 115.34,-102.61 111.64,-100.09 106.18,-98.93\"/>\n",
       "<polygon fill=\"black\" stroke=\"black\" points=\"106.56,-95.45 96.39,-98.41 106.19,-102.44 106.56,-95.45\"/>\n",
       "<text text-anchor=\"middle\" x=\"151.72\" y=\"-101.45\" font-family=\"Times,serif\" font-size=\"14.00\">d:&lt;eps&gt;:0.10</text>\n",
       "</g>\n",
       "<!-- 1 -->\n",
       "<g id=\"node2\" class=\"node\">\n",
       "<title>1</title>\n",
       "<ellipse fill=\"none\" stroke=\"black\" cx=\"70.34\" cy=\"-18\" rx=\"27\" ry=\"18\"/>\n",
       "<text text-anchor=\"middle\" x=\"70.34\" y=\"-12.95\" font-family=\"Times,serif\" font-size=\"14.00\">1</text>\n",
       "</g>\n",
       "<!-- 0&#45;&gt;1 -->\n",
       "<g id=\"edge1\" class=\"edge\">\n",
       "<title>0&#45;&gt;1</title>\n",
       "<path fill=\"none\" stroke=\"black\" d=\"M45.07,-99.36C30.12,-94.29 12.39,-85.43 3.34,-70.5 -7.32,-52.9 13.83,-39.12 35.12,-30.26\"/>\n",
       "<polygon fill=\"black\" stroke=\"black\" points=\"36.26,-33.57 44.36,-26.74 33.77,-27.03 36.26,-33.57\"/>\n",
       "<text text-anchor=\"middle\" x=\"25.84\" y=\"-57.2\" font-family=\"Times,serif\" font-size=\"14.00\">b:б:1.00</text>\n",
       "</g>\n",
       "<!-- 0&#45;&gt;1 -->\n",
       "<g id=\"edge3\" class=\"edge\">\n",
       "<title>0&#45;&gt;1</title>\n",
       "<path fill=\"none\" stroke=\"black\" d=\"M70.34,-88.41C70.34,-76.76 70.34,-61.05 70.34,-47.52\"/>\n",
       "<polygon fill=\"black\" stroke=\"black\" points=\"73.84,-47.86 70.34,-37.86 66.84,-47.86 73.84,-47.86\"/>\n",
       "<text text-anchor=\"middle\" x=\"94.72\" y=\"-57.2\" font-family=\"Times,serif\" font-size=\"14.00\">u:ю:3.00</text>\n",
       "</g>\n",
       "<!-- 1&#45;&gt;0 -->\n",
       "<g id=\"edge4\" class=\"edge\">\n",
       "<title>1&#45;&gt;0</title>\n",
       "<path fill=\"none\" stroke=\"black\" d=\"M92.05,-28.91C109.31,-38.3 129.21,-53.48 120.34,-70.5 116.22,-78.43 109.38,-84.93 102.06,-90.09\"/>\n",
       "<polygon fill=\"black\" stroke=\"black\" points=\"100.64,-86.86 94,-95.11 104.34,-92.8 100.64,-86.86\"/>\n",
       "<text text-anchor=\"middle\" x=\"144.84\" y=\"-57.2\" font-family=\"Times,serif\" font-size=\"14.00\">d:д:2.00</text>\n",
       "</g>\n",
       "</g>\n",
       "</svg>\n"
      ],
      "text/plain": [
       "<graphviz.graphs.Digraph at 0x116f44fd0>"
      ]
     },
     "metadata": {},
     "output_type": "display_data"
    },
    {
     "data": {
      "image/svg+xml": [
       "<?xml version=\"1.0\" encoding=\"UTF-8\" standalone=\"no\"?>\n",
       "<!DOCTYPE svg PUBLIC \"-//W3C//DTD SVG 1.1//EN\"\n",
       " \"http://www.w3.org/Graphics/SVG/1.1/DTD/svg11.dtd\">\n",
       "<!-- Generated by graphviz version 9.0.0 (20230911.1827)\n",
       " -->\n",
       "<!-- Pages: 1 -->\n",
       "<svg width=\"204pt\" height=\"133pt\"\n",
       " viewBox=\"0.00 0.00 203.89 132.50\" xmlns=\"http://www.w3.org/2000/svg\" xmlns:xlink=\"http://www.w3.org/1999/xlink\">\n",
       "<g id=\"graph0\" class=\"graph\" transform=\"scale(1 1) rotate(0) translate(4 128.5)\">\n",
       "<polygon fill=\"white\" stroke=\"none\" points=\"-4,4 -4,-128.5 199.89,-128.5 199.89,4 -4,4\"/>\n",
       "<!-- 0 -->\n",
       "<g id=\"node1\" class=\"node\">\n",
       "<title>0</title>\n",
       "<ellipse fill=\"none\" stroke=\"black\" cx=\"79.39\" cy=\"-106.5\" rx=\"27\" ry=\"18\"/>\n",
       "<text text-anchor=\"middle\" x=\"79.39\" y=\"-101.45\" font-family=\"Times,serif\" font-size=\"14.00\">0</text>\n",
       "</g>\n",
       "<!-- 1 -->\n",
       "<g id=\"node2\" class=\"node\">\n",
       "<title>1</title>\n",
       "<ellipse fill=\"none\" stroke=\"black\" cx=\"79.39\" cy=\"-18\" rx=\"27\" ry=\"18\"/>\n",
       "<text text-anchor=\"middle\" x=\"79.39\" y=\"-12.95\" font-family=\"Times,serif\" font-size=\"14.00\">1</text>\n",
       "</g>\n",
       "<!-- 0&#45;&gt;1 -->\n",
       "<g id=\"edge1\" class=\"edge\">\n",
       "<title>0&#45;&gt;1</title>\n",
       "<path fill=\"none\" stroke=\"black\" d=\"M53.47,-101C36.06,-96.49 14.36,-87.63 3.39,-70.5 -9.27,-50.74 17.77,-36.68 43.03,-28.29\"/>\n",
       "<polygon fill=\"black\" stroke=\"black\" points=\"44,-31.65 52.54,-25.38 41.95,-24.96 44,-31.65\"/>\n",
       "<text text-anchor=\"middle\" x=\"30.39\" y=\"-57.2\" font-family=\"Times,serif\" font-size=\"14.00\">б:B:10.00</text>\n",
       "</g>\n",
       "<!-- 1&#45;&gt;0 -->\n",
       "<g id=\"edge3\" class=\"edge\">\n",
       "<title>1&#45;&gt;0</title>\n",
       "<path fill=\"none\" stroke=\"black\" d=\"M79.39,-36.35C79.39,-48.06 79.39,-63.79 79.39,-77.28\"/>\n",
       "<polygon fill=\"black\" stroke=\"black\" points=\"75.89,-76.9 79.39,-86.9 82.89,-76.9 75.89,-76.9\"/>\n",
       "<text text-anchor=\"middle\" x=\"106.76\" y=\"-57.2\" font-family=\"Times,serif\" font-size=\"14.00\">д:D:30.00</text>\n",
       "</g>\n",
       "<!-- 1&#45;&gt;0 -->\n",
       "<g id=\"edge4\" class=\"edge\">\n",
       "<title>1&#45;&gt;0</title>\n",
       "<path fill=\"none\" stroke=\"black\" d=\"M102.17,-27.84C121.8,-36.91 145.51,-52.25 135.39,-70.5 130.34,-79.61 121.83,-86.66 112.94,-91.96\"/>\n",
       "<polygon fill=\"black\" stroke=\"black\" points=\"111.48,-88.78 104.26,-96.53 114.74,-94.97 111.48,-88.78\"/>\n",
       "<text text-anchor=\"middle\" x=\"166.64\" y=\"-57.2\" font-family=\"Times,serif\" font-size=\"14.00\">ю:U:40.00</text>\n",
       "</g>\n",
       "<!-- 1&#45;&gt;1 -->\n",
       "<g id=\"edge2\" class=\"edge\">\n",
       "<title>1&#45;&gt;1</title>\n",
       "<path fill=\"none\" stroke=\"black\" d=\"M103.92,-26.17C114.9,-26.95 124.39,-24.22 124.39,-18 124.39,-14.11 120.68,-11.59 115.22,-10.43\"/>\n",
       "<polygon fill=\"black\" stroke=\"black\" points=\"115.6,-6.95 105.43,-9.91 115.23,-13.94 115.6,-6.95\"/>\n",
       "<text text-anchor=\"middle\" x=\"151.76\" y=\"-12.95\" font-family=\"Times,serif\" font-size=\"14.00\">д:D:20.00</text>\n",
       "</g>\n",
       "</g>\n",
       "</svg>\n"
      ],
      "text/plain": [
       "<graphviz.graphs.Digraph at 0x1071a0850>"
      ]
     },
     "metadata": {},
     "output_type": "display_data"
    },
    {
     "name": "stdout",
     "output_type": "stream",
     "text": [
      "Test 1.c passed\n"
     ]
    }
   ],
   "source": [
    "def test_OnTheFlyCompose():\n",
    "    en_l = SymbolsMap(id2symbol=['<eps>', 'b', 'd', 'u'])\n",
    "    ru_l = SymbolsMap(id2symbol=['<eps>', 'ю', 'д', 'б'])\n",
    "    en_U = SymbolsMap(id2symbol=['<eps>', 'B', 'D', 'U'])\n",
    "    ru_U = SymbolsMap(id2symbol=['<eps>', 'Ю', 'Д', 'Б'])\n",
    "    \n",
    "    # create first transducer\n",
    "    en2ru = WFST(isymbols=en_l, osymbols=ru_l)\n",
    "    en2ru_final = en2ru.new_state()\n",
    "    en2ru.set_final(en2ru_final)\n",
    "    en2ru.add_arc(en2ru.get_start(), Arc(1, 3, 1.0, en2ru_final))\n",
    "    en2ru.add_arc(en2ru_final, Arc(2, 2, 2.0, en2ru.get_start()))\n",
    "    en2ru.add_arc(en2ru.get_start(), Arc(2, 0, 0.1, en2ru.get_start()))\n",
    "    en2ru.add_arc(en2ru.get_start(), Arc(3, 1, 3.0, en2ru_final))\n",
    "    # you can use this line to visualize\n",
    "    display.display(en2ru.to_dot())\n",
    "\n",
    "    # OnTheFlyCompose одного fst работает так же как и этот fst\n",
    "    comp = OnTheFlyCompose([en2ru])\n",
    "    for s in (0, 1):\n",
    "        for il in 'bdu':\n",
    "            hyps1 = en2ru.transduce(s, il)\n",
    "            hyps2 = comp.transduce((s,), il)\n",
    "            for h in hyps2:\n",
    "                # only one state\n",
    "                assert len(h[2]) == 1, f\"{hyps2=}\"\n",
    "            hyps2_flatten = tuple((l, w, ss[0]) for l,w,ss in hyps2)\n",
    "            assert hyps1 == hyps2_flatten, f\"{hyps1=} {hyps2_flatten=}\"\n",
    "        \n",
    "        scores = [float('inf'), 0]\n",
    "        your_score = comp.final_score((s,))\n",
    "        assert your_score == scores[s], f\"Your score = {your_score}, correct = {scores[s]}\"\n",
    "\n",
    "    # create second transducer\n",
    "    ru2en = WFST(isymbols=ru_l, osymbols=en_U)\n",
    "    ru2en_final = ru2en.new_state()\n",
    "    ru2en.set_final(ru2en_final)\n",
    "    ru2en.add_arc(ru2en.get_start(), Arc(3, 1, 10.0, ru2en_final))\n",
    "    ru2en.add_arc(ru2en_final, Arc(2, 2, 20.0, ru2en_final))\n",
    "    ru2en.add_arc(ru2en_final, Arc(2, 2, 30.0, ru2en.get_start()))\n",
    "    ru2en.add_arc(ru2en_final, Arc(1, 3, 40.0, ru2en.get_start()))\n",
    "    \n",
    "    # you can use this line to visualize\n",
    "    display.display(ru2en.to_dot())\n",
    "\n",
    "    # композиция двух работает как последовательное применение каждого \n",
    "    comp = OnTheFlyCompose([en2ru, ru2en])\n",
    "    hyps = comp.transduce((0, 0), 'b')\n",
    "    assert hyps == (('B', 11.0, (1, 1)), ) , f\"{hyps =}\"\n",
    "    hyps = comp.transduce((1, 1), 'd')\n",
    "    assert hyps == (('D', 22.0, (0, 1)), ('D', 32.0, (0, 0))) , f\"{hyps =}\"\n",
    "    hyps = comp.transduce((0, 1), 'd')\n",
    "    assert hyps == (('<eps>', 0.1, (0, 1)), ) , f\"{hyps =}\"\n",
    "    # Проверка правильности расчетов final_score\n",
    "    your_score = comp.final_score((0, 0))\n",
    "    assert your_score == float('inf'), f\"Your score = {your_score}, correct = {float('inf')}\"\n",
    "    your_score = comp.final_score((0, 1))\n",
    "    assert your_score == float('inf'), f\"Your score = {your_score}, correct = {float('inf')}\"\n",
    "    your_score = comp.final_score((1, 0))\n",
    "    assert your_score == float('inf'), f\"Your score = {your_score}, correct = {float('inf')}\"\n",
    "    your_score = comp.final_score((1, 1))\n",
    "    assert your_score == 0, f\"Your score = {your_score}, correct = {0}\"\n",
    "    print('Test 1.c passed')\n",
    "    \n",
    "    \n",
    "test_OnTheFlyCompose()"
   ]
  },
  {
   "cell_type": "markdown",
   "id": "615649a8-ea1b-4d59-be37-1a18fb509619",
   "metadata": {},
   "source": [
    "# 2. WFST декодинг в ASR системе\n",
    "Отлично, код WFST готов, теперь необходимо собрать граф распознавания и написать поиск наилучшей гипотезы \n",
    "\n",
    "\n"
   ]
  },
  {
   "cell_type": "code",
   "execution_count": 13,
   "id": "2cba40b2-2a44-47d2-897f-f26df9dfb51c",
   "metadata": {},
   "outputs": [],
   "source": [
    "# Сначала подготовим нужные нам таблицы символов\n",
    "AM_PHONES = {0: 'pau', 1: 'aa', 2: 'ae', 3: 'ah', 4: 'ao', 5: 'aw', 6: 'ax', 7: 'ax-h', 8: 'axr', 9: 'ay', 10: 'b', \n",
    "             11: 'bcl', 12: 'ch', 13: 'd', 14: 'dcl', 15: 'dh', 16: 'dx', 17: 'eh', 18: 'el', 19: 'em', 20: 'en', \n",
    "             21: 'eng', 22: 'er', 23: 'ey', 24: 'f', 25: 'g', 26: 'gcl', 27: 'hh', 28: 'hv', 29: 'ih', 30: 'ix', \n",
    "             31: 'iy', 32: 'jh', 33: 'k', 34: 'kcl', 35: 'l', 36: 'm', 37: 'n', 38: 'ng', 39: 'nx', 40: 'ow', \n",
    "             41: 'oy', 42: 'p', 43: 'pcl', 44: 'q', 45: 'r', 46: 's', 47: 'sh', 48: 't', 49: 'tcl', 50: 'th', \n",
    "             51: 'uh', 52: 'uw', 53: 'ux', 54: 'v', 55: 'w', 56: 'y', 57: 'z', 58: 'zh'}\n",
    "\n",
    "# таблица фонем для wfst \n",
    "def create_phones_txt(fname='exp/phones.txt'):\n",
    "    fname = Path(fname) \n",
    "    fname.parent.mkdir(exist_ok=True, parents=True)\n",
    "    with open(fname, 'w') as f:\n",
    "        f.write('<eps> 0\\n') # !! shift all ids by one !! \n",
    "        for i, p in sorted(AM_PHONES.items()):\n",
    "            f.write(f'{p} {i+1}\\n')\n",
    "create_phones_txt()\n"
   ]
  },
  {
   "cell_type": "code",
   "execution_count": 14,
   "id": "565bc3b5-d319-481d-bf69-01251746fcad",
   "metadata": {},
   "outputs": [],
   "source": [
    "# Загрузим подготовленный лексикон из датасета \n",
    "def load_lexicon_file(fname='timit/TIMITDIC.TXT', words_limit=-1):\n",
    "    \"\"\"generator running through the 'fname' phonetic dictionary \n",
    "    yield (word: str, phones: List[str])\"\"\"\n",
    "    num = 0\n",
    "    with open(fname) as f:\n",
    "        for line in map(str.strip, f.readlines()):\n",
    "            if line.startswith(';'):\n",
    "                continue\n",
    "            word, trans, _ = line.split('/')\n",
    "            # remove ~adj suffix \n",
    "            word = word.split('~')[0].strip() \n",
    "            # remove stress factor\n",
    "            trans = [t[:-1] if t[-1].isdigit() else t for t in trans.split()]\n",
    "            yield word, trans\n",
    "            num += 1\n",
    "            if words_limit == num:\n",
    "                break"
   ]
  },
  {
   "cell_type": "code",
   "execution_count": 16,
   "id": "bc001f37-c1b9-499b-8128-127892fda6b1",
   "metadata": {},
   "outputs": [],
   "source": [
    "# подготовим таблицу слов\n",
    "def create_words_txt(fname='exp/words.txt', dic_fname='timit/TIMITDIC.TXT'):\n",
    "    fname = Path(fname)\n",
    "    fname.parent.mkdir(exist_ok=True, parents=True)\n",
    "    words = ['<eps>'] + [w for w, _ in sorted(load_lexicon_file(dic_fname))] + ['<s>', '</s>']\n",
    "    with open(fname, 'w') as f:\n",
    "        f.write(''.join(f'{w} {i}\\n' for i, w in enumerate(words)))\n",
    "create_words_txt()"
   ]
  },
  {
   "cell_type": "markdown",
   "id": "876b2c09-14f1-4c5a-aa8c-c7c0efb6d9fe",
   "metadata": {},
   "source": [
    "# H transducer\n",
    "\n",
    "Создадим первый wfst. \n",
    "\n",
    "В гибридном пайплайне задача первых двух wfst (H и C) - это перевести предсказанные с помощью акустической модели классы в последовательность фонем. В нашем случае все значительно легче, так как АМ (из работы №3) уже учится предсказывать фонемы. H.wfst остается только преобразовать вероятности, которые оценивает AM, в правдоподобие, добавив к скорам фонем их априорную вероятность.\n",
    "\n",
    "\n",
    "Необходимый нам для декодирования граф H.wfst состоит из одного состояния и N петель, где N - это количество фонем. Каждая петля соответствует определенной фонеме и хранит логарифм ее априорной вероятности.\n",
    "\n",
    "![image](resources/lab4/H_example.svg)"
   ]
  },
  {
   "cell_type": "code",
   "execution_count": 17,
   "id": "572a9a8b-8973-4453-91d9-203a18dd7993",
   "metadata": {},
   "outputs": [
    {
     "data": {
      "image/svg+xml": [
       "<?xml version=\"1.0\" encoding=\"UTF-8\" standalone=\"no\"?>\n",
       "<!DOCTYPE svg PUBLIC \"-//W3C//DTD SVG 1.1//EN\"\n",
       " \"http://www.w3.org/Graphics/SVG/1.1/DTD/svg11.dtd\">\n",
       "<!-- Generated by graphviz version 9.0.0 (20230911.1827)\n",
       " -->\n",
       "<!-- Pages: 1 -->\n",
       "<svg width=\"4735pt\" height=\"189pt\"\n",
       " viewBox=\"0.00 0.00 4734.50 188.59\" xmlns=\"http://www.w3.org/2000/svg\" xmlns:xlink=\"http://www.w3.org/1999/xlink\">\n",
       "<g id=\"graph0\" class=\"graph\" transform=\"scale(1 1) rotate(0) translate(4 184.59)\">\n",
       "<polygon fill=\"white\" stroke=\"none\" points=\"-4,4 -4,-184.59 4730.5,-184.59 4730.5,4 -4,4\"/>\n",
       "<!-- 0 -->\n",
       "<g id=\"node1\" class=\"node\">\n",
       "<title>0</title>\n",
       "<ellipse fill=\"none\" stroke=\"black\" cx=\"27\" cy=\"-90.33\" rx=\"27\" ry=\"18\"/>\n",
       "<text text-anchor=\"middle\" x=\"27\" y=\"-85.28\" font-family=\"Times,serif\" font-size=\"14.00\">0</text>\n",
       "</g>\n",
       "<!-- 0&#45;&gt;0 -->\n",
       "<g id=\"edge1\" class=\"edge\">\n",
       "<title>0&#45;&gt;0</title>\n",
       "<path fill=\"none\" stroke=\"black\" d=\"M54.24,-91.83C64.02,-91.86 72,-91.36 72,-90.33 72,-89.75 69.48,-89.34 65.53,-89.09\"/>\n",
       "<polygon fill=\"black\" stroke=\"black\" points=\"65.83,-85.6 55.75,-88.87 65.67,-92.6 65.83,-85.6\"/>\n",
       "<text text-anchor=\"middle\" x=\"109.5\" y=\"-85.28\" font-family=\"Times,serif\" font-size=\"14.00\">pau:pau:&#45;2.07</text>\n",
       "</g>\n",
       "<!-- 0&#45;&gt;0 -->\n",
       "<g id=\"edge2\" class=\"edge\">\n",
       "<title>0&#45;&gt;0</title>\n",
       "<path fill=\"none\" stroke=\"black\" d=\"M54.04,-92.56C90.73,-94.09 147,-93.35 147,-90.33 147,-87.61 101.18,-86.74 65.28,-87.72\"/>\n",
       "<polygon fill=\"black\" stroke=\"black\" points=\"65.42,-84.21 55.55,-88.05 65.66,-91.21 65.42,-84.21\"/>\n",
       "<text text-anchor=\"middle\" x=\"184.5\" y=\"-85.28\" font-family=\"Times,serif\" font-size=\"14.00\">pau:pau:&#45;4.39</text>\n",
       "</g>\n",
       "<!-- 0&#45;&gt;0 -->\n",
       "<g id=\"edge3\" class=\"edge\">\n",
       "<title>0&#45;&gt;0</title>\n",
       "<path fill=\"none\" stroke=\"black\" d=\"M53.82,-93.01C109.49,-96.13 222,-95.24 222,-90.33 222,-85.74 123.52,-84.66 65.24,-87.1\"/>\n",
       "<polygon fill=\"black\" stroke=\"black\" points=\"65.15,-83.6 55.33,-87.58 65.49,-90.59 65.15,-83.6\"/>\n",
       "<text text-anchor=\"middle\" x=\"252\" y=\"-85.28\" font-family=\"Times,serif\" font-size=\"14.00\">sh:sh:&#45;4.00</text>\n",
       "</g>\n",
       "<!-- 0&#45;&gt;0 -->\n",
       "<g id=\"edge4\" class=\"edge\">\n",
       "<title>0&#45;&gt;0</title>\n",
       "<path fill=\"none\" stroke=\"black\" d=\"M53.79,-93.43C122.49,-98.14 282,-97.11 282,-90.33 282,-83.89 138.28,-82.64 64.92,-86.56\"/>\n",
       "<polygon fill=\"black\" stroke=\"black\" points=\"65.07,-83.04 55.3,-87.14 65.49,-90.03 65.07,-83.04\"/>\n",
       "<text text-anchor=\"middle\" x=\"310.5\" y=\"-85.28\" font-family=\"Times,serif\" font-size=\"14.00\">ix:ix:&#45;3.46</text>\n",
       "</g>\n",
       "<!-- 0&#45;&gt;0 -->\n",
       "<g id=\"edge5\" class=\"edge\">\n",
       "<title>0&#45;&gt;0</title>\n",
       "<path fill=\"none\" stroke=\"black\" d=\"M54,-93.81C134.16,-100.15 339,-98.99 339,-90.33 339,-82.05 151.77,-80.63 65.27,-86.06\"/>\n",
       "<polygon fill=\"black\" stroke=\"black\" points=\"65.24,-82.55 55.51,-86.75 65.74,-89.54 65.24,-82.55\"/>\n",
       "<text text-anchor=\"middle\" x=\"370.5\" y=\"-85.28\" font-family=\"Times,serif\" font-size=\"14.00\">hv:hv:&#45;5.19</text>\n",
       "</g>\n",
       "<!-- 0&#45;&gt;0 -->\n",
       "<g id=\"edge6\" class=\"edge\">\n",
       "<title>0&#45;&gt;0</title>\n",
       "<path fill=\"none\" stroke=\"black\" d=\"M53.88,-94.08C145.38,-102.16 402,-100.91 402,-90.33 402,-80.16 165.04,-78.61 65.33,-85.67\"/>\n",
       "<polygon fill=\"black\" stroke=\"black\" points=\"65.08,-82.18 55.38,-86.46 65.63,-89.16 65.08,-82.18\"/>\n",
       "<text text-anchor=\"middle\" x=\"432.75\" y=\"-85.28\" font-family=\"Times,serif\" font-size=\"14.00\">eh:eh:&#45;3.70</text>\n",
       "</g>\n",
       "<!-- 0&#45;&gt;0 -->\n",
       "<g id=\"edge7\" class=\"edge\">\n",
       "<title>0&#45;&gt;0</title>\n",
       "<path fill=\"none\" stroke=\"black\" d=\"M53.79,-94.33C155.7,-104.17 463.5,-102.84 463.5,-90.33 463.5,-78.25 176.38,-76.59 64.94,-85.36\"/>\n",
       "<polygon fill=\"black\" stroke=\"black\" points=\"64.95,-81.85 55.3,-86.2 65.56,-88.82 64.95,-81.85\"/>\n",
       "<text text-anchor=\"middle\" x=\"498\" y=\"-85.28\" font-family=\"Times,serif\" font-size=\"14.00\">dcl:dcl:&#45;4.03</text>\n",
       "</g>\n",
       "<!-- 0&#45;&gt;0 -->\n",
       "<g id=\"edge8\" class=\"edge\">\n",
       "<title>0&#45;&gt;0</title>\n",
       "<path fill=\"none\" stroke=\"black\" d=\"M53.75,-94.52C166.53,-106.18 532.5,-104.78 532.5,-90.33 532.5,-76.33 189.05,-74.58 65.05,-85.08\"/>\n",
       "<polygon fill=\"black\" stroke=\"black\" points=\"64.89,-81.58 55.26,-86 65.54,-88.55 64.89,-81.58\"/>\n",
       "<text text-anchor=\"middle\" x=\"561\" y=\"-85.28\" font-family=\"Times,serif\" font-size=\"14.00\">jh:jh:&#45;5.30</text>\n",
       "</g>\n",
       "<!-- 0&#45;&gt;0 -->\n",
       "<g id=\"edge9\" class=\"edge\">\n",
       "<title>0&#45;&gt;0</title>\n",
       "<path fill=\"none\" stroke=\"black\" d=\"M53.48,-94.7C174.83,-108.19 589.5,-106.73 589.5,-90.33 589.5,-74.41 198.77,-72.57 64.88,-84.81\"/>\n",
       "<polygon fill=\"black\" stroke=\"black\" points=\"64.59,-81.32 54.99,-85.81 65.29,-88.29 64.59,-81.32\"/>\n",
       "<text text-anchor=\"middle\" x=\"618\" y=\"-85.28\" font-family=\"Times,serif\" font-size=\"14.00\">ih:ih:&#45;3.57</text>\n",
       "</g>\n",
       "<!-- 0&#45;&gt;0 -->\n",
       "<g id=\"edge10\" class=\"edge\">\n",
       "<title>0&#45;&gt;0</title>\n",
       "<path fill=\"none\" stroke=\"black\" d=\"M53.55,-94.9C183.6,-110.19 646.5,-108.67 646.5,-90.33 646.5,-72.49 208.57,-70.56 64.94,-84.55\"/>\n",
       "<polygon fill=\"black\" stroke=\"black\" points=\"64.62,-81.06 55.05,-85.6 65.37,-88.02 64.62,-81.06\"/>\n",
       "<text text-anchor=\"middle\" x=\"671.25\" y=\"-85.28\" font-family=\"Times,serif\" font-size=\"14.00\">d:d:&#45;5.16</text>\n",
       "</g>\n",
       "<!-- 0&#45;&gt;0 -->\n",
       "<g id=\"edge11\" class=\"edge\">\n",
       "<title>0&#45;&gt;0</title>\n",
       "<path fill=\"none\" stroke=\"black\" d=\"M53.55,-95.08C191.19,-112.2 696,-110.61 696,-90.33 696,-70.56 216.5,-68.56 64.73,-84.31\"/>\n",
       "<polygon fill=\"black\" stroke=\"black\" points=\"64.6,-80.8 55.05,-85.41 65.39,-87.76 64.6,-80.8\"/>\n",
       "<text text-anchor=\"middle\" x=\"726.75\" y=\"-85.28\" font-family=\"Times,serif\" font-size=\"14.00\">ah:ah:&#45;4.24</text>\n",
       "</g>\n",
       "<!-- 0&#45;&gt;0 -->\n",
       "<g id=\"edge12\" class=\"edge\">\n",
       "<title>0&#45;&gt;0</title>\n",
       "<path fill=\"none\" stroke=\"black\" d=\"M53.47,-95.22C199.66,-114.2 757.5,-112.57 757.5,-90.33 757.5,-68.63 226.56,-66.55 64.9,-84.09\"/>\n",
       "<polygon fill=\"black\" stroke=\"black\" points=\"64.49,-80.61 54.97,-85.27 65.31,-87.56 64.49,-80.61\"/>\n",
       "<text text-anchor=\"middle\" x=\"792\" y=\"-85.28\" font-family=\"Times,serif\" font-size=\"14.00\">kcl:kcl:&#45;3.70</text>\n",
       "</g>\n",
       "<!-- 0&#45;&gt;0 -->\n",
       "<g id=\"edge13\" class=\"edge\">\n",
       "<title>0&#45;&gt;0</title>\n",
       "<path fill=\"none\" stroke=\"black\" d=\"M53.18,-95.3C208.08,-116.21 826.5,-114.55 826.5,-90.33 826.5,-66.66 236.14,-64.54 64.57,-83.96\"/>\n",
       "<polygon fill=\"black\" stroke=\"black\" points=\"64.18,-80.48 54.69,-85.18 65.04,-87.43 64.18,-80.48\"/>\n",
       "<text text-anchor=\"middle\" x=\"851.25\" y=\"-85.28\" font-family=\"Times,serif\" font-size=\"14.00\">k:k:&#45;4.04</text>\n",
       "</g>\n",
       "<!-- 0&#45;&gt;0 -->\n",
       "<g id=\"edge14\" class=\"edge\">\n",
       "<title>0&#45;&gt;0</title>\n",
       "<path fill=\"none\" stroke=\"black\" d=\"M53.37,-95.47C215.69,-118.21 876,-116.5 876,-90.33 876,-64.74 244.39,-62.54 64.78,-83.73\"/>\n",
       "<polygon fill=\"black\" stroke=\"black\" points=\"64.35,-80.26 54.87,-85 65.24,-87.2 64.35,-80.26\"/>\n",
       "<text text-anchor=\"middle\" x=\"899.25\" y=\"-85.28\" font-family=\"Times,serif\" font-size=\"14.00\">s:s:&#45;2.82</text>\n",
       "</g>\n",
       "<!-- 0&#45;&gt;0 -->\n",
       "<g id=\"edge15\" class=\"edge\">\n",
       "<title>0&#45;&gt;0</title>\n",
       "<path fill=\"none\" stroke=\"black\" d=\"M53.11,-95.57C221.72,-120.21 922.5,-118.47 922.5,-90.33 922.5,-62.78 250.84,-60.53 64.42,-83.58\"/>\n",
       "<polygon fill=\"black\" stroke=\"black\" points=\"64.05,-80.1 54.61,-84.89 64.98,-87.03 64.05,-80.1\"/>\n",
       "<text text-anchor=\"middle\" x=\"954\" y=\"-85.28\" font-family=\"Times,serif\" font-size=\"14.00\">ux:ux:&#45;4.23</text>\n",
       "</g>\n",
       "<!-- 0&#45;&gt;0 -->\n",
       "<g id=\"edge16\" class=\"edge\">\n",
       "<title>0&#45;&gt;0</title>\n",
       "<path fill=\"none\" stroke=\"black\" d=\"M53.12,-95.67C229.87,-122.22 985.5,-120.44 985.5,-90.33 985.5,-60.82 259.83,-58.52 64.42,-83.43\"/>\n",
       "<polygon fill=\"black\" stroke=\"black\" points=\"64.05,-79.95 54.62,-84.79 65,-86.89 64.05,-79.95\"/>\n",
       "<text text-anchor=\"middle\" x=\"1010.25\" y=\"-85.28\" font-family=\"Times,serif\" font-size=\"14.00\">q:q:&#45;4.11</text>\n",
       "</g>\n",
       "<!-- 0&#45;&gt;0 -->\n",
       "<g id=\"edge17\" class=\"edge\">\n",
       "<title>0&#45;&gt;0</title>\n",
       "<path fill=\"none\" stroke=\"black\" d=\"M53.12,-95.78C236.74,-124.22 1035,-122.4 1035,-90.33 1035,-58.87 266.85,-56.52 64.27,-83.29\"/>\n",
       "<polygon fill=\"black\" stroke=\"black\" points=\"64.02,-79.79 54.62,-84.67 65.01,-86.72 64.02,-79.79\"/>\n",
       "<text text-anchor=\"middle\" x=\"1065.75\" y=\"-85.28\" font-family=\"Times,serif\" font-size=\"14.00\">en:en:&#45;5.51</text>\n",
       "</g>\n",
       "<!-- 0&#45;&gt;0 -->\n",
       "<g id=\"edge18\" class=\"edge\">\n",
       "<title>0&#45;&gt;0</title>\n",
       "<path fill=\"none\" stroke=\"black\" d=\"M53.1,-95.87C244.45,-126.22 1096.5,-124.38 1096.5,-90.33 1096.5,-56.91 275.78,-54.52 64.43,-83.14\"/>\n",
       "<polygon fill=\"black\" stroke=\"black\" points=\"63.99,-79.66 54.6,-84.57 65,-86.59 63.99,-79.66\"/>\n",
       "<text text-anchor=\"middle\" x=\"1131\" y=\"-85.28\" font-family=\"Times,serif\" font-size=\"14.00\">gcl:gcl:&#45;4.85</text>\n",
       "</g>\n",
       "<!-- 0&#45;&gt;0 -->\n",
       "<g id=\"edge19\" class=\"edge\">\n",
       "<title>0&#45;&gt;0</title>\n",
       "<path fill=\"none\" stroke=\"black\" d=\"M53.01,-95.93C252.4,-128.23 1165.5,-126.36 1165.5,-90.33 1165.5,-54.93 284.22,-52.51 64.17,-83.06\"/>\n",
       "<polygon fill=\"black\" stroke=\"black\" points=\"63.88,-79.57 54.5,-84.51 64.91,-86.49 63.88,-79.57\"/>\n",
       "<text text-anchor=\"middle\" x=\"1190.25\" y=\"-85.28\" font-family=\"Times,serif\" font-size=\"14.00\">g:g:&#45;5.46</text>\n",
       "</g>\n",
       "<!-- 0&#45;&gt;0 -->\n",
       "<g id=\"edge20\" class=\"edge\">\n",
       "<title>0&#45;&gt;0</title>\n",
       "<path fill=\"none\" stroke=\"black\" d=\"M52.95,-96.01C258.86,-130.23 1215,-128.34 1215,-90.33 1215,-52.97 291.26,-50.5 64.16,-82.93\"/>\n",
       "<polygon fill=\"black\" stroke=\"black\" points=\"63.8,-79.44 54.45,-84.42 64.86,-86.36 63.8,-79.44\"/>\n",
       "<text text-anchor=\"middle\" x=\"1237.5\" y=\"-85.28\" font-family=\"Times,serif\" font-size=\"14.00\">r:r:&#45;3.58</text>\n",
       "</g>\n",
       "<!-- 0&#45;&gt;0 -->\n",
       "<g id=\"edge21\" class=\"edge\">\n",
       "<title>0&#45;&gt;0</title>\n",
       "<path fill=\"none\" stroke=\"black\" d=\"M53.1,-96.13C265.59,-132.23 1260,-130.3 1260,-90.33 1260,-51.02 298.33,-48.5 64.32,-82.77\"/>\n",
       "<polygon fill=\"black\" stroke=\"black\" points=\"63.92,-79.29 54.59,-84.3 65.01,-86.2 63.92,-79.29\"/>\n",
       "<text text-anchor=\"middle\" x=\"1287.75\" y=\"-85.28\" font-family=\"Times,serif\" font-size=\"14.00\">w:w:&#45;4.22</text>\n",
       "</g>\n",
       "<!-- 0&#45;&gt;0 -->\n",
       "<g id=\"edge22\" class=\"edge\">\n",
       "<title>0&#45;&gt;0</title>\n",
       "<path fill=\"none\" stroke=\"black\" d=\"M52.9,-96.17C271.99,-134.24 1315.5,-132.29 1315.5,-90.33 1315.5,-49.05 305.35,-46.5 64.13,-82.68\"/>\n",
       "<polygon fill=\"black\" stroke=\"black\" points=\"63.71,-79.2 54.4,-84.25 64.83,-86.11 63.71,-79.2\"/>\n",
       "<text text-anchor=\"middle\" x=\"1346.25\" y=\"-85.28\" font-family=\"Times,serif\" font-size=\"14.00\">ao:ao:&#45;3.66</text>\n",
       "</g>\n",
       "<!-- 0&#45;&gt;0 -->\n",
       "<g id=\"edge23\" class=\"edge\">\n",
       "<title>0&#45;&gt;0</title>\n",
       "<path fill=\"none\" stroke=\"black\" d=\"M53,-96.25C279.65,-136.24 1377,-134.26 1377,-90.33 1377,-47.08 313.68,-44.5 64.25,-82.57\"/>\n",
       "<polygon fill=\"black\" stroke=\"black\" points=\"63.79,-79.09 54.49,-84.16 64.93,-86 63.79,-79.09\"/>\n",
       "<text text-anchor=\"middle\" x=\"1408.5\" y=\"-85.28\" font-family=\"Times,serif\" font-size=\"14.00\">dx:dx:&#45;5.20</text>\n",
       "</g>\n",
       "<!-- 0&#45;&gt;0 -->\n",
       "<g id=\"edge24\" class=\"edge\">\n",
       "<title>0&#45;&gt;0</title>\n",
       "<path fill=\"none\" stroke=\"black\" d=\"M52.67,-96.25C285.95,-138.24 1440,-136.27 1440,-90.33 1440,-45.09 320.63,-42.49 63.89,-82.53\"/>\n",
       "<polygon fill=\"black\" stroke=\"black\" points=\"63.44,-79.06 54.16,-84.16 64.6,-85.96 63.44,-79.06\"/>\n",
       "<text text-anchor=\"middle\" x=\"1475.25\" y=\"-85.28\" font-family=\"Times,serif\" font-size=\"14.00\">axr:axr:&#45;3.93</text>\n",
       "</g>\n",
       "<!-- 0&#45;&gt;0 -->\n",
       "<g id=\"edge25\" class=\"edge\">\n",
       "<title>0&#45;&gt;0</title>\n",
       "<path fill=\"none\" stroke=\"black\" d=\"M52.64,-96.3C293.66,-140.24 1510.5,-138.26 1510.5,-90.33 1510.5,-43.11 329.05,-40.48 63.86,-82.46\"/>\n",
       "<polygon fill=\"black\" stroke=\"black\" points=\"63.41,-78.99 54.13,-84.11 64.58,-85.89 63.41,-78.99\"/>\n",
       "<text text-anchor=\"middle\" x=\"1532.25\" y=\"-85.28\" font-family=\"Times,serif\" font-size=\"14.00\">l:l:&#45;3.70</text>\n",
       "</g>\n",
       "<!-- 0&#45;&gt;0 -->\n",
       "<g id=\"edge26\" class=\"edge\">\n",
       "<title>0&#45;&gt;0</title>\n",
       "<path fill=\"none\" stroke=\"black\" d=\"M52.79,-96.4C300.16,-142.24 1554,-140.22 1554,-90.33 1554,-41.14 335.42,-38.48 63.9,-82.35\"/>\n",
       "<polygon fill=\"black\" stroke=\"black\" points=\"63.54,-78.86 54.28,-84.01 64.73,-85.75 63.54,-78.86\"/>\n",
       "<text text-anchor=\"middle\" x=\"1578.75\" y=\"-85.28\" font-family=\"Times,serif\" font-size=\"14.00\">y:y:&#45;4.83</text>\n",
       "</g>\n",
       "<!-- 0&#45;&gt;0 -->\n",
       "<g id=\"edge27\" class=\"edge\">\n",
       "<title>0&#45;&gt;0</title>\n",
       "<path fill=\"none\" stroke=\"black\" d=\"M52.92,-96.48C306.98,-144.25 1603.5,-142.19 1603.5,-90.33 1603.5,-39.18 342.19,-36.48 63.92,-82.25\"/>\n",
       "<polygon fill=\"black\" stroke=\"black\" points=\"63.65,-78.74 54.41,-83.91 64.86,-85.63 63.65,-78.74\"/>\n",
       "<text text-anchor=\"middle\" x=\"1635\" y=\"-85.28\" font-family=\"Times,serif\" font-size=\"14.00\">uh:uh:&#45;5.85</text>\n",
       "</g>\n",
       "<!-- 0&#45;&gt;0 -->\n",
       "<g id=\"edge28\" class=\"edge\">\n",
       "<title>0&#45;&gt;0</title>\n",
       "<path fill=\"none\" stroke=\"black\" d=\"M52.67,-96.49C313.28,-146.25 1666.5,-144.2 1666.5,-90.33 1666.5,-37.2 350.03,-34.48 63.96,-82.16\"/>\n",
       "<polygon fill=\"black\" stroke=\"black\" points=\"63.39,-78.71 54.16,-83.91 64.61,-85.6 63.39,-78.71\"/>\n",
       "<text text-anchor=\"middle\" x=\"1691.25\" y=\"-85.28\" font-family=\"Times,serif\" font-size=\"14.00\">n:n:&#45;3.61</text>\n",
       "</g>\n",
       "<!-- 0&#45;&gt;0 -->\n",
       "<g id=\"edge29\" class=\"edge\">\n",
       "<title>0&#45;&gt;0</title>\n",
       "<path fill=\"none\" stroke=\"black\" d=\"M52.69,-96.55C319.7,-148.25 1716,-146.18 1716,-90.33 1716,-35.22 356.27,-32.47 63.84,-82.1\"/>\n",
       "<polygon fill=\"black\" stroke=\"black\" points=\"63.4,-78.62 54.18,-83.84 64.65,-85.51 63.4,-78.62\"/>\n",
       "<text text-anchor=\"middle\" x=\"1746\" y=\"-85.28\" font-family=\"Times,serif\" font-size=\"14.00\">ae:ae:&#45;3.17</text>\n",
       "</g>\n",
       "<!-- 0&#45;&gt;0 -->\n",
       "<g id=\"edge30\" class=\"edge\">\n",
       "<title>0&#45;&gt;0</title>\n",
       "<path fill=\"none\" stroke=\"black\" d=\"M52.72,-96.6C326.7,-150.25 1776,-148.16 1776,-90.33 1776,-33.23 363.26,-30.47 63.72,-82.04\"/>\n",
       "<polygon fill=\"black\" stroke=\"black\" points=\"63.41,-78.54 54.21,-83.79 64.67,-85.43 63.41,-78.54\"/>\n",
       "<text text-anchor=\"middle\" x=\"1805.25\" y=\"-85.28\" font-family=\"Times,serif\" font-size=\"14.00\">m:m:&#45;4.08</text>\n",
       "</g>\n",
       "<!-- 0&#45;&gt;0 -->\n",
       "<g id=\"edge31\" class=\"edge\">\n",
       "<title>0&#45;&gt;0</title>\n",
       "<path fill=\"none\" stroke=\"black\" d=\"M52.69,-96.64C333.39,-152.25 1834.5,-150.15 1834.5,-90.33 1834.5,-31.27 371.26,-28.47 63.97,-81.93\"/>\n",
       "<polygon fill=\"black\" stroke=\"black\" points=\"63.37,-78.48 54.18,-83.75 64.65,-85.36 63.37,-78.48\"/>\n",
       "<text text-anchor=\"middle\" x=\"1866\" y=\"-85.28\" font-family=\"Times,serif\" font-size=\"14.00\">oy:oy:&#45;4.86</text>\n",
       "</g>\n",
       "<!-- 0&#45;&gt;0 -->\n",
       "<g id=\"edge32\" class=\"edge\">\n",
       "<title>0&#45;&gt;0</title>\n",
       "<path fill=\"none\" stroke=\"black\" d=\"M52.63,-96.67C340.18,-154.26 1897.5,-152.14 1897.5,-90.33 1897.5,-29.27 377.96,-26.47 63.72,-81.91\"/>\n",
       "<polygon fill=\"black\" stroke=\"black\" points=\"63.3,-78.43 54.12,-83.71 64.59,-85.31 63.3,-78.43\"/>\n",
       "<text text-anchor=\"middle\" x=\"1928.25\" y=\"-85.28\" font-family=\"Times,serif\" font-size=\"14.00\">ax:ax:&#45;4.40</text>\n",
       "</g>\n",
       "<!-- 0&#45;&gt;0 -->\n",
       "<g id=\"edge33\" class=\"edge\">\n",
       "<title>0&#45;&gt;0</title>\n",
       "<path fill=\"none\" stroke=\"black\" d=\"M52.52,-96.69C346.65,-156.26 1959,-154.14 1959,-90.33 1959,-27.27 384.22,-24.46 63.4,-81.91\"/>\n",
       "<polygon fill=\"black\" stroke=\"black\" points=\"63.18,-78.38 54.01,-83.69 64.49,-85.26 63.18,-78.38\"/>\n",
       "<text text-anchor=\"middle\" x=\"1990.5\" y=\"-85.28\" font-family=\"Times,serif\" font-size=\"14.00\">dh:dh:&#45;4.89</text>\n",
       "</g>\n",
       "<!-- 0&#45;&gt;0 -->\n",
       "<g id=\"edge34\" class=\"edge\">\n",
       "<title>0&#45;&gt;0</title>\n",
       "<path fill=\"none\" stroke=\"black\" d=\"M52.37,-96.69C353,-158.26 2022,-156.14 2022,-90.33 2022,-25.29 391.89,-22.46 63.5,-81.83\"/>\n",
       "<polygon fill=\"black\" stroke=\"black\" points=\"63.02,-78.36 53.86,-83.68 64.34,-85.23 63.02,-78.36\"/>\n",
       "<text text-anchor=\"middle\" x=\"2053.5\" y=\"-85.28\" font-family=\"Times,serif\" font-size=\"14.00\">tcl:tcl:&#45;3.66</text>\n",
       "</g>\n",
       "<!-- 0&#45;&gt;0 -->\n",
       "<g id=\"edge35\" class=\"edge\">\n",
       "<title>0&#45;&gt;0</title>\n",
       "<path fill=\"none\" stroke=\"black\" d=\"M52.64,-96.78C360.88,-160.26 2085,-158.11 2085,-90.33 2085,-23.31 399.39,-20.46 63.55,-81.76\"/>\n",
       "<polygon fill=\"black\" stroke=\"black\" points=\"63.28,-78.25 54.12,-83.59 64.61,-85.12 63.28,-78.25\"/>\n",
       "<text text-anchor=\"middle\" x=\"2113.5\" y=\"-85.28\" font-family=\"Times,serif\" font-size=\"14.00\">iy:iy:&#45;3.11</text>\n",
       "</g>\n",
       "<!-- 0&#45;&gt;0 -->\n",
       "<g id=\"edge36\" class=\"edge\">\n",
       "<title>0&#45;&gt;0</title>\n",
       "<path fill=\"none\" stroke=\"black\" d=\"M52.39,-96.77C366.49,-162.26 2142,-160.12 2142,-90.33 2142,-21.33 406.15,-18.46 63.52,-81.71\"/>\n",
       "<polygon fill=\"black\" stroke=\"black\" points=\"63.01,-78.24 53.87,-83.6 64.36,-85.11 63.01,-78.24\"/>\n",
       "<text text-anchor=\"middle\" x=\"2166.75\" y=\"-85.28\" font-family=\"Times,serif\" font-size=\"14.00\">v:v:&#45;4.77</text>\n",
       "</g>\n",
       "<!-- 0&#45;&gt;0 -->\n",
       "<g id=\"edge37\" class=\"edge\">\n",
       "<title>0&#45;&gt;0</title>\n",
       "<path fill=\"none\" stroke=\"black\" d=\"M52.56,-96.85C373.3,-164.26 2191.5,-162.09 2191.5,-90.33 2191.5,-19.36 413.03,-16.45 63.67,-81.62\"/>\n",
       "<polygon fill=\"black\" stroke=\"black\" points=\"63.18,-78.15 54.04,-83.52 64.53,-85.01 63.18,-78.15\"/>\n",
       "<text text-anchor=\"middle\" x=\"2214\" y=\"-85.28\" font-family=\"Times,serif\" font-size=\"14.00\">f:f:&#45;4.13</text>\n",
       "</g>\n",
       "<!-- 0&#45;&gt;0 -->\n",
       "<g id=\"edge38\" class=\"edge\">\n",
       "<title>0&#45;&gt;0</title>\n",
       "<path fill=\"none\" stroke=\"black\" d=\"M52.21,-96.81C377.88,-166.27 2236.5,-164.1 2236.5,-90.33 2236.5,-17.37 418.5,-14.45 63.49,-81.58\"/>\n",
       "<polygon fill=\"black\" stroke=\"black\" points=\"62.81,-78.15 53.69,-83.55 64.18,-85.01 62.81,-78.15\"/>\n",
       "<text text-anchor=\"middle\" x=\"2258.25\" y=\"-85.28\" font-family=\"Times,serif\" font-size=\"14.00\">t:t:&#45;4.21</text>\n",
       "</g>\n",
       "<!-- 0&#45;&gt;0 -->\n",
       "<g id=\"edge39\" class=\"edge\">\n",
       "<title>0&#45;&gt;0</title>\n",
       "<path fill=\"none\" stroke=\"black\" d=\"M52.31,-96.88C384.14,-168.27 2280,-166.08 2280,-90.33 2280,-15.39 424.65,-12.45 63.54,-81.51\"/>\n",
       "<polygon fill=\"black\" stroke=\"black\" points=\"62.9,-78.07 53.79,-83.48 64.29,-84.93 62.9,-78.07\"/>\n",
       "<text text-anchor=\"middle\" x=\"2314.5\" y=\"-85.28\" font-family=\"Times,serif\" font-size=\"14.00\">pcl:pcl:&#45;4.34</text>\n",
       "</g>\n",
       "<!-- 0&#45;&gt;0 -->\n",
       "<g id=\"edge40\" class=\"edge\">\n",
       "<title>0&#45;&gt;0</title>\n",
       "<path fill=\"none\" stroke=\"black\" d=\"M52.46,-96.93C391.75,-170.27 2349,-168.06 2349,-90.33 2349,-13.41 432.63,-10.45 63.67,-81.44\"/>\n",
       "<polygon fill=\"black\" stroke=\"black\" points=\"63.04,-78 53.94,-83.42 64.44,-84.86 63.04,-78\"/>\n",
       "<text text-anchor=\"middle\" x=\"2383.5\" y=\"-85.28\" font-family=\"Times,serif\" font-size=\"14.00\">ow:ow:&#45;3.96</text>\n",
       "</g>\n",
       "<!-- 0&#45;&gt;0 -->\n",
       "<g id=\"edge41\" class=\"edge\">\n",
       "<title>0&#45;&gt;0</title>\n",
       "<path fill=\"none\" stroke=\"black\" d=\"M52.58,-96.99C399.24,-172.27 2418,-170.05 2418,-90.33 2418,-11.43 440.43,-8.45 63.76,-81.38\"/>\n",
       "<polygon fill=\"black\" stroke=\"black\" points=\"63.15,-77.94 54.06,-83.37 64.56,-84.79 63.15,-77.94\"/>\n",
       "<text text-anchor=\"middle\" x=\"2449.5\" y=\"-85.28\" font-family=\"Times,serif\" font-size=\"14.00\">hh:hh:&#45;5.43</text>\n",
       "</g>\n",
       "<!-- 0&#45;&gt;0 -->\n",
       "<g id=\"edge42\" class=\"edge\">\n",
       "<title>0&#45;&gt;0</title>\n",
       "<path fill=\"none\" stroke=\"black\" d=\"M52.39,-96.97C405.25,-174.27 2481,-172.05 2481,-90.33 2481,-9.42 446.6,-6.44 63.5,-81.39\"/>\n",
       "<polygon fill=\"black\" stroke=\"black\" points=\"62.96,-77.93 53.88,-83.38 64.38,-84.78 62.96,-77.93\"/>\n",
       "<text text-anchor=\"middle\" x=\"2511.75\" y=\"-85.28\" font-family=\"Times,serif\" font-size=\"14.00\">ch:ch:&#45;5.30</text>\n",
       "</g>\n",
       "<!-- 0&#45;&gt;0 -->\n",
       "<g id=\"edge43\" class=\"edge\">\n",
       "<title>0&#45;&gt;0</title>\n",
       "<path fill=\"none\" stroke=\"black\" d=\"M52.45,-97.01C412.08,-176.27 2542.5,-174.04 2542.5,-90.33 2542.5,-7.44 453.49,-4.44 63.48,-81.35\"/>\n",
       "<polygon fill=\"black\" stroke=\"black\" points=\"63,-77.87 53.93,-83.34 64.43,-84.73 63,-77.87\"/>\n",
       "<text text-anchor=\"middle\" x=\"2577\" y=\"-85.28\" font-family=\"Times,serif\" font-size=\"14.00\">bcl:bcl:&#45;4.77</text>\n",
       "</g>\n",
       "<!-- 0&#45;&gt;0 -->\n",
       "<g id=\"edge44\" class=\"edge\">\n",
       "<title>0&#45;&gt;0</title>\n",
       "<path fill=\"none\" stroke=\"black\" d=\"M52.49,-97.05C419.19,-178.27 2611.5,-176.03 2611.5,-90.33 2611.5,-5.47 461.8,-2.44 63.75,-81.26\"/>\n",
       "<polygon fill=\"black\" stroke=\"black\" points=\"63.04,-77.83 53.97,-83.3 64.48,-84.68 63.04,-77.83\"/>\n",
       "<text text-anchor=\"middle\" x=\"2636.25\" y=\"-85.28\" font-family=\"Times,serif\" font-size=\"14.00\">b:b:&#45;5.92</text>\n",
       "</g>\n",
       "<!-- 0&#45;&gt;0 -->\n",
       "<g id=\"edge45\" class=\"edge\">\n",
       "<title>0&#45;&gt;0</title>\n",
       "<path fill=\"none\" stroke=\"black\" d=\"M52.47,-97.07C425.19,-180.27 2661,-178.02 2661,-90.33 2661,-3.47 467.57,-0.44 63.62,-81.23\"/>\n",
       "<polygon fill=\"black\" stroke=\"black\" points=\"63.02,-77.78 53.96,-83.27 64.46,-84.63 63.02,-77.78\"/>\n",
       "<text text-anchor=\"middle\" x=\"2691\" y=\"-85.28\" font-family=\"Times,serif\" font-size=\"14.00\">aa:aa:&#45;3.63</text>\n",
       "</g>\n",
       "<!-- 0&#45;&gt;0 -->\n",
       "<g id=\"edge46\" class=\"edge\">\n",
       "<title>0&#45;&gt;0</title>\n",
       "<path fill=\"none\" stroke=\"black\" d=\"M52.46,-97.1C431.63,-182.27 2721,-180.02 2721,-90.33 2721,-1.48 473.91,1.56 63.5,-81.22\"/>\n",
       "<polygon fill=\"black\" stroke=\"black\" points=\"62.99,-77.75 53.94,-83.25 64.45,-84.59 62.99,-77.75\"/>\n",
       "<text text-anchor=\"middle\" x=\"2756.25\" y=\"-85.28\" font-family=\"Times,serif\" font-size=\"14.00\">em:em:&#45;7.25</text>\n",
       "</g>\n",
       "<!-- 0&#45;&gt;0 -->\n",
       "<g id=\"edge47\" class=\"edge\">\n",
       "<title>0&#45;&gt;0</title>\n",
       "<path fill=\"none\" stroke=\"black\" d=\"M52.44,-97.11C438.48,-184.27 2791.5,-182.01 2791.5,-90.33 2791.5,0.5 481.94,3.56 63.69,-81.15\"/>\n",
       "<polygon fill=\"black\" stroke=\"black\" points=\"62.97,-77.72 53.92,-83.23 64.43,-84.57 62.97,-77.72\"/>\n",
       "<text text-anchor=\"middle\" x=\"2823\" y=\"-85.28\" font-family=\"Times,serif\" font-size=\"14.00\">ng:ng:&#45;5.15</text>\n",
       "</g>\n",
       "<!-- 0&#45;&gt;0 -->\n",
       "<g id=\"edge48\" class=\"edge\">\n",
       "<title>0&#45;&gt;0</title>\n",
       "<path fill=\"none\" stroke=\"black\" d=\"M52.38,-97.12C444.85,-186.27 2854.5,-184.01 2854.5,-90.33 2854.5,2.5 488.18,5.57 63.51,-81.14\"/>\n",
       "<polygon fill=\"black\" stroke=\"black\" points=\"62.9,-77.69 53.86,-83.22 64.37,-84.54 62.9,-77.69\"/>\n",
       "<text text-anchor=\"middle\" x=\"2885.25\" y=\"-85.28\" font-family=\"Times,serif\" font-size=\"14.00\">ay:ay:&#45;3.72</text>\n",
       "</g>\n",
       "<!-- 0&#45;&gt;0 -->\n",
       "<g id=\"edge49\" class=\"edge\">\n",
       "<title>0&#45;&gt;0</title>\n",
       "<path fill=\"none\" stroke=\"black\" d=\"M52.3,-97.13C451.03,-188.28 2916,-186.01 2916,-90.33 2916,4.51 494.17,7.57 63.29,-81.15\"/>\n",
       "<polygon fill=\"black\" stroke=\"black\" points=\"62.81,-77.67 53.78,-83.21 64.3,-84.51 62.81,-77.67\"/>\n",
       "<text text-anchor=\"middle\" x=\"2944.5\" y=\"-85.28\" font-family=\"Times,serif\" font-size=\"14.00\">th:th:&#45;5.33</text>\n",
       "</g>\n",
       "<!-- 0&#45;&gt;0 -->\n",
       "<g id=\"edge50\" class=\"edge\">\n",
       "<title>0&#45;&gt;0</title>\n",
       "<path fill=\"none\" stroke=\"black\" d=\"M52.5,-97.2C458.16,-190.28 2973,-187.99 2973,-90.33 2973,6.47 502.17,9.57 63.68,-81.03\"/>\n",
       "<polygon fill=\"black\" stroke=\"black\" points=\"63.01,-77.6 53.98,-83.14 64.49,-84.44 63.01,-77.6\"/>\n",
       "<text text-anchor=\"middle\" x=\"3015\" y=\"-85.28\" font-family=\"Times,serif\" font-size=\"14.00\">ax&#45;h:ax&#45;h:&#45;7.04</text>\n",
       "</g>\n",
       "<!-- 0&#45;&gt;0 -->\n",
       "<g id=\"edge51\" class=\"edge\">\n",
       "<title>0&#45;&gt;0</title>\n",
       "<path fill=\"none\" stroke=\"black\" d=\"M52.42,-97.19C465.18,-192.28 3057,-189.99 3057,-90.33 3057,8.48 509.29,11.57 63.47,-81.05\"/>\n",
       "<polygon fill=\"black\" stroke=\"black\" points=\"62.92,-77.59 53.9,-83.15 64.41,-84.43 62.92,-77.59\"/>\n",
       "<text text-anchor=\"middle\" x=\"3087.75\" y=\"-85.28\" font-family=\"Times,serif\" font-size=\"14.00\">ey:ey:&#45;3.89</text>\n",
       "</g>\n",
       "<!-- 0&#45;&gt;0 -->\n",
       "<g id=\"edge52\" class=\"edge\">\n",
       "<title>0&#45;&gt;0</title>\n",
       "<path fill=\"none\" stroke=\"black\" d=\"M52.28,-97.18C471.06,-194.28 3118.5,-191.99 3118.5,-90.33 3118.5,10.47 516.11,13.57 63.5,-81.01\"/>\n",
       "<polygon fill=\"black\" stroke=\"black\" points=\"62.77,-77.59 53.76,-83.15 64.27,-84.43 62.77,-77.59\"/>\n",
       "<text text-anchor=\"middle\" x=\"3143.25\" y=\"-85.28\" font-family=\"Times,serif\" font-size=\"14.00\">p:p:&#45;4.82</text>\n",
       "</g>\n",
       "<!-- 0&#45;&gt;0 -->\n",
       "<g id=\"edge53\" class=\"edge\">\n",
       "<title>0&#45;&gt;0</title>\n",
       "<path fill=\"none\" stroke=\"black\" d=\"M52.42,-97.24C477.65,-196.28 3168,-193.98 3168,-90.33 3168,12.45 522.13,15.57 63.47,-80.98\"/>\n",
       "<polygon fill=\"black\" stroke=\"black\" points=\"62.9,-77.52 53.9,-83.1 64.42,-84.35 62.9,-77.52\"/>\n",
       "<text text-anchor=\"middle\" x=\"3201.75\" y=\"-85.28\" font-family=\"Times,serif\" font-size=\"14.00\">aw:aw:&#45;4.79</text>\n",
       "</g>\n",
       "<!-- 0&#45;&gt;0 -->\n",
       "<g id=\"edge54\" class=\"edge\">\n",
       "<title>0&#45;&gt;0</title>\n",
       "<path fill=\"none\" stroke=\"black\" d=\"M52.25,-97.22C483.6,-198.28 3235.5,-195.98 3235.5,-90.33 3235.5,14.45 529.1,17.57 63.47,-80.95\"/>\n",
       "<polygon fill=\"black\" stroke=\"black\" points=\"62.73,-77.53 53.73,-83.11 64.25,-84.36 62.73,-77.53\"/>\n",
       "<text text-anchor=\"middle\" x=\"3264\" y=\"-85.28\" font-family=\"Times,serif\" font-size=\"14.00\">er:er:&#45;4.08</text>\n",
       "</g>\n",
       "<!-- 0&#45;&gt;0 -->\n",
       "<g id=\"edge55\" class=\"edge\">\n",
       "<title>0&#45;&gt;0</title>\n",
       "<path fill=\"none\" stroke=\"black\" d=\"M52.38,-97.27C490.4,-200.28 3292.5,-197.97 3292.5,-90.33 3292.5,16.44 535.37,19.57 63.42,-80.92\"/>\n",
       "<polygon fill=\"black\" stroke=\"black\" points=\"62.85,-77.46 53.86,-83.06 64.38,-84.3 62.85,-77.46\"/>\n",
       "<text text-anchor=\"middle\" x=\"3324\" y=\"-85.28\" font-family=\"Times,serif\" font-size=\"14.00\">nx:nx:&#45;6.23</text>\n",
       "</g>\n",
       "<!-- 0&#45;&gt;0 -->\n",
       "<g id=\"edge56\" class=\"edge\">\n",
       "<title>0&#45;&gt;0</title>\n",
       "<path fill=\"none\" stroke=\"black\" d=\"M52.17,-97.24C495.97,-202.28 3355.5,-199.98 3355.5,-90.33 3355.5,18.43 541.86,21.58 63.36,-80.91\"/>\n",
       "<polygon fill=\"black\" stroke=\"black\" points=\"62.63,-77.48 53.65,-83.09 64.17,-84.31 62.63,-77.48\"/>\n",
       "<text text-anchor=\"middle\" x=\"3379.5\" y=\"-85.28\" font-family=\"Times,serif\" font-size=\"14.00\">z:z:&#45;3.80</text>\n",
       "</g>\n",
       "<!-- 0&#45;&gt;0 -->\n",
       "<g id=\"edge57\" class=\"edge\">\n",
       "<title>0&#45;&gt;0</title>\n",
       "<path fill=\"none\" stroke=\"black\" d=\"M52.26,-97.28C502.27,-204.28 3403.5,-201.96 3403.5,-90.33 3403.5,20.43 547.42,23.58 63.25,-80.89\"/>\n",
       "<polygon fill=\"black\" stroke=\"black\" points=\"62.71,-77.43 53.73,-83.05 64.26,-84.25 62.71,-77.43\"/>\n",
       "<text text-anchor=\"middle\" x=\"3431.25\" y=\"-85.28\" font-family=\"Times,serif\" font-size=\"14.00\">el:el:&#45;5.10</text>\n",
       "</g>\n",
       "<!-- 0&#45;&gt;0 -->\n",
       "<g id=\"edge58\" class=\"edge\">\n",
       "<title>0&#45;&gt;0</title>\n",
       "<path fill=\"none\" stroke=\"black\" d=\"M52.34,-97.32C508.83,-206.28 3459,-203.95 3459,-90.33 3459,22.4 554.75,25.58 63.5,-80.81\"/>\n",
       "<polygon fill=\"black\" stroke=\"black\" points=\"62.8,-77.38 53.82,-83 64.35,-84.2 62.8,-77.38\"/>\n",
       "<text text-anchor=\"middle\" x=\"3493.5\" y=\"-85.28\" font-family=\"Times,serif\" font-size=\"14.00\">uw:uw:&#45;5.48</text>\n",
       "</g>\n",
       "<!-- 0&#45;&gt;0 -->\n",
       "<g id=\"edge59\" class=\"edge\">\n",
       "<title>0&#45;&gt;0</title>\n",
       "<path fill=\"none\" stroke=\"black\" d=\"M52.44,-97.36C515.89,-208.28 3528,-205.94 3528,-90.33 3528,24.4 561.31,27.58 63.39,-80.8\"/>\n",
       "<polygon fill=\"black\" stroke=\"black\" points=\"62.88,-77.33 53.91,-82.97 64.44,-84.15 62.88,-77.33\"/>\n",
       "<text text-anchor=\"middle\" x=\"3558.75\" y=\"-85.28\" font-family=\"Times,serif\" font-size=\"14.00\">zh:zh:&#45;7.05</text>\n",
       "</g>\n",
       "<!-- 0&#45;&gt;0 -->\n",
       "<g id=\"edge60\" class=\"edge\">\n",
       "<title>0&#45;&gt;0</title>\n",
       "<path fill=\"none\" stroke=\"black\" d=\"M52.16,-97.31C521.06,-210.28 3589.5,-207.96 3589.5,-90.33 3589.5,26.41 567.33,29.58 63.25,-80.81\"/>\n",
       "<polygon fill=\"black\" stroke=\"black\" points=\"62.6,-77.37 53.63,-83.01 64.16,-84.19 62.6,-77.37\"/>\n",
       "<text text-anchor=\"middle\" x=\"3627\" y=\"-85.28\" font-family=\"Times,serif\" font-size=\"14.00\">eng:eng:&#45;8.42</text>\n",
       "</g>\n",
       "</g>\n",
       "</svg>\n"
      ],
      "text/plain": [
       "<graphviz.graphs.Digraph at 0x1179bd040>"
      ]
     },
     "execution_count": 17,
     "metadata": {},
     "output_type": "execute_result"
    }
   ],
   "source": [
    "def create_h_wfst(prior_file='resources/lab4/phone.priors', phones_fname='exp/phones.txt'):\n",
    "    \"\"\"Create H.wfst. just transduce AM probability to AM likelihood (Bayes theorem)\n",
    "    \"\"\"\n",
    "    symbols = SymbolsMap.from_file(phones_fname)\n",
    "    h_fst = WFST(isymbols=symbols, osymbols=symbols)\n",
    "    s = h_fst.get_start()\n",
    "    h_fst.set_final(s)\n",
    "    with open(prior_file) as f:\n",
    "        for ph, prior in map(str.split, f.readlines()):\n",
    "            log_prior = np.log(float(prior))\n",
    "            ph_id = symbols.get_id(ph)\n",
    "            h_fst.add_arc(s, Arc(ph_id, ph_id, log_prior, s))\n",
    "    return h_fst\n",
    "create_h_wfst().to_dot()"
   ]
  },
  {
   "cell_type": "markdown",
   "id": "3e5765ec-0a60-4dc1-9bdd-28975b45f971",
   "metadata": {},
   "source": [
    "# L transducer\n",
    "\n",
    "Lwfst - это WFST, который преобразует входные последовательности фонем в слова.\n",
    "\n",
    "Например, `pau pau ae1 ae1 ae1 ae1 ae1 ae1 r pau pau pau y y y y eh1 s s s pau` -> `air yes`\n",
    "\n",
    "Чтобы контролировать количество слов в выходной гипотезе, в L добавляется два веса: \n",
    "* word_insertion_penalty - штраф за добавление слова \n",
    "* stay_in_silence_penalty - штраф за пропуск паузы (фонемы pau)\n",
    "\n",
    "Пример Lwfst, построенного для слов `'em` `-knacks`, с параметрами word_insertion_penalty=0.5, stay_in_silence_penalty=0.01\n",
    "\n",
    "![image](./resources/lab4/L_example.svg)\n",
    "\n",
    "Фонема паузы pau обрабатывается особым способом: L.fst может пропускать ее, не генерируя ничего на выходе. Также у окончания каждой транскрипции слова есть две отдельные дуги, возвращающие FST в стартовое состояние. Это нужно для того, чтобы была возможность как обработать подряд идущие дупликаты последней фонемы на конце слова, так и перейти в стартовое состояние всего по одной финальной фонеме. "
   ]
  },
  {
   "cell_type": "code",
   "execution_count": 54,
   "id": "2249beae-7404-4634-9e7a-7f6a4a6bc05d",
   "metadata": {},
   "outputs": [
    {
     "data": {
      "image/svg+xml": [
       "<?xml version=\"1.0\" encoding=\"UTF-8\" standalone=\"no\"?>\n",
       "<!DOCTYPE svg PUBLIC \"-//W3C//DTD SVG 1.1//EN\"\n",
       " \"http://www.w3.org/Graphics/SVG/1.1/DTD/svg11.dtd\">\n",
       "<!-- Generated by graphviz version 9.0.0 (20230911.1827)\n",
       " -->\n",
       "<!-- Pages: 1 -->\n",
       "<svg width=\"578pt\" height=\"398pt\"\n",
       " viewBox=\"0.00 0.00 577.75 398.00\" xmlns=\"http://www.w3.org/2000/svg\" xmlns:xlink=\"http://www.w3.org/1999/xlink\">\n",
       "<g id=\"graph0\" class=\"graph\" transform=\"scale(1 1) rotate(0) translate(4 394)\">\n",
       "<polygon fill=\"white\" stroke=\"none\" points=\"-4,4 -4,-394 573.75,-394 573.75,4 -4,4\"/>\n",
       "<!-- 0 -->\n",
       "<g id=\"node1\" class=\"node\">\n",
       "<title>0</title>\n",
       "<ellipse fill=\"none\" stroke=\"black\" cx=\"232\" cy=\"-372\" rx=\"27\" ry=\"18\"/>\n",
       "<text text-anchor=\"middle\" x=\"232\" y=\"-366.95\" font-family=\"Times,serif\" font-size=\"14.00\">0</text>\n",
       "</g>\n",
       "<!-- 0&#45;&gt;0 -->\n",
       "<g id=\"edge1\" class=\"edge\">\n",
       "<title>0&#45;&gt;0</title>\n",
       "<path fill=\"none\" stroke=\"black\" d=\"M256.53,-380.17C267.51,-380.95 277,-378.22 277,-372 277,-368.11 273.29,-365.59 267.83,-364.43\"/>\n",
       "<polygon fill=\"black\" stroke=\"black\" points=\"268.22,-360.95 258.04,-363.91 267.84,-367.94 268.22,-360.95\"/>\n",
       "<text text-anchor=\"middle\" x=\"319.75\" y=\"-366.95\" font-family=\"Times,serif\" font-size=\"14.00\">pau:&lt;eps&gt;:0.01</text>\n",
       "</g>\n",
       "<!-- 1 -->\n",
       "<g id=\"node2\" class=\"node\">\n",
       "<title>1</title>\n",
       "<ellipse fill=\"none\" stroke=\"black\" cx=\"27\" cy=\"-283.5\" rx=\"27\" ry=\"18\"/>\n",
       "<text text-anchor=\"middle\" x=\"27\" y=\"-278.45\" font-family=\"Times,serif\" font-size=\"14.00\">1</text>\n",
       "</g>\n",
       "<!-- 0&#45;&gt;1 -->\n",
       "<g id=\"edge2\" class=\"edge\">\n",
       "<title>0&#45;&gt;1</title>\n",
       "<path fill=\"none\" stroke=\"black\" d=\"M204.72,-370.93C150.91,-370.16 34.12,-365.08 9.25,-336 2.82,-328.48 4.61,-318.5 8.98,-309.34\"/>\n",
       "<polygon fill=\"black\" stroke=\"black\" points=\"11.93,-311.22 13.94,-300.81 5.88,-307.69 11.93,-311.22\"/>\n",
       "<text text-anchor=\"middle\" x=\"49.38\" y=\"-322.7\" font-family=\"Times,serif\" font-size=\"14.00\">ax:&lt;eps&gt;:0.00</text>\n",
       "</g>\n",
       "<!-- 3 -->\n",
       "<g id=\"node4\" class=\"node\">\n",
       "<title>3</title>\n",
       "<ellipse fill=\"none\" stroke=\"black\" cx=\"339\" cy=\"-283.5\" rx=\"27\" ry=\"18\"/>\n",
       "<text text-anchor=\"middle\" x=\"339\" y=\"-278.45\" font-family=\"Times,serif\" font-size=\"14.00\">3</text>\n",
       "</g>\n",
       "<!-- 0&#45;&gt;3 -->\n",
       "<g id=\"edge3\" class=\"edge\">\n",
       "<title>0&#45;&gt;3</title>\n",
       "<path fill=\"none\" stroke=\"black\" d=\"M253.15,-360.37C264.84,-354.04 279.31,-345.41 291,-336 301.24,-327.75 311.36,-317.34 319.64,-308.04\"/>\n",
       "<polygon fill=\"black\" stroke=\"black\" points=\"322.08,-310.56 325.97,-300.71 316.78,-305.99 322.08,-310.56\"/>\n",
       "<text text-anchor=\"middle\" x=\"344.38\" y=\"-322.7\" font-family=\"Times,serif\" font-size=\"14.00\">n:&lt;eps&gt;:0.00</text>\n",
       "</g>\n",
       "<!-- 1&#45;&gt;0 -->\n",
       "<g id=\"edge6\" class=\"edge\">\n",
       "<title>1&#45;&gt;0</title>\n",
       "<path fill=\"none\" stroke=\"black\" d=\"M47.66,-295.63C59.63,-302.26 74.88,-311.01 88,-319.5 98.49,-326.28 99.53,-330.52 110.75,-336 137.6,-349.11 170.26,-358.19 194.92,-363.81\"/>\n",
       "<polygon fill=\"black\" stroke=\"black\" points=\"193.98,-367.18 204.5,-365.9 195.47,-360.34 193.98,-367.18\"/>\n",
       "<text text-anchor=\"middle\" x=\"142.12\" y=\"-322.7\" font-family=\"Times,serif\" font-size=\"14.00\">m:&#39;em:0.50</text>\n",
       "</g>\n",
       "<!-- 1&#45;&gt;1 -->\n",
       "<g id=\"edge4\" class=\"edge\">\n",
       "<title>1&#45;&gt;1</title>\n",
       "<path fill=\"none\" stroke=\"black\" d=\"M51.53,-291.67C62.51,-292.45 72,-289.72 72,-283.5 72,-279.61 68.29,-277.09 62.83,-275.93\"/>\n",
       "<polygon fill=\"black\" stroke=\"black\" points=\"63.22,-272.45 53.04,-275.41 62.84,-279.44 63.22,-272.45\"/>\n",
       "<text text-anchor=\"middle\" x=\"111.38\" y=\"-278.45\" font-family=\"Times,serif\" font-size=\"14.00\">ax:&lt;eps&gt;:0.00</text>\n",
       "</g>\n",
       "<!-- 2 -->\n",
       "<g id=\"node3\" class=\"node\">\n",
       "<title>2</title>\n",
       "<ellipse fill=\"none\" stroke=\"black\" cx=\"111\" cy=\"-195\" rx=\"27\" ry=\"18\"/>\n",
       "<text text-anchor=\"middle\" x=\"111\" y=\"-189.95\" font-family=\"Times,serif\" font-size=\"14.00\">2</text>\n",
       "</g>\n",
       "<!-- 1&#45;&gt;2 -->\n",
       "<g id=\"edge5\" class=\"edge\">\n",
       "<title>1&#45;&gt;2</title>\n",
       "<path fill=\"none\" stroke=\"black\" d=\"M41.25,-267.83C54.28,-254.41 73.77,-234.34 88.83,-218.83\"/>\n",
       "<polygon fill=\"black\" stroke=\"black\" points=\"91.17,-221.44 95.63,-211.83 86.15,-216.57 91.17,-221.44\"/>\n",
       "<text text-anchor=\"middle\" x=\"115.62\" y=\"-234.2\" font-family=\"Times,serif\" font-size=\"14.00\">m:&lt;eps&gt;:0.00</text>\n",
       "</g>\n",
       "<!-- 2&#45;&gt;0 -->\n",
       "<g id=\"edge8\" class=\"edge\">\n",
       "<title>2&#45;&gt;0</title>\n",
       "<path fill=\"none\" stroke=\"black\" d=\"M130.44,-207.6C139.59,-213.74 150.19,-221.88 158,-231 173.81,-249.45 203.05,-309.14 219.65,-344.34\"/>\n",
       "<polygon fill=\"black\" stroke=\"black\" points=\"216.31,-345.47 223.73,-353.04 222.65,-342.5 216.31,-345.47\"/>\n",
       "<text text-anchor=\"middle\" x=\"229.12\" y=\"-278.45\" font-family=\"Times,serif\" font-size=\"14.00\">m:&#39;em:0.50</text>\n",
       "</g>\n",
       "<!-- 2&#45;&gt;2 -->\n",
       "<g id=\"edge7\" class=\"edge\">\n",
       "<title>2&#45;&gt;2</title>\n",
       "<path fill=\"none\" stroke=\"black\" d=\"M135.53,-203.17C146.51,-203.95 156,-201.22 156,-195 156,-191.11 152.29,-188.59 146.83,-187.43\"/>\n",
       "<polygon fill=\"black\" stroke=\"black\" points=\"147.22,-183.95 137.04,-186.91 146.84,-190.94 147.22,-183.95\"/>\n",
       "<text text-anchor=\"middle\" x=\"194.62\" y=\"-189.95\" font-family=\"Times,serif\" font-size=\"14.00\">m:&lt;eps&gt;:0.00</text>\n",
       "</g>\n",
       "<!-- 3&#45;&gt;3 -->\n",
       "<g id=\"edge9\" class=\"edge\">\n",
       "<title>3&#45;&gt;3</title>\n",
       "<path fill=\"none\" stroke=\"black\" d=\"M363.53,-291.67C374.51,-292.45 384,-289.72 384,-283.5 384,-279.61 380.29,-277.09 374.83,-275.93\"/>\n",
       "<polygon fill=\"black\" stroke=\"black\" points=\"375.22,-272.45 365.04,-275.41 374.84,-279.44 375.22,-272.45\"/>\n",
       "<text text-anchor=\"middle\" x=\"420.38\" y=\"-278.45\" font-family=\"Times,serif\" font-size=\"14.00\">n:&lt;eps&gt;:0.00</text>\n",
       "</g>\n",
       "<!-- 4 -->\n",
       "<g id=\"node5\" class=\"node\">\n",
       "<title>4</title>\n",
       "<ellipse fill=\"none\" stroke=\"black\" cx=\"332\" cy=\"-195\" rx=\"27\" ry=\"18\"/>\n",
       "<text text-anchor=\"middle\" x=\"332\" y=\"-189.95\" font-family=\"Times,serif\" font-size=\"14.00\">4</text>\n",
       "</g>\n",
       "<!-- 3&#45;&gt;4 -->\n",
       "<g id=\"edge10\" class=\"edge\">\n",
       "<title>3&#45;&gt;4</title>\n",
       "<path fill=\"none\" stroke=\"black\" d=\"M350.01,-266.79C355.76,-256.63 360.87,-243.09 357,-231 355.84,-227.37 354.15,-223.8 352.18,-220.41\"/>\n",
       "<polygon fill=\"black\" stroke=\"black\" points=\"355.09,-218.46 346.58,-212.14 349.29,-222.38 355.09,-218.46\"/>\n",
       "<text text-anchor=\"middle\" x=\"397\" y=\"-234.2\" font-family=\"Times,serif\" font-size=\"14.00\">ae:&lt;eps&gt;:0.00</text>\n",
       "</g>\n",
       "<!-- 4&#45;&gt;4 -->\n",
       "<g id=\"edge11\" class=\"edge\">\n",
       "<title>4&#45;&gt;4</title>\n",
       "<path fill=\"none\" stroke=\"black\" d=\"M356.53,-203.17C367.51,-203.95 377,-201.22 377,-195 377,-191.11 373.29,-188.59 367.83,-187.43\"/>\n",
       "<polygon fill=\"black\" stroke=\"black\" points=\"368.22,-183.95 358.04,-186.91 367.84,-190.94 368.22,-183.95\"/>\n",
       "<text text-anchor=\"middle\" x=\"416\" y=\"-189.95\" font-family=\"Times,serif\" font-size=\"14.00\">ae:&lt;eps&gt;:0.00</text>\n",
       "</g>\n",
       "<!-- 5 -->\n",
       "<g id=\"node6\" class=\"node\">\n",
       "<title>5</title>\n",
       "<ellipse fill=\"none\" stroke=\"black\" cx=\"332\" cy=\"-106.5\" rx=\"27\" ry=\"18\"/>\n",
       "<text text-anchor=\"middle\" x=\"332\" y=\"-101.45\" font-family=\"Times,serif\" font-size=\"14.00\">5</text>\n",
       "</g>\n",
       "<!-- 4&#45;&gt;5 -->\n",
       "<g id=\"edge12\" class=\"edge\">\n",
       "<title>4&#45;&gt;5</title>\n",
       "<path fill=\"none\" stroke=\"black\" d=\"M332,-176.91C332,-165.26 332,-149.55 332,-136.02\"/>\n",
       "<polygon fill=\"black\" stroke=\"black\" points=\"335.5,-136.36 332,-126.36 328.5,-136.36 335.5,-136.36\"/>\n",
       "<text text-anchor=\"middle\" x=\"368.38\" y=\"-145.7\" font-family=\"Times,serif\" font-size=\"14.00\">k:&lt;eps&gt;:0.00</text>\n",
       "</g>\n",
       "<!-- 5&#45;&gt;0 -->\n",
       "<g id=\"edge15\" class=\"edge\">\n",
       "<title>5&#45;&gt;0</title>\n",
       "<path fill=\"none\" stroke=\"black\" d=\"M322.97,-123.85C315.4,-137.8 304.5,-158.48 296,-177 285.2,-200.51 281.17,-206.07 274.25,-231 265.77,-261.58 272.04,-271.09 263,-301.5 258.66,-316.09 251.95,-331.63 245.88,-344.31\"/>\n",
       "<polygon fill=\"black\" stroke=\"black\" points=\"242.75,-342.74 241.45,-353.26 249.02,-345.84 242.75,-342.74\"/>\n",
       "<text text-anchor=\"middle\" x=\"313.38\" y=\"-234.2\" font-family=\"Times,serif\" font-size=\"14.00\">s:&#45;knacks:0.50</text>\n",
       "</g>\n",
       "<!-- 5&#45;&gt;5 -->\n",
       "<g id=\"edge13\" class=\"edge\">\n",
       "<title>5&#45;&gt;5</title>\n",
       "<path fill=\"none\" stroke=\"black\" d=\"M356.53,-114.67C367.51,-115.45 377,-112.72 377,-106.5 377,-102.61 373.29,-100.09 367.83,-98.93\"/>\n",
       "<polygon fill=\"black\" stroke=\"black\" points=\"368.22,-95.45 358.04,-98.41 367.84,-102.44 368.22,-95.45\"/>\n",
       "<text text-anchor=\"middle\" x=\"413.38\" y=\"-101.45\" font-family=\"Times,serif\" font-size=\"14.00\">k:&lt;eps&gt;:0.00</text>\n",
       "</g>\n",
       "<!-- 6 -->\n",
       "<g id=\"node7\" class=\"node\">\n",
       "<title>6</title>\n",
       "<ellipse fill=\"none\" stroke=\"black\" cx=\"412\" cy=\"-18\" rx=\"27\" ry=\"18\"/>\n",
       "<text text-anchor=\"middle\" x=\"412\" y=\"-12.95\" font-family=\"Times,serif\" font-size=\"14.00\">6</text>\n",
       "</g>\n",
       "<!-- 5&#45;&gt;6 -->\n",
       "<g id=\"edge14\" class=\"edge\">\n",
       "<title>5&#45;&gt;6</title>\n",
       "<path fill=\"none\" stroke=\"black\" d=\"M345.57,-90.83C357.98,-77.41 376.54,-57.34 390.89,-41.83\"/>\n",
       "<polygon fill=\"black\" stroke=\"black\" points=\"393.11,-44.57 397.33,-34.86 387.98,-39.82 393.11,-44.57\"/>\n",
       "<text text-anchor=\"middle\" x=\"414.62\" y=\"-57.2\" font-family=\"Times,serif\" font-size=\"14.00\">s:&lt;eps&gt;:0.00</text>\n",
       "</g>\n",
       "<!-- 6&#45;&gt;0 -->\n",
       "<g id=\"edge17\" class=\"edge\">\n",
       "<title>6&#45;&gt;0</title>\n",
       "<path fill=\"none\" stroke=\"black\" d=\"M432.76,-30.02C456.16,-44.13 491,-70.93 491,-105.5 491,-284.5 491,-284.5 491,-284.5 491,-330.53 341.97,-356.5 270.01,-366.36\"/>\n",
       "<polygon fill=\"black\" stroke=\"black\" points=\"269.69,-362.87 260.24,-367.65 270.62,-369.81 269.69,-362.87\"/>\n",
       "<text text-anchor=\"middle\" x=\"530.38\" y=\"-189.95\" font-family=\"Times,serif\" font-size=\"14.00\">s:&#45;knacks:0.50</text>\n",
       "</g>\n",
       "<!-- 6&#45;&gt;6 -->\n",
       "<g id=\"edge16\" class=\"edge\">\n",
       "<title>6&#45;&gt;6</title>\n",
       "<path fill=\"none\" stroke=\"black\" d=\"M436.53,-26.17C447.51,-26.95 457,-24.22 457,-18 457,-14.11 453.29,-11.59 447.83,-10.43\"/>\n",
       "<polygon fill=\"black\" stroke=\"black\" points=\"448.22,-6.95 438.04,-9.91 447.84,-13.94 448.22,-6.95\"/>\n",
       "<text text-anchor=\"middle\" x=\"492.62\" y=\"-12.95\" font-family=\"Times,serif\" font-size=\"14.00\">s:&lt;eps&gt;:0.00</text>\n",
       "</g>\n",
       "</g>\n",
       "</svg>\n"
      ],
      "text/plain": [
       "<graphviz.graphs.Digraph at 0x117aa7e80>"
      ]
     },
     "execution_count": 54,
     "metadata": {},
     "output_type": "execute_result"
    }
   ],
   "source": [
    "def create_Lwfst_from_file(dic_fname='timit/TIMITDIC.TXT', \n",
    "                           phones_fname='exp/phones.txt', \n",
    "                           words_fname='exp/words.txt', \n",
    "                           words_limit=-1,\n",
    "                           word_insertion_penalty=0.5, \n",
    "                           stay_in_silence_penalty=0.01):\n",
    "    isymbols = SymbolsMap.from_file(phones_fname)\n",
    "    osymbols = SymbolsMap.from_file(words_fname)\n",
    "    sil_id = isymbols.get_id('pau')\n",
    "    l_wfst = WFST(isymbols=isymbols, osymbols=osymbols)\n",
    "    start = l_wfst.get_start()\n",
    "    ### Пропуск скольких угодно фонем тишины\n",
    "    l_wfst.add_arc(start, Arc(sil_id, 0, stay_in_silence_penalty, start))\n",
    "    # Стартовое состояние также является и финальным\n",
    "    l_wfst.set_final(start)\n",
    "    \n",
    "    for word, trans in load_lexicon_file(dic_fname, words_limit=words_limit):\n",
    "\n",
    "        tran_ids = [isymbols.get_id(t) for t in trans]\n",
    "        word_id = osymbols.get_id(word)\n",
    "\n",
    "        # TODO \n",
    "        # Добавьте последовательные дуги в wfst, определяющие транскрипцию слова\n",
    "        # Все дуги, кроме последней, на выходе имеют <eps>\n",
    "        # Последняя дуга выводит word_id и возвращает конечный автомат в стартовое (оно же финальное) состояние\n",
    "        # !!!! Две последние дуги !!!!!\n",
    "        # Каждая фонема может тянуться от 1 до inf кадров, поэтому помимо переходов в новое состояние, должны быть еще петли\n",
    "        \n",
    "        prev_state = 0\n",
    "        \n",
    "        for idx in range(len(tran_ids)):\n",
    "            \n",
    "            new_state = l_wfst.new_state()\n",
    "            \n",
    "            l_wfst.add_arc(prev_state, Arc(tran_ids[idx], 0, 0., new_state)) # фонема:<eps>\n",
    "            l_wfst.add_arc(new_state, Arc(tran_ids[idx], 0, 0., new_state)) # петля \n",
    "            \n",
    "            if idx == len(tran_ids)-1 :\n",
    "                \n",
    "                # Две последние дуги, возвращающие FST в стартовое состояние\n",
    "                l_wfst.add_arc(prev_state, Arc(tran_ids[idx], word_id, word_insertion_penalty, start))\n",
    "                l_wfst.add_arc(new_state, Arc(tran_ids[idx], word_id, word_insertion_penalty, start))\n",
    "            \n",
    "            prev_state = new_state\n",
    "        \n",
    "        #raise NotImplementedError()\n",
    "        # !!!!!!!!!!!!!!!!!!!!!!!!!!!!!!!!!\n",
    "\n",
    "    return l_wfst\n",
    "\n",
    "create_Lwfst_from_file(words_limit=2, word_insertion_penalty=0.5, stay_in_silence_penalty=0.01).to_dot()"
   ]
  },
  {
   "cell_type": "code",
   "execution_count": 56,
   "id": "3e518300-0337-4727-9312-c2027b73cb5e",
   "metadata": {},
   "outputs": [
    {
     "data": {
      "application/vnd.jupyter.widget-view+json": {
       "model_id": "1378525d121f48e3afbb4273e0606f8d",
       "version_major": 2,
       "version_minor": 0
      },
      "text/plain": [
       "  0%|          | 0/100 [00:00<?, ?it/s]"
      ]
     },
     "metadata": {},
     "output_type": "display_data"
    },
    {
     "name": "stdout",
     "output_type": "stream",
     "text": [
      "test 2.a passed\n"
     ]
    }
   ],
   "source": [
    "def test_l_wfst():\n",
    "    l_wfst = create_Lwfst_from_file(dic_fname='timit/TIMITDIC.TXT', \n",
    "                                    word_insertion_penalty=1.0, stay_in_silence_penalty=0.01)\n",
    "    start = l_wfst.get_start()\n",
    "    hyps = l_wfst.transduce(start, 'pau')\n",
    "    loop_hyp = [(l, w, s) for l, w, s in hyps if s == start]\n",
    "    assert (len(loop_hyp) == 1 \n",
    "            and loop_hyp[0][0] == '<eps>' \n",
    "            and loop_hyp[0][1] == 0.01), f\"{hyps}\\n skip pause test failed\"\n",
    "    # смотрим, что поданная на вход транскрипция корректно переводится в слово\n",
    "    # количество подряд идущих одинаковых фонем постепенно увеличивается от одной до 6\n",
    "    for i, (word, trans) in enumerate(tqdm(load_lexicon_file('timit/TIMITDIC.TXT', words_limit=100), total=100)):\n",
    "        hyps = [('', 0, l_wfst.get_start()), ]\n",
    "        # Breadth First Search\n",
    "        for t in [t for t in trans for _ in range(i//20+1)]:\n",
    "            # t repeated many times\n",
    "            new_hyps = []\n",
    "            for prev_l, prev_w, prev_s in hyps: \n",
    "                new_hyps.extend([(f\"{prev_l} {l}\", prev_w + w, s) for l,w,s in l_wfst.transduce(prev_s, t)])\n",
    "            hyps = new_hyps\n",
    "        # choose only final hyp\n",
    "        # ограничение веса нужно, чтобы отсечь гипотезы где комбинация других слов мапится на теже фонемы\n",
    "        hyps = [(l, w, s) for l, w, s in hyps if l_wfst.final_score(s) != float('inf') and w == 1.0]\n",
    "        assert len(hyps) == 1 or len(trans) == 1 , f\"Test failed for word \\\"{word}\\\" {hyps=}\"\n",
    "        assert hyps[0][0].replace('<eps>', ' ').split() == [word], f\"Test failed for word {word} {hyps=}\"\n",
    "        assert hyps[0][1] == 1.0, f\"Test failed for word {word} {hyps=}\"\n",
    "        assert hyps[0][2] == start, f\"Test failed for word {word} {hyps=}\"       \n",
    "    print(\"test 2.a passed\")\n",
    "test_l_wfst()"
   ]
  },
  {
   "cell_type": "markdown",
   "id": "4085d806-f619-4941-b339-6c7ee21b3803",
   "metadata": {},
   "source": [
    "# Поиск наилучшей гипотезы распознавания с помощью beam search\n",
    "\n",
    "Для того, чтобы найти результат распознавания с помощью акустической модели и графа распознавания, надо выполнить поиск наилучшей гипотезы в графе. Для поиска лучшего пути будем использовать [лучевой поиск (Beam Search)](https://ru.wikipedia.org/wiki/%D0%9B%D1%83%D1%87%D0%B5%D0%B2%D0%BE%D0%B9_%D0%BF%D0%BE%D0%B8%D1%81%D0%BA). В основе этого алгоритма лежит обход графа в ширину, но на каждом шаге рассматриваются только наиболее \"хорошие\" гипотезы, а остальные уничтожаются. Такая эвристика позволяет значительно ускорить процесс декодирования, но не всегда находит наилучший путь. "
   ]
  },
  {
   "cell_type": "code",
   "execution_count": 57,
   "id": "746bf3bb-9301-423e-9464-0479a9435f79",
   "metadata": {},
   "outputs": [],
   "source": [
    "@dataclass(order=True)\n",
    "class Hypothesis:\n",
    "    # накопленный штраф гипотезы\n",
    "    score: float\n",
    "    # до какого кадра из входной последовательности дошла гипотеза\n",
    "    time: int\n",
    "    # накопленная последовательность слов\n",
    "    words: List[str]\n",
    "    # состояние графа декодирования \n",
    "    state: Any\n"
   ]
  },
  {
   "cell_type": "markdown",
   "id": "2142b823-9612-46ee-a54b-152b37d815ff",
   "metadata": {},
   "source": [
    "### HypothesesKeeper\n",
    "Реализуем специальную коллекцию, которая хранит все гипотезы распознавания и применяет прунинг (удаление ненужных гипотез). \n",
    "Прунинг делится на два типа: \n",
    "#### State pruning \n",
    "Eсли мы можем дойти до состояния X в момент времени T несколькими способами, то для дальнейшей обработки достаточно только наилучшего пути до состояния X. Эта гипотеза гарантированно будет лучше всех других гипотез, проходящих через точку (X, T). \n",
    "#### Beam pruning\n",
    "Эвристика лучевого поиска. Отсекаем все гипотезы, которые хуже, чем лучшая текущая гипотеза плюс beam_size. Вероятность того, что гипотезы с сильно худшим весом вдруг станут наилучшими, крайне мала, поэтому такая эвристика работает достаточно хорошо. \n"
   ]
  },
  {
   "cell_type": "code",
   "execution_count": 61,
   "id": "58a2485a-834f-499c-a356-b17983fd85fe",
   "metadata": {},
   "outputs": [],
   "source": [
    "class HypothesesKeeper:\n",
    "    def __init__(self, init_hyps: List[Hypothesis] = [], beam_size=10):\n",
    "        self.state2hyp = {h.state: h for h in init_hyps}\n",
    "        self.beam_size = beam_size\n",
    "        if len(self.state2hyp) == 0:\n",
    "            self.set_best(None, float('inf'))\n",
    "        else:\n",
    "            min_hyp = min(self.state2hyp.values())\n",
    "            self.set_best(min_hyp.state, min_hyp.score)\n",
    "\n",
    "    def set_best(self, state, score):\n",
    "        self.best_state = state\n",
    "        self.best_score = score\n",
    "        \n",
    "    def get_best_hyp(self) -> Hypothesis:\n",
    "        \"\"\"return the best hyp based on self.best_state\"\"\"   \n",
    "        # TODO \n",
    "        # верните лучшую гипотезу \n",
    "        best_hyp = self.state2hyp[self.best_state]\n",
    "        \n",
    "        return best_hyp\n",
    "        #raise NotImplementedError()\n",
    "        # !!!!!!!!!!\n",
    "    \n",
    "    def prune(self):\n",
    "        self.state2hyp = {s:h for s, h in self.state2hyp.items() if not self.is_prunned_by_beam(h.score)}\n",
    "        \n",
    "    def tolist(self) -> List[Hypothesis]:\n",
    "        \"\"\"Return all hypotheses. Apply beam pruning\"\"\"\n",
    "        # TODO \n",
    "        # верните все гипотезы, которые находятся в луче поиска\n",
    "        \n",
    "        hyps_in_beam = []\n",
    "        for k, v in self.state2hyp.items():\n",
    "            if not self.is_prunned_by_beam(v.score):\n",
    "                hyps_in_beam.append(v)\n",
    "                \n",
    "        return hyps_in_beam\n",
    "        \n",
    "        #raise NotImplementedError()\n",
    "        # !!!!!!!!!!!!!!!!!\n",
    "    \n",
    "    def is_prunned_by_beam(self, score: float):\n",
    "        \"\"\"Return true if score greater than beam\"\"\"\n",
    "        # TODO \n",
    "        # верните True, если значение score находится вне луча поиска \n",
    "        return score > (self.best_score + self.beam_size)\n",
    "        #raise NotImplementedError()\n",
    "        #!!!!!!!!!!!!!!!!\n",
    "        \n",
    "    def is_prunned_by_state(self, state, score):\n",
    "        \"\"\"Returns true if the keeper already has a hyp in the same state and the score of this hyp is lower\"\"\"\n",
    "        # TODO\n",
    "        # верните True, если state уже имеет гипотезу, со скором лучше чем score\n",
    "        return state in self.state2hyp and score > self.state2hyp[state].score\n",
    "        #raise NotImplementedError()\n",
    "        # !!!!!!!!!!!!!!!!!!!\n",
    "    \n",
    "    def append(self, hyp: Hypothesis):\n",
    "        \"\"\"Append new hyp into collection\"\"\"\n",
    "        if self.is_prunned_by_beam(hyp.score) or self.is_prunned_by_state(hyp.state, hyp.score):\n",
    "            return \n",
    "        self.state2hyp[hyp.state] = hyp\n",
    "        if hyp.score < self.best_score or self.best_state is None:\n",
    "            self.set_best(hyp.state, hyp.score)\n",
    "\n",
    "    def extend(self, hyps):\n",
    "        if isinstance(hyps, HypothesesKeeper):\n",
    "            hyps = hyps.tolist()\n",
    "        for h in hyps:\n",
    "            self.append(h)\n",
    "    \n",
    "    def __len__(self):\n",
    "        return len(self.state2hyp)\n",
    "\n",
    "    def __str__(self):\n",
    "        return '[' + \",\\n\".join(map(str, self.tolist())) + ']'\n",
    "\n",
    "    def describe(self):\n",
    "        # TODO \n",
    "        # посчитайте средний и максимальный скор хранящихся гипотез\n",
    "        hyp_scores = [hyp.score for hyp in self.state2hyp.values()]\n",
    "        mean_score = sum(hyp_scores) / len(hyp_scores)\n",
    "        max_score = max(hyp_scores)\n",
    "        #raise NotImplementedError()\n",
    "        # !!!!!!!\n",
    "        return (\n",
    "            f\"{len(self)} hyps. \"\n",
    "            f\"Best {self.get_best_hyp()}. \"\n",
    "            f\"Mean score {mean_score:.2f}. \"\n",
    "            f\"Max {max_score:.2f}\"\n",
    "        )"
   ]
  },
  {
   "cell_type": "code",
   "execution_count": 64,
   "id": "349961f4-c05b-41e5-a514-277b69bde94d",
   "metadata": {},
   "outputs": [
    {
     "name": "stdout",
     "output_type": "stream",
     "text": [
      "test 2.b passed!\n"
     ]
    }
   ],
   "source": [
    "def test_hyp_keeper():\n",
    "    hyps = HypothesesKeeper(beam_size=10)\n",
    "    hyps.append(Hypothesis(10, 0, ['a'],  1))\n",
    "    assert len(hyps) == 1 and hyps.best_state == 1 and hyps.best_score == 10, f\"First append doesn't work well\"\n",
    "    hyps.append(Hypothesis(100, 0, ['err'], 2))\n",
    "    assert len(hyps) == 1 and hyps.best_state == 1 and hyps.best_score == 10, f\"Append didn't prune the input\"\n",
    "    \n",
    "    hyps.append(Hypothesis(11, 0, ['b'], 2))\n",
    "    assert len(hyps) == 2 and hyps.best_state == 1 and hyps.best_score == 10, f\"Append doesn't work well\"\n",
    "    hyps.append(Hypothesis(12, 0, ['err2'], 2))\n",
    "    assert len(hyps) == 2 and hyps.state2hyp[2].score == 11, f\"Append didn't prune the input\"\n",
    "    \n",
    "    hyps.append(Hypothesis(0, 0, ['c'], 3))\n",
    "    assert hyps.best_state == 3 and hyps.best_score == 0, f\"Append didn't update best_* attributes\"\n",
    "\n",
    "    hyps_list = hyps.tolist()\n",
    "    assert len(hyps_list) == 2, f\"tolist didn't prune the output\"\n",
    "\n",
    "    hyp = hyps.get_best_hyp()\n",
    "    assert hyp == Hypothesis(0, 0, ['c'], 3), f\"{hyp=}\"\n",
    "    print(\"test 2.b passed!\")\n",
    "test_hyp_keeper()"
   ]
  },
  {
   "cell_type": "code",
   "execution_count": 85,
   "id": "972bbcf8-e7db-4670-8a93-f13760cdcd25",
   "metadata": {},
   "outputs": [],
   "source": [
    "class BeamSearcher:\n",
    "    def __init__(self, am2phone_mapping, graph: AbstractWFST, beam_size=3):\n",
    "        self.am2phone_mapping = am2phone_mapping\n",
    "        self.graph = graph\n",
    "        self.beam_size = beam_size\n",
    "        \n",
    "    def decode(self, phonemes_nll: np.ndarray):\n",
    "        \"\"\"\n",
    "        Decoding input phonemes negative loglikelihood into word level hypthesis\n",
    "        phonemes_logprobs.shape is (Time, num_phones)\n",
    "        \"\"\"\n",
    "        parent_hyps = HypothesesKeeper(init_hyps=[Hypothesis(0, -1, [], self.graph.get_start())], \n",
    "                                       beam_size=self.beam_size)\n",
    "        pbar = tqdm(phonemes_nll)\n",
    "        for new_time, frame_dist in enumerate(pbar):\n",
    "            new_hyps = HypothesesKeeper(beam_size=self.beam_size)\n",
    "            #print(parent_hyps)\n",
    "            for parent_hyp in parent_hyps.tolist():\n",
    "                assert parent_hyp.time + 1 == new_time, f\"Wrong time {new_time=}, \\n{parent_hyp=}\"\n",
    "                # TODO \n",
    "                # Продолжите гипотезу parent_hyp с помощью всех фонем и их вероятностей из frame_dist\n",
    "                # соханите новые гипотезы в new_hyps\n",
    "                # words гипотез не должен содержать <eps> \n",
    "                # score гипотезы равен сумме скора родителя, phone_nll и веса от transduce по графу\n",
    "                \n",
    "                for i, phone_nll in enumerate(frame_dist):\n",
    "                    ilabel = self.am2phone_mapping[i]\n",
    "                    olabels = self.graph.transduce(parent_hyp.state, ilabel)\n",
    "\n",
    "                    for olabel, weight, nextstate in olabels:\n",
    "\n",
    "                            hyp_score = parent_hyp.score + phone_nll + weight\n",
    "                            \n",
    "                            if olabel != '<eps>':\n",
    "                                words = parent_hyp.words + [olabel]\n",
    "                            else:\n",
    "                                words = parent_hyp.words\n",
    "                            \n",
    "                            new_hyp = Hypothesis(hyp_score , new_time, words, nextstate)\n",
    "                            new_hyps.append(new_hyp)\n",
    "                   # raise NotImplementedError()\n",
    "                # !!!!!!!!\n",
    "            new_hyps.prune()\n",
    "            parent_hyps = new_hyps\n",
    "            statictic_str = parent_hyps.describe()\n",
    "            pbar.set_description(statictic_str, refresh=False)\n",
    "        # TODO \n",
    "        # сформируйте список финальных гипотез\n",
    "        # пройдитесь по parent_hyps и добавьте ко всем гипотезам финальный вес \n",
    "        final_hyps = HypothesesKeeper(beam_size=self.beam_size)\n",
    "        for hyp in parent_hyps.tolist():\n",
    "            \n",
    "            final_score = self.graph.final_score(hyp.state)\n",
    "            new_hyp_score = hyp.score + final_score\n",
    "            final_hyp = Hypothesis(new_hyp_score, hyp.time, hyp.words, hyp.state)\n",
    "            final_hyps.append(final_hyp)\n",
    "        \n",
    "        #raise NotImplementedError()\n",
    "        # !!!!!!!!!!!!!!!\n",
    "        \n",
    "        print(f\"Found {len(final_hyps)} hypotheses\")\n",
    "        best_hyp = final_hyps.get_best_hyp()\n",
    "        return best_hyp"
   ]
  },
  {
   "cell_type": "code",
   "execution_count": 75,
   "id": "85ecdf4e-0d13-4ea6-b8b2-1826c009ef66",
   "metadata": {},
   "outputs": [
    {
     "data": {
      "application/vnd.jupyter.widget-view+json": {
       "model_id": "ebd6e9ea47cf4b2e9fe4cfe236079c4f",
       "version_major": 2,
       "version_minor": 0
      },
      "text/plain": [
       "  0%|          | 0/3 [00:00<?, ?it/s]"
      ]
     },
     "metadata": {},
     "output_type": "display_data"
    },
    {
     "name": "stdout",
     "output_type": "stream",
     "text": [
      "[Hypothesis(score=0, time=-1, words=[], state=0)]\n",
      "[Hypothesis(score=1.0, time=0, words=['a'], state=1)]\n",
      "[Hypothesis(score=2.0, time=1, words=['a', '_'], state=0)]\n",
      "Found 1 hypotheses\n"
     ]
    },
    {
     "data": {
      "application/vnd.jupyter.widget-view+json": {
       "model_id": "a21bc7db296841ccb20be069214ccd5b",
       "version_major": 2,
       "version_minor": 0
      },
      "text/plain": [
       "  0%|          | 0/3 [00:00<?, ?it/s]"
      ]
     },
     "metadata": {},
     "output_type": "display_data"
    },
    {
     "name": "stdout",
     "output_type": "stream",
     "text": [
      "[Hypothesis(score=0, time=-1, words=[], state=0)]\n",
      "[Hypothesis(score=4.0, time=0, words=['b'], state=1)]\n",
      "[Hypothesis(score=105.0, time=1, words=['b', '_'], state=0)]\n",
      "Found 1 hypotheses\n"
     ]
    },
    {
     "data": {
      "application/vnd.jupyter.widget-view+json": {
       "model_id": "dca40cbcc57f42fd886863aa48b79d56",
       "version_major": 2,
       "version_minor": 0
      },
      "text/plain": [
       "  0%|          | 0/3 [00:00<?, ?it/s]"
      ]
     },
     "metadata": {},
     "output_type": "display_data"
    },
    {
     "name": "stdout",
     "output_type": "stream",
     "text": [
      "[Hypothesis(score=0, time=-1, words=[], state=0)]\n",
      "[Hypothesis(score=3.0, time=0, words=['b'], state=1),\n",
      "Hypothesis(score=7.0, time=0, words=[], state=0)]\n",
      "[Hypothesis(score=12.0, time=1, words=[], state=0),\n",
      "Hypothesis(score=9.0, time=1, words=['a'], state=1)]\n",
      "Found 1 hypotheses\n"
     ]
    },
    {
     "data": {
      "application/vnd.jupyter.widget-view+json": {
       "model_id": "35913cd2c8fe4b38a9fed0fb9ca2a417",
       "version_major": 2,
       "version_minor": 0
      },
      "text/plain": [
       "  0%|          | 0/3 [00:00<?, ?it/s]"
      ]
     },
     "metadata": {},
     "output_type": "display_data"
    },
    {
     "name": "stdout",
     "output_type": "stream",
     "text": [
      "[Hypothesis(score=0, time=-1, words=[], state=0)]\n",
      "[Hypothesis(score=7.0, time=0, words=['b'], state=1)]\n",
      "[Hypothesis(score=1008.0, time=1, words=['b', '_'], state=0)]\n",
      "Found 1 hypotheses\n"
     ]
    },
    {
     "data": {
      "application/vnd.jupyter.widget-view+json": {
       "model_id": "5064050871864e4dacd915d5a7d7dae0",
       "version_major": 2,
       "version_minor": 0
      },
      "text/plain": [
       "  0%|          | 0/3 [00:00<?, ?it/s]"
      ]
     },
     "metadata": {},
     "output_type": "display_data"
    },
    {
     "name": "stdout",
     "output_type": "stream",
     "text": [
      "[Hypothesis(score=0, time=-1, words=[], state=0)]\n",
      "[Hypothesis(score=3.0, time=0, words=['b'], state=1),\n",
      "Hypothesis(score=-1, time=0, words=[], state=0)]\n",
      "[Hypothesis(score=-2, time=1, words=[], state=0),\n",
      "Hypothesis(score=1.0, time=1, words=['a'], state=1)]\n",
      "Found 1 hypotheses\n",
      "Test 2.c passed\n"
     ]
    }
   ],
   "source": [
    "def test_beam_search():\n",
    "    \n",
    "    graph = WFST(isymbols=SymbolsMap(id2symbol=['<eps>', 'pau', 'A', 'B']),\n",
    "                 osymbols=SymbolsMap(id2symbol=['<eps>', 'err', '_', 'a', 'b']))\n",
    "    s = graph.new_state()\n",
    "    graph.add_arc(0, Arc(2, 3, 2.0, s))\n",
    "    graph.add_arc(0, Arc(3, 4, 3.0, s))\n",
    "    graph.add_arc(s, Arc(1, 2, 1.0, 0))\n",
    "    graph.set_final(s)\n",
    "                 \n",
    "    searcher = BeamSearcher(am2phone_mapping={0: 'pau', 1: 'A', 2: 'B'}, graph=graph, beam_size=10)\n",
    "    #                   p  A  B\n",
    "    logits = np.array([[-1, -1, -1],\n",
    "                       [0, 0, 0],\n",
    "                       [-100, -100, -100]])\n",
    "    best_hyp = searcher.decode(logits)\n",
    "    assert best_hyp == Hypothesis((-1+2) + (-0+1) + (-100+2) , 2, ['a', '_', 'a'], s), best_hyp\n",
    "    logits = np.array([[1, 4, 1],\n",
    "                       [100, 0, 0],\n",
    "                       [100, 100, 100]])\n",
    "    best_hyp = searcher.decode(logits)\n",
    "    assert best_hyp == Hypothesis((1+3) + (100+1) + (100+2) , 2, ['b', '_', 'a'], s), best_hyp\n",
    "    \n",
    "    searcher.graph.add_arc(0, Arc(2, 0, 5.0, 0))\n",
    "    logits = np.array([[1, 2, 0],\n",
    "                       [10, 0, 0],\n",
    "                       [100, 100, 100]])\n",
    "    best_hyp = searcher.decode(logits)\n",
    "    assert best_hyp == Hypothesis((2+5) + (0+5) + (100+2) , 2, ['a'], s), best_hyp\n",
    "\n",
    "    logits = np.array([[1, 20, 4], # beam pruning must remove A-loop hypothesis\n",
    "                       [1000, 0, 0],\n",
    "                       [100, 100, 100]])\n",
    "    best_hyp = searcher.decode(logits)\n",
    "    assert best_hyp == Hypothesis((4+3) + (1000+1) + (100+2) , 2, ['b', '_', 'a'], s), best_hyp\n",
    "\n",
    "    searcher.graph.add_arc(0, Arc(3, 0, -1, 0))\n",
    "    logits = np.array([[1, 2, 0],\n",
    "                       [10, 0, 0],\n",
    "                       [100, 100, 100]])\n",
    "    best_hyp = searcher.decode(logits)\n",
    "    assert best_hyp == Hypothesis((0-1) + (0-1) + (100+2) , 2, ['a'], s), best_hyp\n",
    "\n",
    "    print(f\"Test 2.c passed\")\n",
    "test_beam_search()                      "
   ]
  },
  {
   "cell_type": "markdown",
   "id": "37c85696-b4fa-487a-845c-c8d0203a4753",
   "metadata": {},
   "source": [
    "### WFST представление нграмной языковой модели \n",
    "Для подсчета языковой модели будем использовать библиотеку kenlm. Данная библиотека позволяет подсчитывать языковую вероятность с помощью нграмной языковой модели. \n",
    "\n",
    "Создадим обертку над kenlm.Model, реализующую интерфейс AbstractWFST"
   ]
  },
  {
   "cell_type": "code",
   "execution_count": 76,
   "id": "1192ca61-a0c2-43f0-8954-83840989c030",
   "metadata": {},
   "outputs": [],
   "source": [
    "class kenlmLikeWFST(AbstractWFST):\n",
    "    \"\"\"Оборачиваем kenlm в унифицированный интерфейс\"\"\"\n",
    "    def __init__(self, lm: kenlm.Model, lmwt_factor=0.01):\n",
    "        self.lm = lm\n",
    "        self.lmwt_factor = lmwt_factor\n",
    "        \n",
    "    def get_start(self):\n",
    "        state = kenlm.State()\n",
    "        self.lm.BeginSentenceWrite(state)\n",
    "        return state\n",
    "        \n",
    "    def final_score(self, state: kenlm.State):\n",
    "        logprob = self.lm.BaseScore(state, \"</s>\", kenlm.State())\n",
    "        return self._log10_to_nll(logprob)\n",
    "        \n",
    "    def _log10_to_nll(self, logprob):\n",
    "        \"\"\"переводим в negative натуральный логирифм \"\"\"\n",
    "        return - np.log(10**logprob)\n",
    "        \n",
    "    def transduce(self, state: kenlm.State, ilabel: str):\n",
    "        assert isinstance(ilabel, str), ilabel\n",
    "        if ilabel == '<eps>':\n",
    "            # skip <eps> input\n",
    "            return [('<eps>', 0, state), ]\n",
    "        state2 = kenlm.State()\n",
    "        logprob = self.lm.BaseScore(state, ilabel, state2)\n",
    "        return [(ilabel, self.lmwt_factor * self._log10_to_nll(logprob), state2), ]\n",
    "    "
   ]
  },
  {
   "cell_type": "markdown",
   "id": "fd124f1a-0232-48c0-933a-ef5247ab46ed",
   "metadata": {},
   "source": [
    "## Запускаем декодирование\n"
   ]
  },
  {
   "cell_type": "code",
   "execution_count": 79,
   "id": "eb39324b-a225-4e8d-914a-5dd99e1ddb7b",
   "metadata": {},
   "outputs": [],
   "source": [
    "# Заранее подготовленные negative log probability от модели из работы №3\n",
    "with ReadHelper('ark:resources/lab4/test_am_nlogprobs.ark') as am_nlogprob_reader:\n",
    "    am_nlogprobs = {uri: am_logprob  for uri, am_logprob in am_nlogprob_reader}"
   ]
  },
  {
   "cell_type": "code",
   "execution_count": 80,
   "id": "d745f0de-a7e2-4b01-b363-cb984ea4d747",
   "metadata": {},
   "outputs": [
    {
     "name": "stdout",
     "output_type": "stream",
     "text": [
      "She had your dark suit in greasy wash water all year\n"
     ]
    }
   ],
   "source": [
    "# Выбираем один пример для отладки пайплайна\n",
    "example = am_nlogprobs['timit/data/TEST/DR1/FAKS0/SA1']\n",
    "with open('timit/data/TEST/DR1/FAKS0/SA1.TXT') as f:\n",
    "    example_ref = ' '.join(f.read().replace('.', ' ').split()[2:])\n",
    "print(example_ref)"
   ]
  },
  {
   "cell_type": "code",
   "execution_count": 81,
   "id": "d3a3d464-41b5-46a4-95bc-d0e4900549cc",
   "metadata": {},
   "outputs": [],
   "source": [
    "h_fst = create_h_wfst()\n",
    "l_fst = create_Lwfst_from_file(stay_in_silence_penalty=0.0, word_insertion_penalty=1.0)"
   ]
  },
  {
   "cell_type": "code",
   "execution_count": 86,
   "id": "3549d2da-0501-4be5-be8b-ec6ea8085f01",
   "metadata": {},
   "outputs": [
    {
     "data": {
      "application/vnd.jupyter.widget-view+json": {
       "model_id": "3b121706e3c5470288189cf3cd96919a",
       "version_major": 2,
       "version_minor": 0
      },
      "text/plain": [
       "  0%|          | 0/198 [00:00<?, ?it/s]"
      ]
     },
     "metadata": {},
     "output_type": "display_data"
    },
    {
     "name": "stdout",
     "output_type": "stream",
     "text": [
      "Found 1 hypotheses\n",
      "Hypothesis(score=inf, time=197, words=[], state=(0, 28541)) WER:  1.0\n"
     ]
    }
   ],
   "source": [
    "# пробуем разные варианты\n",
    "ASR = BeamSearcher(am2phone_mapping=AM_PHONES, \n",
    "                   graph=OnTheFlyCompose([h_fst, l_fst]),\n",
    "                   beam_size=0)   \n",
    "hyp = ASR.decode(example)\n",
    "print(hyp, \"WER: \", jiwer.wer(example_ref, ' '.join(hyp.words)))\n",
    "\n",
    "# Hypothesis(score=inf, time=197, words=[], state=(0, 28541)) WER:  1.0"
   ]
  },
  {
   "cell_type": "code",
   "execution_count": 87,
   "id": "b8588eab-859f-4b12-9030-e71e0be28573",
   "metadata": {},
   "outputs": [
    {
     "data": {
      "application/vnd.jupyter.widget-view+json": {
       "model_id": "c4e68dc32a4d481fa5af2cb8c0a2719e",
       "version_major": 2,
       "version_minor": 0
      },
      "text/plain": [
       "  0%|          | 0/198 [00:00<?, ?it/s]"
      ]
     },
     "metadata": {},
     "output_type": "display_data"
    },
    {
     "name": "stdout",
     "output_type": "stream",
     "text": [
      "Found 1 hypotheses\n",
      "Hypothesis(score=-634.8072872315479, time=197, words=['she', 'had', 'your', 'dark', 'suit', 'in', 'greasy', 'wash', 'water', 'all', 'year'], state=(0, 0)) WER:  0.09090909090909091\n"
     ]
    }
   ],
   "source": [
    "ASR = BeamSearcher(am2phone_mapping=AM_PHONES, \n",
    "                   graph=OnTheFlyCompose([h_fst, l_fst]),\n",
    "                   beam_size=6)\n",
    "hyp = ASR.decode(example)\n",
    "print(hyp, \"WER: \", jiwer.wer(example_ref, ' '.join(hyp.words)))\n",
    "\n",
    "# Hypothesis(score=-634.8072872315479,\n",
    "# time=197, \n",
    "# words=['she', 'had', 'your', 'dark', 'suit', 'in', 'greasy', 'wash', 'water', 'all', 'year'],\n",
    "# state=(0, 0)) WER:  0.09090909090909091"
   ]
  },
  {
   "cell_type": "code",
   "execution_count": 89,
   "id": "3c37279e-6610-44e7-b43f-ea831ef52d19",
   "metadata": {},
   "outputs": [
    {
     "name": "stderr",
     "output_type": "stream",
     "text": [
      "Loading the LM will be faster if you build a binary file.\n",
      "Reading /Users/anastasiazorkina/Desktop/master_2_year/asr_itmo_practice-master/resources/lab4/3gram.arpa\n",
      "----5---10---15---20---25---30---35---40---45---50---55---60---65---70---75---80---85---90---95--100\n",
      "The ARPA file is missing <unk>.  Substituting log10 probability -100.\n",
      "****************************************************************************************************\n"
     ]
    },
    {
     "data": {
      "application/vnd.jupyter.widget-view+json": {
       "model_id": "5cefd711536941c282547927cebdd002",
       "version_major": 2,
       "version_minor": 0
      },
      "text/plain": [
       "  0%|          | 0/198 [00:00<?, ?it/s]"
      ]
     },
     "metadata": {},
     "output_type": "display_data"
    },
    {
     "name": "stdout",
     "output_type": "stream",
     "text": [
      "Found 1 hypotheses\n",
      "Hypothesis(score=-624.2866933483066, time=197, words=['she', 'had', 'your', 'dark', 'suit', 'in', 'greasy', 'wash', 'water', 'all', 'year'], state=(0, 0, <kenlm.State object at 0x164157ef0>)) WER:  0.09090909090909091\n"
     ]
    }
   ],
   "source": [
    "lm = kenlmLikeWFST(kenlm.LanguageModel('resources/lab4/3gram.arpa'), lmwt_factor=0.2)\n",
    "ASR = BeamSearcher(am2phone_mapping=AM_PHONES, \n",
    "                   graph=OnTheFlyCompose([h_fst, l_fst, lm]),\n",
    "                   beam_size=6)\n",
    "hyp = ASR.decode(example)\n",
    "print(hyp, \"WER: \", jiwer.wer(example_ref, ' '.join(hyp.words)))\n",
    "\n",
    "# Hypothesis(score=-624.2866933483066, \n",
    "# time=197, \n",
    "# words=['she', 'had', 'your', 'dark', 'suit', 'in', 'greasy', 'wash', 'water', 'all', 'year'], \n",
    "# state=(0, 0, <kenlm.State object at 0x7fa93c7c1070>)) WER:  0.09090909090909091"
   ]
  },
  {
   "cell_type": "markdown",
   "id": "81474c81-99af-497a-a1f1-e9b85e8c39d5",
   "metadata": {},
   "source": [
    "### финальное задание\n",
    "Постройте графики зависимости WER на example и времени работы декодирования от таких параметров как: \n",
    "* lmwt_factor\n",
    "* stay_in_silence_penalty\n",
    "* word_insertion_penalty\n",
    "* beam\n",
    "\n",
    "Выберите оптимальные по соотношению WER/time параметры. "
   ]
  },
  {
   "cell_type": "code",
   "execution_count": 94,
   "id": "7e2c70d1",
   "metadata": {},
   "outputs": [],
   "source": [
    "import time"
   ]
  },
  {
   "cell_type": "markdown",
   "id": "f0f9790f",
   "metadata": {},
   "source": [
    "Зависимость от lmwt_factor"
   ]
  },
  {
   "cell_type": "code",
   "execution_count": 126,
   "id": "cad35bb5",
   "metadata": {},
   "outputs": [
    {
     "name": "stderr",
     "output_type": "stream",
     "text": [
      "Loading the LM will be faster if you build a binary file.\n",
      "Reading /Users/anastasiazorkina/Desktop/master_2_year/asr_itmo_practice-master/resources/lab4/3gram.arpa\n",
      "----5---10---15---20---25---30---35---40---45---50---55---60---65---70---75---80---85---90---95--100\n",
      "The ARPA file is missing <unk>.  Substituting log10 probability -100.\n",
      "****************************************************************************************************\n"
     ]
    },
    {
     "data": {
      "application/vnd.jupyter.widget-view+json": {
       "model_id": "6c8a5895c6cd41a59077cdc63bdff955",
       "version_major": 2,
       "version_minor": 0
      },
      "text/plain": [
       "  0%|          | 0/198 [00:00<?, ?it/s]"
      ]
     },
     "metadata": {},
     "output_type": "display_data"
    },
    {
     "name": "stdout",
     "output_type": "stream",
     "text": [
      "Found 3 hypotheses\n"
     ]
    },
    {
     "name": "stderr",
     "output_type": "stream",
     "text": [
      "Loading the LM will be faster if you build a binary file.\n",
      "Reading /Users/anastasiazorkina/Desktop/master_2_year/asr_itmo_practice-master/resources/lab4/3gram.arpa\n",
      "----5---10---15---20---25---30---35---40---45---50---55---60---65---70---75---80---85---90---95--100\n",
      "The ARPA file is missing <unk>.  Substituting log10 probability -100.\n",
      "****************************************************************************************************\n"
     ]
    },
    {
     "data": {
      "application/vnd.jupyter.widget-view+json": {
       "model_id": "a39271dafaec453f906693e2dd9c618f",
       "version_major": 2,
       "version_minor": 0
      },
      "text/plain": [
       "  0%|          | 0/198 [00:00<?, ?it/s]"
      ]
     },
     "metadata": {},
     "output_type": "display_data"
    },
    {
     "name": "stdout",
     "output_type": "stream",
     "text": [
      "Found 2 hypotheses\n"
     ]
    },
    {
     "name": "stderr",
     "output_type": "stream",
     "text": [
      "Loading the LM will be faster if you build a binary file.\n",
      "Reading /Users/anastasiazorkina/Desktop/master_2_year/asr_itmo_practice-master/resources/lab4/3gram.arpa\n",
      "----5---10---15---20---25---30---35---40---45---50---55---60---65---70---75---80---85---90---95--100\n",
      "The ARPA file is missing <unk>.  Substituting log10 probability -100.\n",
      "****************************************************************************************************\n"
     ]
    },
    {
     "data": {
      "application/vnd.jupyter.widget-view+json": {
       "model_id": "b5bb85786e8f450584c91ddaf58fdea4",
       "version_major": 2,
       "version_minor": 0
      },
      "text/plain": [
       "  0%|          | 0/198 [00:00<?, ?it/s]"
      ]
     },
     "metadata": {},
     "output_type": "display_data"
    },
    {
     "name": "stdout",
     "output_type": "stream",
     "text": [
      "Found 1 hypotheses\n"
     ]
    },
    {
     "name": "stderr",
     "output_type": "stream",
     "text": [
      "Loading the LM will be faster if you build a binary file.\n",
      "Reading /Users/anastasiazorkina/Desktop/master_2_year/asr_itmo_practice-master/resources/lab4/3gram.arpa\n",
      "----5---10---15---20---25---30---35---40---45---50---55---60---65---70---75---80---85---90---95--100\n",
      "The ARPA file is missing <unk>.  Substituting log10 probability -100.\n",
      "****************************************************************************************************\n"
     ]
    },
    {
     "data": {
      "application/vnd.jupyter.widget-view+json": {
       "model_id": "fa7a8463dcef4f8f8f5e1a4255d05ab5",
       "version_major": 2,
       "version_minor": 0
      },
      "text/plain": [
       "  0%|          | 0/198 [00:00<?, ?it/s]"
      ]
     },
     "metadata": {},
     "output_type": "display_data"
    },
    {
     "name": "stdout",
     "output_type": "stream",
     "text": [
      "Found 1 hypotheses\n"
     ]
    },
    {
     "name": "stderr",
     "output_type": "stream",
     "text": [
      "Loading the LM will be faster if you build a binary file.\n",
      "Reading /Users/anastasiazorkina/Desktop/master_2_year/asr_itmo_practice-master/resources/lab4/3gram.arpa\n",
      "----5---10---15---20---25---30---35---40---45---50---55---60---65---70---75---80---85---90---95--100\n",
      "The ARPA file is missing <unk>.  Substituting log10 probability -100.\n",
      "****************************************************************************************************\n"
     ]
    },
    {
     "data": {
      "application/vnd.jupyter.widget-view+json": {
       "model_id": "380d07be70194984a25b7fc9776f6af6",
       "version_major": 2,
       "version_minor": 0
      },
      "text/plain": [
       "  0%|          | 0/198 [00:00<?, ?it/s]"
      ]
     },
     "metadata": {},
     "output_type": "display_data"
    },
    {
     "name": "stdout",
     "output_type": "stream",
     "text": [
      "Found 1 hypotheses\n"
     ]
    },
    {
     "name": "stderr",
     "output_type": "stream",
     "text": [
      "Loading the LM will be faster if you build a binary file.\n",
      "Reading /Users/anastasiazorkina/Desktop/master_2_year/asr_itmo_practice-master/resources/lab4/3gram.arpa\n",
      "----5---10---15---20---25---30---35---40---45---50---55---60---65---70---75---80---85---90---95--100\n",
      "The ARPA file is missing <unk>.  Substituting log10 probability -100.\n",
      "****************************************************************************************************\n"
     ]
    },
    {
     "data": {
      "application/vnd.jupyter.widget-view+json": {
       "model_id": "31c94680af784df4a34bb2df76e6d515",
       "version_major": 2,
       "version_minor": 0
      },
      "text/plain": [
       "  0%|          | 0/198 [00:00<?, ?it/s]"
      ]
     },
     "metadata": {},
     "output_type": "display_data"
    },
    {
     "name": "stdout",
     "output_type": "stream",
     "text": [
      "Found 1 hypotheses\n"
     ]
    },
    {
     "name": "stderr",
     "output_type": "stream",
     "text": [
      "Loading the LM will be faster if you build a binary file.\n",
      "Reading /Users/anastasiazorkina/Desktop/master_2_year/asr_itmo_practice-master/resources/lab4/3gram.arpa\n",
      "----5---10---15---20---25---30---35---40---45---50---55---60---65---70---75---80---85---90---95--100\n",
      "The ARPA file is missing <unk>.  Substituting log10 probability -100.\n",
      "****************************************************************************************************\n"
     ]
    },
    {
     "data": {
      "application/vnd.jupyter.widget-view+json": {
       "model_id": "79122783eddb4491ba4ddce4d9c0828f",
       "version_major": 2,
       "version_minor": 0
      },
      "text/plain": [
       "  0%|          | 0/198 [00:00<?, ?it/s]"
      ]
     },
     "metadata": {},
     "output_type": "display_data"
    },
    {
     "name": "stdout",
     "output_type": "stream",
     "text": [
      "Found 2 hypotheses\n"
     ]
    },
    {
     "name": "stderr",
     "output_type": "stream",
     "text": [
      "Loading the LM will be faster if you build a binary file.\n",
      "Reading /Users/anastasiazorkina/Desktop/master_2_year/asr_itmo_practice-master/resources/lab4/3gram.arpa\n",
      "----5---10---15---20---25---30---35---40---45---50---55---60---65---70---75---80---85---90---95--100\n",
      "The ARPA file is missing <unk>.  Substituting log10 probability -100.\n",
      "****************************************************************************************************\n"
     ]
    },
    {
     "data": {
      "application/vnd.jupyter.widget-view+json": {
       "model_id": "5cecb070729743f78577f8aca58afb58",
       "version_major": 2,
       "version_minor": 0
      },
      "text/plain": [
       "  0%|          | 0/198 [00:00<?, ?it/s]"
      ]
     },
     "metadata": {},
     "output_type": "display_data"
    },
    {
     "name": "stdout",
     "output_type": "stream",
     "text": [
      "Found 2 hypotheses\n"
     ]
    },
    {
     "name": "stderr",
     "output_type": "stream",
     "text": [
      "Loading the LM will be faster if you build a binary file.\n",
      "Reading /Users/anastasiazorkina/Desktop/master_2_year/asr_itmo_practice-master/resources/lab4/3gram.arpa\n",
      "----5---10---15---20---25---30---35---40---45---50---55---60---65---70---75---80---85---90---95--100\n",
      "The ARPA file is missing <unk>.  Substituting log10 probability -100.\n",
      "****************************************************************************************************\n"
     ]
    },
    {
     "data": {
      "application/vnd.jupyter.widget-view+json": {
       "model_id": "c0317b9cd3b2443896337b2c23da3a30",
       "version_major": 2,
       "version_minor": 0
      },
      "text/plain": [
       "  0%|          | 0/198 [00:00<?, ?it/s]"
      ]
     },
     "metadata": {},
     "output_type": "display_data"
    },
    {
     "name": "stdout",
     "output_type": "stream",
     "text": [
      "Found 2 hypotheses\n"
     ]
    },
    {
     "name": "stderr",
     "output_type": "stream",
     "text": [
      "Loading the LM will be faster if you build a binary file.\n",
      "Reading /Users/anastasiazorkina/Desktop/master_2_year/asr_itmo_practice-master/resources/lab4/3gram.arpa\n",
      "----5---10---15---20---25---30---35---40---45---50---55---60---65---70---75---80---85---90---95--100\n",
      "The ARPA file is missing <unk>.  Substituting log10 probability -100.\n",
      "****************************************************************************************************\n"
     ]
    },
    {
     "data": {
      "application/vnd.jupyter.widget-view+json": {
       "model_id": "9bcda115b92c4ed38852466c29be5715",
       "version_major": 2,
       "version_minor": 0
      },
      "text/plain": [
       "  0%|          | 0/198 [00:00<?, ?it/s]"
      ]
     },
     "metadata": {},
     "output_type": "display_data"
    },
    {
     "name": "stdout",
     "output_type": "stream",
     "text": [
      "Found 2 hypotheses\n"
     ]
    }
   ],
   "source": [
    "lmwt_factors = np.linspace(0.0, 1.0, 10)\n",
    "stay_in_silence_penalty = 0.01\n",
    "word_insertion_penalty = 0.5\n",
    "\n",
    "wer = np.zeros((len(lmwt_factors)))\n",
    "decode_time = np.zeros((len(lmwt_factors)))\n",
    "l_fst = create_Lwfst_from_file(stay_in_silence_penalty=stay_in_silence_penalty, word_insertion_penalty=word_insertion_penalty)\n",
    "\n",
    "for i, lmwt_factor in enumerate(lmwt_factors):\n",
    "    \n",
    "    lm = kenlmLikeWFST(kenlm.LanguageModel('resources/lab4/3gram.arpa'), lmwt_factor=lmwt_factor)\n",
    "    ASR = BeamSearcher(am2phone_mapping=AM_PHONES, graph=OnTheFlyCompose([h_fst, l_fst, lm]), beam_size=6)    \n",
    "    cur_start = time.time()\n",
    "    hyp = ASR.decode(example)\n",
    "    cur_decode_time = time.time() - cur_start\n",
    "    cur_wer = jiwer.wer(example_ref, ' '.join(hyp.words))\n",
    "    wer[i] = cur_wer \n",
    "    decode_time[i] = cur_decode_time"
   ]
  },
  {
   "cell_type": "code",
   "execution_count": 127,
   "id": "5ab0815f",
   "metadata": {},
   "outputs": [
    {
     "data": {
      "image/png": "[encoded data removed]",
      "text/plain": [
       "<Figure size 2000x1000 with 2 Axes>"
      ]
     },
     "metadata": {},
     "output_type": "display_data"
    }
   ],
   "source": [
    "fig, ax = plt.subplots(1, 2)\n",
    "fig.set_figwidth(20)\n",
    "fig.set_figheight(10)\n",
    "ax[0].plot(lmwt_factors, wer, marker='o')\n",
    "ax[0].set_title(\"WER(lmwt_factor)\")\n",
    "ax[0].grid()\n",
    "ax[1].plot(lmwt_factors, decode_time, marker='o')\n",
    "ax[1].set_title(\"Decode time(lmwt_factor)\")\n",
    "ax[1].grid()\n",
    "\n",
    "\n",
    "plt.show()"
   ]
  },
  {
   "cell_type": "markdown",
   "id": "6ee18988",
   "metadata": {},
   "source": [
    "Зависимость от lmwt_factor, но надо поближе посмотреть промежуток до 0.6"
   ]
  },
  {
   "cell_type": "code",
   "execution_count": 128,
   "id": "7d20e693-bcb3-4937-907a-9c1546795a74",
   "metadata": {},
   "outputs": [
    {
     "name": "stderr",
     "output_type": "stream",
     "text": [
      "Loading the LM will be faster if you build a binary file.\n",
      "Reading /Users/anastasiazorkina/Desktop/master_2_year/asr_itmo_practice-master/resources/lab4/3gram.arpa\n",
      "----5---10---15---20---25---30---35---40---45---50---55---60---65---70---75---80---85---90---95--100\n",
      "The ARPA file is missing <unk>.  Substituting log10 probability -100.\n",
      "****************************************************************************************************\n"
     ]
    },
    {
     "data": {
      "application/vnd.jupyter.widget-view+json": {
       "model_id": "b3514239650b4ee99e3e395d030138a4",
       "version_major": 2,
       "version_minor": 0
      },
      "text/plain": [
       "  0%|          | 0/198 [00:00<?, ?it/s]"
      ]
     },
     "metadata": {},
     "output_type": "display_data"
    },
    {
     "name": "stdout",
     "output_type": "stream",
     "text": [
      "Found 3 hypotheses\n"
     ]
    },
    {
     "name": "stderr",
     "output_type": "stream",
     "text": [
      "Loading the LM will be faster if you build a binary file.\n",
      "Reading /Users/anastasiazorkina/Desktop/master_2_year/asr_itmo_practice-master/resources/lab4/3gram.arpa\n",
      "----5---10---15---20---25---30---35---40---45---50---55---60---65---70---75---80---85---90---95--100\n",
      "The ARPA file is missing <unk>.  Substituting log10 probability -100.\n",
      "****************************************************************************************************\n"
     ]
    },
    {
     "data": {
      "application/vnd.jupyter.widget-view+json": {
       "model_id": "c9432fca40214a4ba471e910b9c461d8",
       "version_major": 2,
       "version_minor": 0
      },
      "text/plain": [
       "  0%|          | 0/198 [00:00<?, ?it/s]"
      ]
     },
     "metadata": {},
     "output_type": "display_data"
    },
    {
     "name": "stdout",
     "output_type": "stream",
     "text": [
      "Found 2 hypotheses\n"
     ]
    },
    {
     "name": "stderr",
     "output_type": "stream",
     "text": [
      "Loading the LM will be faster if you build a binary file.\n",
      "Reading /Users/anastasiazorkina/Desktop/master_2_year/asr_itmo_practice-master/resources/lab4/3gram.arpa\n",
      "----5---10---15---20---25---30---35---40---45---50---55---60---65---70---75---80---85---90---95--100\n",
      "The ARPA file is missing <unk>.  Substituting log10 probability -100.\n",
      "****************************************************************************************************\n"
     ]
    },
    {
     "data": {
      "application/vnd.jupyter.widget-view+json": {
       "model_id": "379fe21d5243485cb143b6328f5c276e",
       "version_major": 2,
       "version_minor": 0
      },
      "text/plain": [
       "  0%|          | 0/198 [00:00<?, ?it/s]"
      ]
     },
     "metadata": {},
     "output_type": "display_data"
    },
    {
     "name": "stdout",
     "output_type": "stream",
     "text": [
      "Found 1 hypotheses\n"
     ]
    },
    {
     "name": "stderr",
     "output_type": "stream",
     "text": [
      "Loading the LM will be faster if you build a binary file.\n",
      "Reading /Users/anastasiazorkina/Desktop/master_2_year/asr_itmo_practice-master/resources/lab4/3gram.arpa\n",
      "----5---10---15---20---25---30---35---40---45---50---55---60---65---70---75---80---85---90---95--100\n",
      "The ARPA file is missing <unk>.  Substituting log10 probability -100.\n",
      "****************************************************************************************************\n"
     ]
    },
    {
     "data": {
      "application/vnd.jupyter.widget-view+json": {
       "model_id": "0df89db52b21456ca577fdd3597a96b0",
       "version_major": 2,
       "version_minor": 0
      },
      "text/plain": [
       "  0%|          | 0/198 [00:00<?, ?it/s]"
      ]
     },
     "metadata": {},
     "output_type": "display_data"
    },
    {
     "name": "stdout",
     "output_type": "stream",
     "text": [
      "Found 1 hypotheses\n"
     ]
    },
    {
     "name": "stderr",
     "output_type": "stream",
     "text": [
      "Loading the LM will be faster if you build a binary file.\n",
      "Reading /Users/anastasiazorkina/Desktop/master_2_year/asr_itmo_practice-master/resources/lab4/3gram.arpa\n",
      "----5---10---15---20---25---30---35---40---45---50---55---60---65---70---75---80---85---90---95--100\n",
      "The ARPA file is missing <unk>.  Substituting log10 probability -100.\n",
      "****************************************************************************************************\n"
     ]
    },
    {
     "data": {
      "application/vnd.jupyter.widget-view+json": {
       "model_id": "d292deb747d44ca699971fed44455585",
       "version_major": 2,
       "version_minor": 0
      },
      "text/plain": [
       "  0%|          | 0/198 [00:00<?, ?it/s]"
      ]
     },
     "metadata": {},
     "output_type": "display_data"
    },
    {
     "name": "stdout",
     "output_type": "stream",
     "text": [
      "Found 1 hypotheses\n"
     ]
    },
    {
     "name": "stderr",
     "output_type": "stream",
     "text": [
      "Loading the LM will be faster if you build a binary file.\n",
      "Reading /Users/anastasiazorkina/Desktop/master_2_year/asr_itmo_practice-master/resources/lab4/3gram.arpa\n",
      "----5---10---15---20---25---30---35---40---45---50---55---60---65---70---75---80---85---90---95--100\n",
      "The ARPA file is missing <unk>.  Substituting log10 probability -100.\n",
      "****************************************************************************************************\n"
     ]
    },
    {
     "data": {
      "application/vnd.jupyter.widget-view+json": {
       "model_id": "9a7979dd884843b4a4bf49653b525cad",
       "version_major": 2,
       "version_minor": 0
      },
      "text/plain": [
       "  0%|          | 0/198 [00:00<?, ?it/s]"
      ]
     },
     "metadata": {},
     "output_type": "display_data"
    },
    {
     "name": "stdout",
     "output_type": "stream",
     "text": [
      "Found 1 hypotheses\n"
     ]
    },
    {
     "name": "stderr",
     "output_type": "stream",
     "text": [
      "Loading the LM will be faster if you build a binary file.\n",
      "Reading /Users/anastasiazorkina/Desktop/master_2_year/asr_itmo_practice-master/resources/lab4/3gram.arpa\n",
      "----5---10---15---20---25---30---35---40---45---50---55---60---65---70---75---80---85---90---95--100\n",
      "The ARPA file is missing <unk>.  Substituting log10 probability -100.\n",
      "****************************************************************************************************\n"
     ]
    },
    {
     "data": {
      "application/vnd.jupyter.widget-view+json": {
       "model_id": "ac38a57c53594eb8a00e8a8c7d9a1d45",
       "version_major": 2,
       "version_minor": 0
      },
      "text/plain": [
       "  0%|          | 0/198 [00:00<?, ?it/s]"
      ]
     },
     "metadata": {},
     "output_type": "display_data"
    },
    {
     "name": "stdout",
     "output_type": "stream",
     "text": [
      "Found 1 hypotheses\n"
     ]
    },
    {
     "name": "stderr",
     "output_type": "stream",
     "text": [
      "Loading the LM will be faster if you build a binary file.\n",
      "Reading /Users/anastasiazorkina/Desktop/master_2_year/asr_itmo_practice-master/resources/lab4/3gram.arpa\n",
      "----5---10---15---20---25---30---35---40---45---50---55---60---65---70---75---80---85---90---95--100\n",
      "The ARPA file is missing <unk>.  Substituting log10 probability -100.\n",
      "****************************************************************************************************\n"
     ]
    },
    {
     "data": {
      "application/vnd.jupyter.widget-view+json": {
       "model_id": "4edb59b60eac4bdd8111c5389ce35bd9",
       "version_major": 2,
       "version_minor": 0
      },
      "text/plain": [
       "  0%|          | 0/198 [00:00<?, ?it/s]"
      ]
     },
     "metadata": {},
     "output_type": "display_data"
    },
    {
     "name": "stdout",
     "output_type": "stream",
     "text": [
      "Found 1 hypotheses\n"
     ]
    },
    {
     "name": "stderr",
     "output_type": "stream",
     "text": [
      "Loading the LM will be faster if you build a binary file.\n",
      "Reading /Users/anastasiazorkina/Desktop/master_2_year/asr_itmo_practice-master/resources/lab4/3gram.arpa\n",
      "----5---10---15---20---25---30---35---40---45---50---55---60---65---70---75---80---85---90---95--100\n",
      "The ARPA file is missing <unk>.  Substituting log10 probability -100.\n",
      "****************************************************************************************************\n"
     ]
    },
    {
     "data": {
      "application/vnd.jupyter.widget-view+json": {
       "model_id": "937c403872ac47839dcc1480d2dd7991",
       "version_major": 2,
       "version_minor": 0
      },
      "text/plain": [
       "  0%|          | 0/198 [00:00<?, ?it/s]"
      ]
     },
     "metadata": {},
     "output_type": "display_data"
    },
    {
     "name": "stdout",
     "output_type": "stream",
     "text": [
      "Found 1 hypotheses\n"
     ]
    },
    {
     "name": "stderr",
     "output_type": "stream",
     "text": [
      "Loading the LM will be faster if you build a binary file.\n",
      "Reading /Users/anastasiazorkina/Desktop/master_2_year/asr_itmo_practice-master/resources/lab4/3gram.arpa\n",
      "----5---10---15---20---25---30---35---40---45---50---55---60---65---70---75---80---85---90---95--100\n",
      "The ARPA file is missing <unk>.  Substituting log10 probability -100.\n",
      "****************************************************************************************************\n"
     ]
    },
    {
     "data": {
      "application/vnd.jupyter.widget-view+json": {
       "model_id": "bdc32959efd94ae89360110b87b8b88c",
       "version_major": 2,
       "version_minor": 0
      },
      "text/plain": [
       "  0%|          | 0/198 [00:00<?, ?it/s]"
      ]
     },
     "metadata": {},
     "output_type": "display_data"
    },
    {
     "name": "stdout",
     "output_type": "stream",
     "text": [
      "Found 1 hypotheses\n"
     ]
    }
   ],
   "source": [
    "lmwt_factors = np.linspace(0.0, 0.6, 10)\n",
    "stay_in_silence_penalty = 0.01\n",
    "word_insertion_penalty = 0.5\n",
    "\n",
    "wer = np.zeros((len(lmwt_factors)))\n",
    "decode_time = np.zeros((len(lmwt_factors)))\n",
    "l_fst = create_Lwfst_from_file(stay_in_silence_penalty=stay_in_silence_penalty, word_insertion_penalty=word_insertion_penalty)\n",
    "\n",
    "for i, lmwt_factor in enumerate(lmwt_factors):\n",
    "    \n",
    "    lm = kenlmLikeWFST(kenlm.LanguageModel('resources/lab4/3gram.arpa'), lmwt_factor=lmwt_factor)\n",
    "    ASR = BeamSearcher(am2phone_mapping=AM_PHONES, graph=OnTheFlyCompose([h_fst, l_fst, lm]), beam_size=6)    \n",
    "    cur_start = time.time()\n",
    "    hyp = ASR.decode(example)\n",
    "    cur_decode_time = time.time() - cur_start\n",
    "    cur_wer = jiwer.wer(example_ref, ' '.join(hyp.words))\n",
    "    wer[i] = cur_wer \n",
    "    decode_time[i] = cur_decode_time"
   ]
  },
  {
   "cell_type": "code",
   "execution_count": 129,
   "id": "fe246f45",
   "metadata": {},
   "outputs": [
    {
     "data": {
      "image/png": "[encoded data removed]",
      "text/plain": [
       "<Figure size 2000x1000 with 2 Axes>"
      ]
     },
     "metadata": {},
     "output_type": "display_data"
    }
   ],
   "source": [
    "fig, ax = plt.subplots(1, 2)\n",
    "fig.set_figwidth(20)\n",
    "fig.set_figheight(10)\n",
    "ax[0].plot(lmwt_factors, wer, marker='o')\n",
    "ax[0].set_title(\"WER(lmwt_factor)\")\n",
    "ax[0].grid()\n",
    "ax[1].plot(lmwt_factors, decode_time, marker='o')\n",
    "ax[1].set_title(\"Decode time(lmwt_factor)\")\n",
    "ax[1].grid()\n",
    "\n",
    "\n",
    "plt.show()"
   ]
  },
  {
   "cell_type": "markdown",
   "id": "7e5a9460",
   "metadata": {},
   "source": [
    "Зависимость от stay_in_silence_penalty"
   ]
  },
  {
   "cell_type": "code",
   "execution_count": 149,
   "id": "7a791aad",
   "metadata": {},
   "outputs": [
    {
     "name": "stderr",
     "output_type": "stream",
     "text": [
      "Loading the LM will be faster if you build a binary file.\n",
      "Reading /Users/anastasiazorkina/Desktop/master_2_year/asr_itmo_practice-master/resources/lab4/3gram.arpa\n",
      "----5---10---15---20---25---30---35---40---45---50---55---60---65---70---75---80---85---90---95--100\n",
      "The ARPA file is missing <unk>.  Substituting log10 probability -100.\n",
      "****************************************************************************************************\n"
     ]
    },
    {
     "data": {
      "application/vnd.jupyter.widget-view+json": {
       "model_id": "c4fe217e48284ab2b94a69d8f8988fc7",
       "version_major": 2,
       "version_minor": 0
      },
      "text/plain": [
       "  0%|          | 0/198 [00:00<?, ?it/s]"
      ]
     },
     "metadata": {},
     "output_type": "display_data"
    },
    {
     "name": "stdout",
     "output_type": "stream",
     "text": [
      "Found 1 hypotheses\n"
     ]
    },
    {
     "data": {
      "application/vnd.jupyter.widget-view+json": {
       "model_id": "5ce2dd157e994c35b0b1242691af63fa",
       "version_major": 2,
       "version_minor": 0
      },
      "text/plain": [
       "  0%|          | 0/198 [00:00<?, ?it/s]"
      ]
     },
     "metadata": {},
     "output_type": "display_data"
    },
    {
     "name": "stdout",
     "output_type": "stream",
     "text": [
      "Found 1 hypotheses\n"
     ]
    },
    {
     "data": {
      "application/vnd.jupyter.widget-view+json": {
       "model_id": "97ddffd9fea94d72974e69fb4e54f5f5",
       "version_major": 2,
       "version_minor": 0
      },
      "text/plain": [
       "  0%|          | 0/198 [00:00<?, ?it/s]"
      ]
     },
     "metadata": {},
     "output_type": "display_data"
    },
    {
     "name": "stdout",
     "output_type": "stream",
     "text": [
      "Found 1 hypotheses\n"
     ]
    },
    {
     "data": {
      "application/vnd.jupyter.widget-view+json": {
       "model_id": "617fa6944e964c10b9fd622640e9d206",
       "version_major": 2,
       "version_minor": 0
      },
      "text/plain": [
       "  0%|          | 0/198 [00:00<?, ?it/s]"
      ]
     },
     "metadata": {},
     "output_type": "display_data"
    },
    {
     "name": "stdout",
     "output_type": "stream",
     "text": [
      "Found 1 hypotheses\n"
     ]
    },
    {
     "data": {
      "application/vnd.jupyter.widget-view+json": {
       "model_id": "2c7c953c2a344e81aa17eae1071171c6",
       "version_major": 2,
       "version_minor": 0
      },
      "text/plain": [
       "  0%|          | 0/198 [00:00<?, ?it/s]"
      ]
     },
     "metadata": {},
     "output_type": "display_data"
    },
    {
     "name": "stdout",
     "output_type": "stream",
     "text": [
      "Found 1 hypotheses\n"
     ]
    },
    {
     "data": {
      "application/vnd.jupyter.widget-view+json": {
       "model_id": "098b69ac3773458d990d0c562bacb5a8",
       "version_major": 2,
       "version_minor": 0
      },
      "text/plain": [
       "  0%|          | 0/198 [00:00<?, ?it/s]"
      ]
     },
     "metadata": {},
     "output_type": "display_data"
    },
    {
     "name": "stdout",
     "output_type": "stream",
     "text": [
      "Found 1 hypotheses\n"
     ]
    },
    {
     "data": {
      "application/vnd.jupyter.widget-view+json": {
       "model_id": "08dea6af64fb440f8985ff679b1d1183",
       "version_major": 2,
       "version_minor": 0
      },
      "text/plain": [
       "  0%|          | 0/198 [00:00<?, ?it/s]"
      ]
     },
     "metadata": {},
     "output_type": "display_data"
    },
    {
     "name": "stdout",
     "output_type": "stream",
     "text": [
      "Found 1 hypotheses\n"
     ]
    },
    {
     "data": {
      "application/vnd.jupyter.widget-view+json": {
       "model_id": "f9353650896b4ade839ae72f58ec1848",
       "version_major": 2,
       "version_minor": 0
      },
      "text/plain": [
       "  0%|          | 0/198 [00:00<?, ?it/s]"
      ]
     },
     "metadata": {},
     "output_type": "display_data"
    },
    {
     "name": "stdout",
     "output_type": "stream",
     "text": [
      "Found 1 hypotheses\n"
     ]
    },
    {
     "data": {
      "application/vnd.jupyter.widget-view+json": {
       "model_id": "c1988505b94a401bba8e3959f1d18a0e",
       "version_major": 2,
       "version_minor": 0
      },
      "text/plain": [
       "  0%|          | 0/198 [00:00<?, ?it/s]"
      ]
     },
     "metadata": {},
     "output_type": "display_data"
    },
    {
     "name": "stdout",
     "output_type": "stream",
     "text": [
      "Found 1 hypotheses\n"
     ]
    },
    {
     "data": {
      "application/vnd.jupyter.widget-view+json": {
       "model_id": "09d8251c7731489bb61dddfab5b3c505",
       "version_major": 2,
       "version_minor": 0
      },
      "text/plain": [
       "  0%|          | 0/198 [00:00<?, ?it/s]"
      ]
     },
     "metadata": {},
     "output_type": "display_data"
    },
    {
     "name": "stdout",
     "output_type": "stream",
     "text": [
      "Found 1 hypotheses\n"
     ]
    }
   ],
   "source": [
    "lmwt_factors = 0.6 #beast from prev step according to min time and min wer\n",
    "stay_in_silence_penalty = np.linspace(0.0, 1.0, 10)\n",
    "word_insertion_penalty = 0.5\n",
    "\n",
    "wer = np.zeros((len(stay_in_silence_penalty)))\n",
    "decode_time = np.zeros((len(stay_in_silence_penalty)))\n",
    "lm = kenlmLikeWFST(kenlm.LanguageModel('resources/lab4/3gram.arpa'), lmwt_factor=lmwt_factor)\n",
    "\n",
    "for i, s_p in enumerate(stay_in_silence_penalty):\n",
    "    \n",
    "    l_fst = create_Lwfst_from_file(stay_in_silence_penalty=s_p, word_insertion_penalty=word_insertion_penalty)\n",
    "    ASR = BeamSearcher(am2phone_mapping=AM_PHONES, graph=OnTheFlyCompose([h_fst, l_fst, lm]), beam_size=6)    \n",
    "    cur_start = time.time()\n",
    "    hyp = ASR.decode(example)\n",
    "    cur_decode_time = time.time() - cur_start\n",
    "    cur_wer = jiwer.wer(example_ref, ' '.join(hyp.words))\n",
    "    wer[i] = cur_wer \n",
    "    decode_time[i] = cur_decode_time"
   ]
  },
  {
   "cell_type": "code",
   "execution_count": 151,
   "id": "9a5fe872",
   "metadata": {},
   "outputs": [
    {
     "data": {
      "image/png": "[encoded data removed]",
      "text/plain": [
       "<Figure size 2000x1000 with 2 Axes>"
      ]
     },
     "metadata": {},
     "output_type": "display_data"
    }
   ],
   "source": [
    "fig, ax = plt.subplots(1, 2)\n",
    "fig.set_figwidth(20)\n",
    "fig.set_figheight(10)\n",
    "ax[0].plot(stay_in_silence_penalty, wer, marker='o')\n",
    "ax[0].set_title(\"WER(stay_in_silence_penalty)\")\n",
    "ax[0].grid()\n",
    "ax[1].plot(stay_in_silence_penalty, decode_time, marker='o')\n",
    "ax[1].set_title(\"Decode time(stay_in_silence_penalty)\")\n",
    "ax[1].grid()\n",
    "\n",
    "\n",
    "plt.show()"
   ]
  },
  {
   "cell_type": "code",
   "execution_count": 152,
   "id": "1fbddabc",
   "metadata": {},
   "outputs": [
    {
     "data": {
      "text/plain": [
       "array([0.        , 0.11111111, 0.22222222, 0.33333333, 0.44444444,\n",
       "       0.55555556, 0.66666667, 0.77777778, 0.88888889, 1.        ])"
      ]
     },
     "execution_count": 152,
     "metadata": {},
     "output_type": "execute_result"
    }
   ],
   "source": [
    "stay_in_silence_penalty"
   ]
  },
  {
   "cell_type": "markdown",
   "id": "dcfa965d",
   "metadata": {},
   "source": [
    "Зависимость от word_insertion_penalty"
   ]
  },
  {
   "cell_type": "code",
   "execution_count": 153,
   "id": "fcdfb2a6",
   "metadata": {},
   "outputs": [
    {
     "name": "stderr",
     "output_type": "stream",
     "text": [
      "Loading the LM will be faster if you build a binary file.\n",
      "Reading /Users/anastasiazorkina/Desktop/master_2_year/asr_itmo_practice-master/resources/lab4/3gram.arpa\n",
      "----5---10---15---20---25---30---35---40---45---50---55---60---65---70---75---80---85---90---95--100\n",
      "The ARPA file is missing <unk>.  Substituting log10 probability -100.\n",
      "****************************************************************************************************\n"
     ]
    },
    {
     "data": {
      "application/vnd.jupyter.widget-view+json": {
       "model_id": "bfb549bc8a4947bea9b3f4a732ccaeba",
       "version_major": 2,
       "version_minor": 0
      },
      "text/plain": [
       "  0%|          | 0/198 [00:00<?, ?it/s]"
      ]
     },
     "metadata": {},
     "output_type": "display_data"
    },
    {
     "name": "stdout",
     "output_type": "stream",
     "text": [
      "Found 1 hypotheses\n"
     ]
    },
    {
     "data": {
      "application/vnd.jupyter.widget-view+json": {
       "model_id": "25cc673216b7479898d090e84244119e",
       "version_major": 2,
       "version_minor": 0
      },
      "text/plain": [
       "  0%|          | 0/198 [00:00<?, ?it/s]"
      ]
     },
     "metadata": {},
     "output_type": "display_data"
    },
    {
     "name": "stdout",
     "output_type": "stream",
     "text": [
      "Found 1 hypotheses\n"
     ]
    },
    {
     "data": {
      "application/vnd.jupyter.widget-view+json": {
       "model_id": "c2def5af72da4417b7163b2778824d49",
       "version_major": 2,
       "version_minor": 0
      },
      "text/plain": [
       "  0%|          | 0/198 [00:00<?, ?it/s]"
      ]
     },
     "metadata": {},
     "output_type": "display_data"
    },
    {
     "name": "stdout",
     "output_type": "stream",
     "text": [
      "Found 1 hypotheses\n"
     ]
    },
    {
     "data": {
      "application/vnd.jupyter.widget-view+json": {
       "model_id": "0d386ee6fc7c4fa8b5d0865c0919f7b9",
       "version_major": 2,
       "version_minor": 0
      },
      "text/plain": [
       "  0%|          | 0/198 [00:00<?, ?it/s]"
      ]
     },
     "metadata": {},
     "output_type": "display_data"
    },
    {
     "name": "stdout",
     "output_type": "stream",
     "text": [
      "Found 1 hypotheses\n"
     ]
    },
    {
     "data": {
      "application/vnd.jupyter.widget-view+json": {
       "model_id": "e45d81b8c9814a5285a809b3bd0d8c82",
       "version_major": 2,
       "version_minor": 0
      },
      "text/plain": [
       "  0%|          | 0/198 [00:00<?, ?it/s]"
      ]
     },
     "metadata": {},
     "output_type": "display_data"
    },
    {
     "name": "stdout",
     "output_type": "stream",
     "text": [
      "Found 1 hypotheses\n"
     ]
    },
    {
     "data": {
      "application/vnd.jupyter.widget-view+json": {
       "model_id": "44f3eb2a0d234c2a94eb7197efb0ed38",
       "version_major": 2,
       "version_minor": 0
      },
      "text/plain": [
       "  0%|          | 0/198 [00:00<?, ?it/s]"
      ]
     },
     "metadata": {},
     "output_type": "display_data"
    },
    {
     "name": "stdout",
     "output_type": "stream",
     "text": [
      "Found 1 hypotheses\n"
     ]
    },
    {
     "data": {
      "application/vnd.jupyter.widget-view+json": {
       "model_id": "ad81865b6a0b4230aac7d5dda9d455b8",
       "version_major": 2,
       "version_minor": 0
      },
      "text/plain": [
       "  0%|          | 0/198 [00:00<?, ?it/s]"
      ]
     },
     "metadata": {},
     "output_type": "display_data"
    },
    {
     "name": "stdout",
     "output_type": "stream",
     "text": [
      "Found 1 hypotheses\n"
     ]
    },
    {
     "data": {
      "application/vnd.jupyter.widget-view+json": {
       "model_id": "b36084a0cdb14999a68a8cb2c718a819",
       "version_major": 2,
       "version_minor": 0
      },
      "text/plain": [
       "  0%|          | 0/198 [00:00<?, ?it/s]"
      ]
     },
     "metadata": {},
     "output_type": "display_data"
    },
    {
     "name": "stdout",
     "output_type": "stream",
     "text": [
      "Found 1 hypotheses\n"
     ]
    },
    {
     "data": {
      "application/vnd.jupyter.widget-view+json": {
       "model_id": "9b4ffffb599442b8a7897719613e4aab",
       "version_major": 2,
       "version_minor": 0
      },
      "text/plain": [
       "  0%|          | 0/198 [00:00<?, ?it/s]"
      ]
     },
     "metadata": {},
     "output_type": "display_data"
    },
    {
     "name": "stdout",
     "output_type": "stream",
     "text": [
      "Found 2 hypotheses\n"
     ]
    },
    {
     "data": {
      "application/vnd.jupyter.widget-view+json": {
       "model_id": "7039cd9ec3a04251a04c3e9d48d19c71",
       "version_major": 2,
       "version_minor": 0
      },
      "text/plain": [
       "  0%|          | 0/198 [00:00<?, ?it/s]"
      ]
     },
     "metadata": {},
     "output_type": "display_data"
    },
    {
     "name": "stdout",
     "output_type": "stream",
     "text": [
      "Found 2 hypotheses\n"
     ]
    }
   ],
   "source": [
    "lmwt_factors = 0.6 #beast from prev step according to min time and min wer\n",
    "stay_in_silence_penalty = 0.56 #beast from prev step according to min time and min wer\n",
    "word_insertion_penalty = np.linspace(0.01, 1.0, 10)\n",
    "\n",
    "wer = np.zeros((len(word_insertion_penalty)))\n",
    "decode_time = np.zeros((len(word_insertion_penalty)))\n",
    "lm = kenlmLikeWFST(kenlm.LanguageModel('resources/lab4/3gram.arpa'), lmwt_factor=lmwt_factor)\n",
    "\n",
    "\n",
    "for i, w_p in enumerate(word_insertion_penalty):\n",
    "    \n",
    "    l_fst = create_Lwfst_from_file(stay_in_silence_penalty=stay_in_silence_penalty, word_insertion_penalty=w_p)\n",
    "    ASR = BeamSearcher(am2phone_mapping=AM_PHONES, graph=OnTheFlyCompose([h_fst, l_fst, lm]), beam_size=6)    \n",
    "    cur_start = time.time()\n",
    "    hyp = ASR.decode(example)\n",
    "    cur_decode_time = time.time() - cur_start\n",
    "    cur_wer = jiwer.wer(example_ref, ' '.join(hyp.words))\n",
    "    wer[i] = cur_wer \n",
    "    decode_time[i] = cur_decode_time"
   ]
  },
  {
   "cell_type": "code",
   "execution_count": 154,
   "id": "acd2989b",
   "metadata": {},
   "outputs": [
    {
     "data": {
      "image/png": "[encoded data removed]",
      "text/plain": [
       "<Figure size 2000x1000 with 2 Axes>"
      ]
     },
     "metadata": {},
     "output_type": "display_data"
    }
   ],
   "source": [
    "fig, ax = plt.subplots(1, 2)\n",
    "fig.set_figwidth(20)\n",
    "fig.set_figheight(10)\n",
    "ax[0].plot(word_insertion_penalty, wer, marker='o')\n",
    "ax[0].set_title(\"WER(word_insertion_penalty)\")\n",
    "ax[0].grid()\n",
    "ax[1].plot(word_insertion_penalty, decode_time, marker='o')\n",
    "ax[1].set_title(\"Decode time(word_insertion_penalty)\")\n",
    "ax[1].grid()\n",
    "\n",
    "\n",
    "plt.show()"
   ]
  },
  {
   "cell_type": "code",
   "execution_count": 156,
   "id": "a8008757",
   "metadata": {},
   "outputs": [
    {
     "data": {
      "text/plain": [
       "array([0.01, 0.12, 0.23, 0.34, 0.45, 0.56, 0.67, 0.78, 0.89, 1.  ])"
      ]
     },
     "execution_count": 156,
     "metadata": {},
     "output_type": "execute_result"
    }
   ],
   "source": [
    "word_insertion_penalty"
   ]
  },
  {
   "cell_type": "markdown",
   "id": "523c3d12",
   "metadata": {},
   "source": [
    "Зависимость от beam_size"
   ]
  },
  {
   "cell_type": "code",
   "execution_count": 157,
   "id": "7ddf9585",
   "metadata": {},
   "outputs": [
    {
     "name": "stderr",
     "output_type": "stream",
     "text": [
      "Loading the LM will be faster if you build a binary file.\n",
      "Reading /Users/anastasiazorkina/Desktop/master_2_year/asr_itmo_practice-master/resources/lab4/3gram.arpa\n",
      "----5---10---15---20---25---30---35---40---45---50---55---60---65---70---75---80---85---90---95--100\n",
      "The ARPA file is missing <unk>.  Substituting log10 probability -100.\n",
      "****************************************************************************************************\n"
     ]
    },
    {
     "data": {
      "application/vnd.jupyter.widget-view+json": {
       "model_id": "c0b4a63e17c14bb28e480b7831747a6d",
       "version_major": 2,
       "version_minor": 0
      },
      "text/plain": [
       "  0%|          | 0/198 [00:00<?, ?it/s]"
      ]
     },
     "metadata": {},
     "output_type": "display_data"
    },
    {
     "name": "stdout",
     "output_type": "stream",
     "text": [
      "Found 1 hypotheses\n"
     ]
    },
    {
     "data": {
      "application/vnd.jupyter.widget-view+json": {
       "model_id": "1f6e7fa7dfed4778a52887b4271dd1d9",
       "version_major": 2,
       "version_minor": 0
      },
      "text/plain": [
       "  0%|          | 0/198 [00:00<?, ?it/s]"
      ]
     },
     "metadata": {},
     "output_type": "display_data"
    },
    {
     "name": "stdout",
     "output_type": "stream",
     "text": [
      "Found 1 hypotheses\n"
     ]
    },
    {
     "data": {
      "application/vnd.jupyter.widget-view+json": {
       "model_id": "e1daebf72fc945a8b736e550181bf7d7",
       "version_major": 2,
       "version_minor": 0
      },
      "text/plain": [
       "  0%|          | 0/198 [00:00<?, ?it/s]"
      ]
     },
     "metadata": {},
     "output_type": "display_data"
    },
    {
     "name": "stdout",
     "output_type": "stream",
     "text": [
      "Found 1 hypotheses\n"
     ]
    },
    {
     "data": {
      "application/vnd.jupyter.widget-view+json": {
       "model_id": "81a81f0230e7483bac06af9c48d191f9",
       "version_major": 2,
       "version_minor": 0
      },
      "text/plain": [
       "  0%|          | 0/198 [00:00<?, ?it/s]"
      ]
     },
     "metadata": {},
     "output_type": "display_data"
    },
    {
     "name": "stdout",
     "output_type": "stream",
     "text": [
      "Found 1 hypotheses\n"
     ]
    },
    {
     "data": {
      "application/vnd.jupyter.widget-view+json": {
       "model_id": "fbdc80876761476aae39be8df8c9c7f2",
       "version_major": 2,
       "version_minor": 0
      },
      "text/plain": [
       "  0%|          | 0/198 [00:00<?, ?it/s]"
      ]
     },
     "metadata": {},
     "output_type": "display_data"
    },
    {
     "name": "stdout",
     "output_type": "stream",
     "text": [
      "Found 2 hypotheses\n"
     ]
    },
    {
     "data": {
      "application/vnd.jupyter.widget-view+json": {
       "model_id": "cc9e6bba45c4486c9564b3b664feee83",
       "version_major": 2,
       "version_minor": 0
      },
      "text/plain": [
       "  0%|          | 0/198 [00:00<?, ?it/s]"
      ]
     },
     "metadata": {},
     "output_type": "display_data"
    },
    {
     "name": "stdout",
     "output_type": "stream",
     "text": [
      "Found 1 hypotheses\n"
     ]
    },
    {
     "data": {
      "application/vnd.jupyter.widget-view+json": {
       "model_id": "42a5d164f2c44497b773acfc2731357e",
       "version_major": 2,
       "version_minor": 0
      },
      "text/plain": [
       "  0%|          | 0/198 [00:00<?, ?it/s]"
      ]
     },
     "metadata": {},
     "output_type": "display_data"
    },
    {
     "name": "stdout",
     "output_type": "stream",
     "text": [
      "Found 1 hypotheses\n"
     ]
    },
    {
     "data": {
      "application/vnd.jupyter.widget-view+json": {
       "model_id": "455c5a0ae0dd400a8cc325c69c4789b2",
       "version_major": 2,
       "version_minor": 0
      },
      "text/plain": [
       "  0%|          | 0/198 [00:00<?, ?it/s]"
      ]
     },
     "metadata": {},
     "output_type": "display_data"
    },
    {
     "name": "stdout",
     "output_type": "stream",
     "text": [
      "Found 1 hypotheses\n"
     ]
    },
    {
     "data": {
      "application/vnd.jupyter.widget-view+json": {
       "model_id": "667a8d1f16d945b6895a64e837340526",
       "version_major": 2,
       "version_minor": 0
      },
      "text/plain": [
       "  0%|          | 0/198 [00:00<?, ?it/s]"
      ]
     },
     "metadata": {},
     "output_type": "display_data"
    },
    {
     "name": "stdout",
     "output_type": "stream",
     "text": [
      "Found 1 hypotheses\n"
     ]
    },
    {
     "data": {
      "application/vnd.jupyter.widget-view+json": {
       "model_id": "fb372b2bbd3a437f9ea1f8498a7e1678",
       "version_major": 2,
       "version_minor": 0
      },
      "text/plain": [
       "  0%|          | 0/198 [00:00<?, ?it/s]"
      ]
     },
     "metadata": {},
     "output_type": "display_data"
    },
    {
     "name": "stdout",
     "output_type": "stream",
     "text": [
      "Found 1 hypotheses\n"
     ]
    }
   ],
   "source": [
    "lmwt_factors = 0.6 #beast from prev step according to min time and min wer\n",
    "stay_in_silence_penalty = 0.56 #beast from prev step according to min time and min wer\n",
    "word_insertion_penalty = 0.67 #beast from prev step according to min time and min wer\n",
    "beams = np.linspace(1, 10, 10).astype(int)\n",
    "\n",
    "wer = np.zeros((len(beams)))\n",
    "decode_time = np.zeros((len(beams)))\n",
    "lm = kenlmLikeWFST(kenlm.LanguageModel('resources/lab4/3gram.arpa'), lmwt_factor=lmwt_factor)\n",
    "\n",
    "for i, b in enumerate(beams):\n",
    "    \n",
    "    l_fst = create_Lwfst_from_file(stay_in_silence_penalty=stay_in_silence_penalty, word_insertion_penalty=word_insertion_penalty)\n",
    "    ASR = BeamSearcher(am2phone_mapping=AM_PHONES, graph=OnTheFlyCompose([h_fst, l_fst, lm]), beam_size=b)    \n",
    "    cur_start = time.time()\n",
    "    hyp = ASR.decode(example)\n",
    "    cur_decode_time = time.time() - cur_start\n",
    "    cur_wer = jiwer.wer(example_ref, ' '.join(hyp.words))\n",
    "    wer[i] = cur_wer \n",
    "    decode_time[i] = cur_decode_time"
   ]
  },
  {
   "cell_type": "code",
   "execution_count": 158,
   "id": "4ce5b428",
   "metadata": {},
   "outputs": [
    {
     "data": {
      "image/png": "[encoded data removed]",
      "text/plain": [
       "<Figure size 2000x1000 with 2 Axes>"
      ]
     },
     "metadata": {},
     "output_type": "display_data"
    }
   ],
   "source": [
    "fig, ax = plt.subplots(1, 2)\n",
    "fig.set_figwidth(20)\n",
    "fig.set_figheight(10)\n",
    "ax[0].plot(beams, wer, marker='o')\n",
    "ax[0].set_title(\"WER(beam_size)\")\n",
    "ax[0].grid()\n",
    "ax[1].plot(beams, decode_time, marker='o')\n",
    "ax[1].set_title(\"Decode time(beam_size)\")\n",
    "ax[1].grid()\n",
    "\n",
    "\n",
    "plt.show()"
   ]
  },
  {
   "cell_type": "markdown",
   "id": "58d289d9",
   "metadata": {},
   "source": [
    "Результат с найденными лучшими параметрами"
   ]
  },
  {
   "cell_type": "code",
   "execution_count": 159,
   "id": "fd962b32",
   "metadata": {},
   "outputs": [
    {
     "name": "stderr",
     "output_type": "stream",
     "text": [
      "Loading the LM will be faster if you build a binary file.\n",
      "Reading /Users/anastasiazorkina/Desktop/master_2_year/asr_itmo_practice-master/resources/lab4/3gram.arpa\n",
      "----5---10---15---20---25---30---35---40---45---50---55---60---65---70---75---80---85---90---95--100\n",
      "The ARPA file is missing <unk>.  Substituting log10 probability -100.\n",
      "****************************************************************************************************\n"
     ]
    },
    {
     "data": {
      "application/vnd.jupyter.widget-view+json": {
       "model_id": "11e25b7b27324d58bbd3003e821f6cc9",
       "version_major": 2,
       "version_minor": 0
      },
      "text/plain": [
       "  0%|          | 0/198 [00:00<?, ?it/s]"
      ]
     },
     "metadata": {},
     "output_type": "display_data"
    },
    {
     "name": "stdout",
     "output_type": "stream",
     "text": [
      "Found 1 hypotheses\n",
      "WER:  0.09090909090909091\n",
      "Decode time:  4.830410003662109\n"
     ]
    }
   ],
   "source": [
    "# Best params from prev steps according to min time and min wer\n",
    "lmwt_factors = 0.6 \n",
    "stay_in_silence_penalty = 0.56 \n",
    "word_insertion_penalty = 0.67 \n",
    "beam = 6 \n",
    "\n",
    "lm = kenlmLikeWFST(kenlm.LanguageModel('resources/lab4/3gram.arpa'), lmwt_factor=lmwt_factor)\n",
    "l_fst = create_Lwfst_from_file(stay_in_silence_penalty=stay_in_silence_penalty, word_insertion_penalty=word_insertion_penalty)\n",
    "ASR = BeamSearcher(am2phone_mapping=AM_PHONES, graph=OnTheFlyCompose([h_fst, l_fst, lm]), beam_size=beam)    \n",
    "cur_start = time.time()\n",
    "hyp = ASR.decode(example)\n",
    "cur_decode_time = time.time() - cur_start\n",
    "cur_wer = jiwer.wer(example_ref, ' '.join(hyp.words))\n",
    "\n",
    "print(\"WER: \", cur_wer)\n",
    "print(\"Decode time: \", cur_decode_time)"
   ]
  },
  {
   "cell_type": "markdown",
   "id": "654550e1-7c49-4008-94f5-60ae6d3b334c",
   "metadata": {},
   "source": [
    "# Дополнительное задание (2 балла)\n",
    "Декодируйте всю коллекцию am_nlogprobs с подобраными ранее параметрами и посчитайте WER на этой выборке\n"
   ]
  },
  {
   "cell_type": "code",
   "execution_count": null,
   "id": "35a85ca6-a620-4828-abc7-721df929452e",
   "metadata": {},
   "outputs": [],
   "source": [
    "#TODO"
   ]
  }
 ],
 "metadata": {
  "kernelspec": {
   "display_name": "Python 3 (ipykernel)",
   "language": "python",
   "name": "python3"
  },
  "language_info": {
   "codemirror_mode": {
    "name": "ipython",
    "version": 3
   },
   "file_extension": ".py",
   "mimetype": "text/x-python",
   "name": "python",
   "nbconvert_exporter": "python",
   "pygments_lexer": "ipython3",
   "version": "3.9.16"
  }
 },
 "nbformat": 4,
 "nbformat_minor": 5
}
